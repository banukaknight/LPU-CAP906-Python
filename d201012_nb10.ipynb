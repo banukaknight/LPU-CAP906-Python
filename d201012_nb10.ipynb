{
 "cells": [
  {
   "cell_type": "code",
   "execution_count": null,
   "metadata": {},
   "outputs": [],
   "source": [
    "##d20-10-12 #file handling"
   ]
  },
  {
   "cell_type": "code",
   "execution_count": null,
   "metadata": {},
   "outputs": [],
   "source": [
    "#     open() take 2 param. file-name & mode\n",
    "#     modes:\n",
    "#     \"r\" - Read - Default value. Opens a file for reading, error if the file does not exist\n",
    "#     \"a\" - Append - Opens a file for appending, creates the file if it does not exist\n",
    "#     \"w\" - Write - Opens a file for writing, creates the file if it does not exist\n",
    "#     \"x\" - Create - Creates the specified file, returns an error if the file exists\n",
    "\n",
    "#     In addition you can specify if the file should be handled as binary or text mode\n",
    "#     \"t\" - Text - Default value. Text mode\n",
    "#     \"b\" - Binary - Binary mode (e.g. images)\n",
    "\n",
    "#     syntax:\n",
    "#     f = open(\"demofile.txt\") ... same as\n",
    "#     f = open(\"demofile.txt\", \"rt\")\n",
    "\n",
    "#     The open() function returns a file object, which has a read() method for reading the content of the file:\n",
    "\n",
    "#     f = open(\"D:\\\\myfiles\\welcome.txt\", \"r\")\n",
    "#     print(f.read())\n",
    "\n",
    "#     f = open(\"demofile.txt\", \"r\")\n",
    "#     print(f.read(5)) #specify how many char to return\n",
    "#     print(f.readline()) #read single line\n",
    "#     print(f.readline()) #read next line...\n",
    "\n",
    "#     f = open(\"demofile.txt\", \"r\")\n",
    "#     for x in f:  #read line by line\n",
    "#       print(x) \n",
    "#     f.close() #close file after done\n",
    "\n",
    "#     -----------\n",
    "#     f = open(\"demofile2.txt\", \"a\")  #open to appen to file\n",
    "#     f.write(\"Now the file has more content!\")\n",
    "#     f.close()\n",
    "\n",
    "#     #open and read the file after the appending:\n",
    "#     f = open(\"demofile2.txt\", \"r\")\n",
    "#     print(f.read())\n",
    "#     ---------\n",
    "#     f = open(\"demofile3.txt\", \"w\")  #this will delete all data & start new\n",
    "#     f.write(\"Woops! I have deleted the content!\")\n",
    "#     f.close()\n",
    "\n",
    "#     #open and read the file after the appending:\n",
    "#     f = open(\"demofile3.txt\", \"r\")\n",
    "#     print(f.read())\n",
    "#     ---------\n",
    "#     ##### craete file\n",
    "#     f = open(\"myfile.txt\", \"x\")  #Create a file called \"myfile.txt\":\n",
    "#     f = open(\"myfile.txt\", \"w\")  #Create a new file if it does not exist or clear data on exisiting 1:\n",
    "#     f = open(\"myfile.txt\", \"a\")  #append OR Create a new file if it does not exist\n",
    "#     ------------\n",
    "#     ###### delete file\n",
    "#     --To delete a file, you must import the OS module, and run its os.remove() function\n",
    "#     import os\n",
    "#     os.remove(\"demofile.txt\")\n",
    "#     ---- check if file exisit\n",
    "#     import os\n",
    "#     if os.path.exists(\"demofile.txt\"):\n",
    "#       os.remove(\"demofile.txt\")\n",
    "#     else:\n",
    "#       print(\"The file does not exist\")\n",
    "#     ------ delete folder (only empty folder work)\n",
    "#     import os\n",
    "#     os.rmdir(\"myfolder\")"
   ]
  },
  {
   "cell_type": "code",
   "execution_count": null,
   "metadata": {},
   "outputs": [],
   "source": [
    "f = open(\"myfile_1.txt\", \"a\")\n",
    "for i in range (3):\n",
    "    f.write(str(i)+\"- Write line for first tile via python.\\n\")\n"
   ]
  },
  {
   "cell_type": "code",
   "execution_count": null,
   "metadata": {},
   "outputs": [],
   "source": [
    "f = open(\"myfile3.txt\", \"x\")\n",
    "\n",
    "ff = open(\"myfile3.txt\", \"r\")\n",
    "\n",
    "f.close()\n",
    "ff.close()\n",
    "print(\"finsihed\")"
   ]
  },
  {
   "cell_type": "code",
   "execution_count": 4,
   "metadata": {},
   "outputs": [
    {
     "name": "stdout",
     "output_type": "stream",
     "text": [
      "Enter file name with extention: myfile3.txt\n",
      "The file exisits. contents found:\n",
      "\n",
      "\n",
      "Enter new name for file: newfile.txt\n"
     ]
    }
   ],
   "source": [
    "#rename file\n",
    "#os.rename(r'file path\\OLD file name.file type',r'file path\\NEW file name.file type')\n",
    "#os.rename('guru99.txt','career.guru99.txt') \n",
    "\n",
    "import os\n",
    "fname = input(\"Enter file name with extention: \")  #try myfile2.txt\n",
    "\n",
    "if os.path.exists(fname):\n",
    "    f = open(fname, \"r\")\n",
    "    print(\"The file exisits. contents found:\")\n",
    "    print(f.read())\n",
    "    f.close()\n",
    "    #rename\n",
    "    newname = input(\"\\nEnter new name for file: \") \n",
    "    os.rename(fname,newname) \n",
    "else:\n",
    "    print(\"The file does not exist\",fname)"
   ]
  },
  {
   "cell_type": "code",
   "execution_count": null,
   "metadata": {},
   "outputs": [],
   "source": []
  }
 ],
 "metadata": {
  "kernelspec": {
   "display_name": "Python 3",
   "language": "python",
   "name": "python3"
  },
  "language_info": {
   "codemirror_mode": {
    "name": "ipython",
    "version": 3
   },
   "file_extension": ".py",
   "mimetype": "text/x-python",
   "name": "python",
   "nbconvert_exporter": "python",
   "pygments_lexer": "ipython3",
   "version": "3.7.4"
  }
 },
 "nbformat": 4,
 "nbformat_minor": 2
}
