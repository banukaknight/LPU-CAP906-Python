{
 "cells": [
  {
   "cell_type": "markdown",
   "metadata": {},
   "source": [
    "# new week #d201005 #functions"
   ]
  },
  {
   "cell_type": "code",
   "execution_count": 1,
   "metadata": {},
   "outputs": [
    {
     "name": "stdout",
     "output_type": "stream",
     "text": [
      "{'name': 'LENOVO', 'year': 2020, 'config': 'I7'}\n"
     ]
    }
   ],
   "source": [
    "# Introduction of Functions - creating a function in Python\n",
    "\n",
    "#1. Definition of function - line no. 8\n",
    "#2. Body part of function  - line no. 9\n",
    "#3. Calling of function - line no. 11\n",
    "\n",
    "\n",
    "def myfunction(): # to define a function in the program, empty paranthesis means, this function will not take any arguments\n",
    "    print(\"This is my first fun\") # statement to be execute - while the function is called\n",
    "\n",
    "myfunction() # to call a user defined function at line no. 3\n"
   ]
  },
  {
   "cell_type": "code",
   "execution_count": null,
   "metadata": {},
   "outputs": [],
   "source": [
    "# Introduction of Functions - creating a function in Python with arguments\n",
    "\n",
    "#1. Definition of function with one argument - line no. 8\n",
    "#2. Body part of function  - line no. 9\n",
    "#3. Calling of function with one argument - line no. 11\n",
    "\n",
    "\n",
    "def myfunction(var): # to define a function in the program, var in paranthesis means, this function will take one argument\n",
    "    print(\"This is my first fun,\",var) # statement to be execute - while the function is called\n",
    "\n",
    "var=input(\"Please enter your name!\") # input for function argument\n",
    "myfunction(var) # to call a user defined function at line no. 3\n"
   ]
  },
  {
   "cell_type": "code",
   "execution_count": null,
   "metadata": {},
   "outputs": [],
   "source": [
    "# Introduction of Functions - calling statement of function must match with function definition Python\n",
    "\n",
    "#1. Definition of function with one argument - line no. 8\n",
    "#2. Body part of function  - line no. 9\n",
    "#3. Calling of function with one argument - line no. 11\n",
    "\n",
    "\n",
    "def myfunction(var): # to define a function in the program, var in paranthesis means, this function will take one argument\n",
    "    print(\"This is my first fun,\",var) # statement to be execute - while the function is called\n",
    "\n",
    "var=input(\"Please enter your name!\") # input for function argument\n",
    "myfunction(var) #this should generate error, call of user defined function must match with function definition\n",
    "\n",
    "myfunction() #this should generate error, call of user defined function must match with function definition\n"
   ]
  },
  {
   "cell_type": "code",
   "execution_count": 1,
   "metadata": {},
   "outputs": [
    {
     "name": "stdout",
     "output_type": "stream",
     "text": [
      "Enter number1:3\n",
      "Enter number2:4\n",
      "Sum of two numbers is 7\n"
     ]
    }
   ],
   "source": [
    "# Introduction of Functions - to add two numbers and print the result with RETURN\n",
    "\n",
    "# program to add two numbers with the help of function\n",
    "\n",
    "def myfunction(var1, var2): # function to add two numbs, var1 and var2\n",
    "    return var1+var2 # addition of two numbers\n",
    "\n",
    "var1=int(input(\"Enter number1:\")) # input for function argument-1\n",
    "var2=int(input(\"Enter number2:\")) # input for function argument-2\n",
    "\n",
    "print(\"Sum of two numbers is\",myfunction(var1,var2)) #call of user defined function to add two numbers"
   ]
  },
  {
   "cell_type": "code",
   "execution_count": 4,
   "metadata": {},
   "outputs": [
    {
     "name": "stdout",
     "output_type": "stream",
     "text": [
      "Enter number1:2\n",
      "Enter number2:3\n",
      "Enter number3:5\n",
      "Enter number4:6\n",
      "Enter number5:1\n",
      "type : <class 'tuple'>\n",
      "Sum of five numbers is 17\n"
     ]
    }
   ],
   "source": [
    "# Introduction of Functions - to add n numbers and print the result with RETURN\n",
    "# program to add two numbers with the help of function\n",
    "# * is used to define arbitary arguments\n",
    "\n",
    "def myfunction(*MasterVariable): # function to add n numbers with the help of arbitary variables\n",
    "    ## perform addition\n",
    "    print(\"type :\", type(MasterVariable)) //it's a tuple\n",
    "    summ=0\n",
    "    for i in range(0,len(MasterVariable)):\n",
    "        summ=summ+MasterVariable[i]\n",
    "    return summ\n",
    "    \n",
    "var1=int(input(\"Enter number1:\")) # input for function argument-1\n",
    "var2=int(input(\"Enter number2:\")) # input for function argument-2\n",
    "var3=int(input(\"Enter number3:\")) # input for function argument-3\n",
    "var4=int(input(\"Enter number4:\")) # input for function argument-4\n",
    "var5=int(input(\"Enter number5:\")) # input for function argument-5\n",
    "\n",
    "\n",
    "print(\"Sum of five numbers is\",myfunction(var1,var2,var3,var4,var5)) #call of user defined function to add two numbers"
   ]
  },
  {
   "cell_type": "code",
   "execution_count": null,
   "metadata": {},
   "outputs": [],
   "source": [
    "#empty body - function - using pass\n",
    "def myfunc():\n",
    "    pass #skip execution. works like return null\n",
    "\n",
    "myfunc() #call func"
   ]
  },
  {
   "cell_type": "code",
   "execution_count": 13,
   "metadata": {},
   "outputs": [
    {
     "name": "stdout",
     "output_type": "stream",
     "text": [
      "Enter number to find factorial of: -1\n",
      "number should be larger than 0\n",
      "None\n"
     ]
    }
   ],
   "source": [
    "#d201008 - factorial - func with return val\n",
    "\n",
    "def getFactorial(num):\n",
    "    if(num<0):\n",
    "        print(\"number should be larger than 0\")\n",
    "        return\n",
    "    count = 1\n",
    "    fact = 1\n",
    "    for count in range (1,num+1):\n",
    "        fact *= count\n",
    "    return fact\n",
    "\n",
    "digit = int(input(\"Enter number to find factorial of: \"))\n",
    "print(getFactorial(digit))"
   ]
  },
  {
   "cell_type": "code",
   "execution_count": 26,
   "metadata": {},
   "outputs": [
    {
     "name": "stdout",
     "output_type": "stream",
     "text": [
      "Enter number to find factorial of: -4\n",
      "Num should be larger than 0\n",
      "None\n"
     ]
    }
   ],
   "source": [
    "##- factorial - with recursion\n",
    "def facto(num):\n",
    "    if(num<0):\n",
    "        print(\"Num should be larger than 0\")\n",
    "        return\n",
    "    if(num>1):\n",
    "        return (num) * facto(num-1)\n",
    "    else:\n",
    "        return 1\n",
    "    \n",
    "digit = int(input(\"Enter number to find factorial of: \"))    \n",
    "print(facto(digit))"
   ]
  },
  {
   "cell_type": "code",
   "execution_count": null,
   "metadata": {},
   "outputs": [],
   "source": []
  }
 ],
 "metadata": {
  "kernelspec": {
   "display_name": "Python 3",
   "language": "python",
   "name": "python3"
  },
  "language_info": {
   "codemirror_mode": {
    "name": "ipython",
    "version": 3
   },
   "file_extension": ".py",
   "mimetype": "text/x-python",
   "name": "python",
   "nbconvert_exporter": "python",
   "pygments_lexer": "ipython3",
   "version": "3.7.4"
  }
 },
 "nbformat": 4,
 "nbformat_minor": 2
}
