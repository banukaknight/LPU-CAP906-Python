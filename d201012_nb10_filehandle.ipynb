{
 "cells": [
  {
   "cell_type": "code",
   "execution_count": null,
   "metadata": {},
   "outputs": [],
   "source": [
    "##d20-10-12 #file handling"
   ]
  },
  {
   "cell_type": "code",
   "execution_count": null,
   "metadata": {},
   "outputs": [],
   "source": [
    "#     open() take 2 param. file-name & mode\n",
    "#     modes:\n",
    "#     \"r\" - Read - Default value. Opens a file for reading, error if the file does not exist\n",
    "#     \"a\" - Append - Opens a file for appending, creates the file if it does not exist\n",
    "#     \"w\" - Write - Opens a file for writing, creates the file if it does not exist\n",
    "#     \"x\" - Create - Creates the specified file, returns an error if the file exists\n",
    "\n",
    "#     In addition you can specify if the file should be handled as binary or text mode\n",
    "#     \"t\" - Text - Default value. Text mode\n",
    "#     \"b\" - Binary - Binary mode (e.g. images)\n",
    "\n",
    "#     syntax:\n",
    "#     f = open(\"demofile.txt\") ... same as\n",
    "#     f = open(\"demofile.txt\", \"rt\")\n",
    "\n",
    "#     The open() function returns a file object, which has a read() method for reading the content of the file:\n",
    "\n",
    "#     f = open(\"D:\\\\myfiles\\welcome.txt\", \"r\")\n",
    "#     print(f.read())\n",
    "\n",
    "#     f = open(\"demofile.txt\", \"r\")\n",
    "#     print(f.read(5)) #specify how many char to return\n",
    "#     print(f.readline()) #read single line\n",
    "#     print(f.readline()) #read next line...\n",
    "\n",
    "#     f = open(\"demofile.txt\", \"r\")\n",
    "#     for x in f:  #read line by line\n",
    "#       print(x) \n",
    "#     f.close() #close file after done\n",
    "\n",
    "#     -----------\n",
    "#     f = open(\"demofile2.txt\", \"a\")  #open to appen to file\n",
    "#     f.write(\"Now the file has more content!\")\n",
    "#     f.close()\n",
    "\n",
    "#     #open and read the file after the appending:\n",
    "#     f = open(\"demofile2.txt\", \"r\")\n",
    "#     print(f.read())\n",
    "#     ---------\n",
    "#     f = open(\"demofile3.txt\", \"w\")  #this will delete all data & start new\n",
    "#     f.write(\"Woops! I have deleted the content!\")\n",
    "#     f.close()\n",
    "\n",
    "#     #open and read the file after the appending:\n",
    "#     f = open(\"demofile3.txt\", \"r\")\n",
    "#     print(f.read())\n",
    "#     ---------\n",
    "#     ##### craete file\n",
    "#     f = open(\"myfile.txt\", \"x\")  #Create a file called \"myfile.txt\":\n",
    "#     f = open(\"myfile.txt\", \"w\")  #Create a new file if it does not exist or clear data on exisiting 1:\n",
    "#     f = open(\"myfile.txt\", \"a\")  #append OR Create a new file if it does not exist\n",
    "#     ------------\n",
    "#     ###### delete file\n",
    "#     --To delete a file, you must import the OS module, and run its os.remove() function\n",
    "#     import os\n",
    "#     os.remove(\"demofile.txt\")\n",
    "#     ---- check if file exisit\n",
    "#     import os\n",
    "#     if os.path.exists(\"demofile.txt\"):\n",
    "#       os.remove(\"demofile.txt\")\n",
    "#     else:\n",
    "#       print(\"The file does not exist\")\n",
    "#     ------ delete folder (only empty folder work)\n",
    "#     import os\n",
    "#     os.rmdir(\"myfolder\")\n",
    "#------ create new folder (directory)\n",
    "#     import os\n",
    "#     os.mkdir(\"nwwwfolder\")\n",
    "# ---- check if path(directory) exisits\n",
    "#     import os\n",
    "#     if os.path.isdir(\"MyFolder\"):\n",
    "#       print(\"The folder exist\")\n",
    "#     else:\n",
    "#       print(\"The folder does not exist\")\n",
    "#------------ rename file\n",
    "# if os.path.exists(oldname): # to check the existence of file with old name\n",
    "#     print(\"File exists!\")\n",
    "#     newname=input(\"Enter the new name of file:\")\n",
    "#     os.rename(oldname,newname) #rename file with new name\n",
    "#------- get list of all files in directory\n",
    "# temp= os.listdir(\"MyFolder\") \n",
    "# =====================================\n",
    "# ============= NORMAL\n",
    "# for line in open(\"myfile.txt\"):\n",
    "#     print(line, end=\"\")\n",
    "# +++++++++++++ WITH keyworkd, does cleanup... automatically close file\n",
    "# with open(\"myfile.txt\") as f:\n",
    "#     for line in f:\n",
    "#         print(line, end=\"\")\n",
    "    "
   ]
  },
  {
   "cell_type": "code",
   "execution_count": 1,
   "metadata": {},
   "outputs": [],
   "source": [
    "f = open(\"myfile_1.txt\", \"a\")\n",
    "for i in range (3):\n",
    "    f.write(str(i)+\"- Write line for first tile via python.\\n\")\n"
   ]
  },
  {
   "cell_type": "code",
   "execution_count": null,
   "metadata": {},
   "outputs": [],
   "source": [
    "f = open(\"myfile3.txt\", \"x\")\n",
    "\n",
    "ff = open(\"myfile3.txt\", \"r\")\n",
    "\n",
    "f.close()\n",
    "ff.close()\n",
    "print(\"finsihed\")"
   ]
  },
  {
   "cell_type": "code",
   "execution_count": 4,
   "metadata": {},
   "outputs": [
    {
     "name": "stdout",
     "output_type": "stream",
     "text": [
      "Enter file name with extention: myfile3.txt\n",
      "The file exisits. contents found:\n",
      "\n",
      "\n",
      "Enter new name for file: newfile.txt\n"
     ]
    }
   ],
   "source": [
    "#rename file\n",
    "#os.rename(r'file path\\OLD file name.file type',r'file path\\NEW file name.file type')\n",
    "#os.rename('guru99.txt','career.guru99.txt') \n",
    "\n",
    "import os\n",
    "fname = input(\"Enter file name with extention: \")  #try myfile2.txt\n",
    "\n",
    "if os.path.exists(fname):\n",
    "    f = open(fname, \"r\")\n",
    "    print(\"The file exisits. contents found:\")\n",
    "    print(f.read())\n",
    "    f.close()\n",
    "    #rename\n",
    "    newname = input(\"\\nEnter new name for file: \") \n",
    "    os.rename(fname,newname) \n",
    "else:\n",
    "    print(\"The file does not exist\",fname)"
   ]
  },
  {
   "cell_type": "code",
   "execution_count": null,
   "metadata": {},
   "outputs": [],
   "source": [
    "#Introduction to file handling - 1. How to set the current file pointer (seek)\n",
    "import os # OS module carrying various features related to operations concerned with operating system\n",
    "\n",
    "if os.path.exists(\"MyFolder/myfile.txt\"): # to check the existence of file\n",
    "    print(\"File exists!\")\n",
    "    \n",
    "    with open(\"Myfolder/myfile.txt\",\"rt\") as f:# file to be opened from different then default location where notebook file is saved.\n",
    "        print(\"default:\", f.read()) # we can use read method for reading the complete contents of the file\n",
    "        \n",
    "        f.seek(5) # to change the current position of file pointer to 5\n",
    "        print(\"modified:\", f.read()) # to read the contents from new location of file pointer\n",
    "        f.close() # to close file\n",
    "    \n",
    "else:\n",
    "    print(\"File does not exist!\")\n"
   ]
  },
  {
   "cell_type": "code",
   "execution_count": 1,
   "metadata": {},
   "outputs": [
    {
     "name": "stdout",
     "output_type": "stream",
     "text": [
      "File exists!\n",
      "Default Pointer location 0\n",
      "default: hello world randok\n",
      "text \n",
      "here\n",
      "Modified Pointer location 5\n",
      "modified:  world randok\n",
      "text \n",
      "here\n"
     ]
    }
   ],
   "source": [
    "#Introduction to file handling - 1. How to get the current file pointer (tell)\n",
    "import os # OS module carrying various features related to operations concerned with operating system\n",
    "\n",
    "if os.path.exists(\"MyFolder/myfile.txt\"): # to check the existence of file\n",
    "    print(\"File exists!\")\n",
    "    \n",
    "    with open(\"Myfolder/myfile.txt\",\"rt\") as f:# file to be opened from different then default location where notebook file is saved.\n",
    "        print(\"Default Pointer location\",f.tell()) # to fetch current location of pointer, default one\n",
    "        print(\"default:\", f.read()) # we can use read method for reading the complete contents of the file\n",
    "        \n",
    "        f.seek(5) # to change the current position of file pointer to 5\n",
    "        print(\"Modified Pointer location\",f.tell()) # to fetch current location of pointer, modified one\n",
    "        print(\"modified:\", f.read()) # to read the contents from new location of file pointer\n",
    "        f.close() # to close file\n",
    "    \n",
    "else:\n",
    "    print(\"File does not exist!\")\n"
   ]
  },
  {
   "cell_type": "code",
   "execution_count": 2,
   "metadata": {},
   "outputs": [
    {
     "name": "stdout",
     "output_type": "stream",
     "text": [
      "File does not exist!\n"
     ]
    }
   ],
   "source": [
    "#Introduction to file handling - 1. How to set the current file pointer (seek)\n",
    "import os # OS module carrying various features related to operations concerned with operating system\n",
    "\n",
    "if os.path.exists(\"MyFolder/myfile.txt\"): # to check the existence of file\n",
    "    print(\"File exists!\")\n",
    "    \n",
    "    with open(\"Myfolder/myfile.txt\",\"rt\") as f:# file to be opened from different then default location where notebook file is saved.\n",
    "        #f.seek(-5) # must be a positve number , this will generate an error\n",
    "        print(f.read()) # to read the contents from new location of file pointer\n",
    "        f.close() # to close file\n",
    "    \n",
    "else:\n",
    "    print(\"File does not exist!\")\n"
   ]
  },
  {
   "cell_type": "code",
   "execution_count": 1,
   "metadata": {},
   "outputs": [
    {
     "name": "stdout",
     "output_type": "stream",
     "text": [
      "No. of files in folder are 3\n",
      "Details of files are ['mtf1.txt', 'myf6.txt', 'richf1.rtf']\n"
     ]
    }
   ],
   "source": [
    "#Introduction to file handling - 1. How to fetch the list of files in directory/folder\n",
    "import os # OS module carrying various features related to operations concerned with operating system\n",
    "\n",
    "temp= os.listdir(\"MyFolder\") # to list all the files in directory\n",
    "print(\"No. of files in folder are\", len(temp)) # count of files in folder\n",
    "print(\"Details of files are\",temp) # print the name of files\n",
    "#print(type(temp))\n",
    "   "
   ]
  },
  {
   "cell_type": "code",
   "execution_count": null,
   "metadata": {},
   "outputs": [
    {
     "name": "stdout",
     "output_type": "stream",
     "text": [
      "No. of files in folder are 4\n",
      "Details of files are ['20-10-20 00-09-03.png', 'mtf1.txt', 'myf6.txt', 'richf1.rtf']\n",
      "\n",
      "List of only text files in directory: ['mtf1.txt', 'myf6.txt']\n"
     ]
    }
   ],
   "source": [
    "#Introduction to file handling - 1. How to fetch only text files in directory/folder\n",
    "import os # OS module carrying various features related to operations concerned with operating system\n",
    "\n",
    "temp= os.listdir(\"MyFolder\") # to list all the files in directory\n",
    "print(\"No. of files in folder are\", len(temp)) # count of files in folder\n",
    "print(\"Details of files are\",temp) # print the name of files\n",
    "#print(type(temp))\n",
    "temp2 = list(temp)\n",
    "for i in temp:\n",
    "    if i[-4:] != \".txt\":\n",
    "        temp.remove(i)\n",
    "        \n",
    "print(\"\\nList of only text files in directory:\", temp)\n",
    "\n",
    "#------- dynamically accept extention\n",
    "extt = input(\"Enter extention of file type to seek: \")\n",
    "#get input's length, add 1 to count dot (ex: .txt and mult by* -1)\n",
    "xlen = (len(extt)+1) * (-1) \n",
    "\n",
    "for i in temp2:\n",
    "    if i[xlen:] != \".\"+extt:\n",
    "        temp2.remove(i)\n",
    "        \n",
    "        ##to remove files of this extention.. can use os.remove here.. with foldername/\n",
    "\n",
    "print(\"\\nList of only\",extt, \"files in directory:\", temp2) "
   ]
  },
  {
   "cell_type": "code",
   "execution_count": null,
   "metadata": {},
   "outputs": [],
   "source": [
    "#fname = input(\"Enter file name: \")\n",
    "fh = open('romeo.txt')\n",
    "lst = list()\n",
    "for line in fh:\n",
    "    linewords = line.rstrip().split()\n",
    "    for word in linewords:\n",
    "        if word not in lst:\n",
    "            lst.append(word)\n",
    "lst.sort()            \n",
    "print(lst)"
   ]
  },
  {
   "cell_type": "code",
   "execution_count": 11,
   "metadata": {},
   "outputs": [
    {
     "name": "stdout",
     "output_type": "stream",
     "text": [
      "File exists!\n",
      "ereh\n",
      " txet\n",
      "kodnar dlrow olleh\n",
      "The folder exist\n"
     ]
    }
   ],
   "source": [
    "#read in reverese\n",
    "\n",
    "import os # OS module carrying various features related to operations concerned with operating system\n",
    "\n",
    "if os.path.exists(\"MyFolder/myfile.txt\"): # to check the existence of file\n",
    "    print(\"File exists!\")\n",
    "    \n",
    "    with open(\"Myfolder/myfile.txt\",\"rt\") as f:# file to be opened from different then default location where notebook file is saved.\n",
    "        strcont = f.read()\n",
    "        print(strcont[::-1]) # to read the contents from new location of file pointer\n",
    "        f.close() # to close file\n",
    "    \n",
    "else:\n",
    "    print(\"File does not exist!\")\n",
    "    \n",
    "import os\n",
    "if os.path.isdir(\"MyFolder\"):\n",
    "  print(\"The folder exist\")\n",
    "else:\n",
    "  print(\"The folder does not exist\")"
   ]
  },
  {
   "cell_type": "code",
   "execution_count": null,
   "metadata": {},
   "outputs": [],
   "source": [
    "#Introduction to file handling - 1. How to open a file - different location - way2\n",
    "\n",
    "#opt 1 to open a file\n",
    "\n",
    "# f= open(\"Myfolder/myfile3.txt\",\"rt\") # file to be opened from different then default location where notebook file is saved.\n",
    "# print(f.read()) # we can use read method for reading the contents of the file\n",
    "\n",
    "#opt 2 to open a file with() function\n",
    "\n",
    "with open(\"Myfolder/myfile.txt\",\"rt\") as f:# file to be opened from different then default location where notebook file is saved.\n",
    "    print(f.read()) # we can use read method for reading the contents of the file\n",
    "    f.close()\n"
   ]
  },
  {
   "cell_type": "code",
   "execution_count": null,
   "metadata": {},
   "outputs": [],
   "source": [
    "#Introduction to file handling - 1. How to rename a file \n",
    "\n",
    "# first ask user to enter the name of file - myfile.txt\n",
    "# check whether file exists in systems or not\n",
    "# enter new name of file\n",
    "#rename otherwise we will inform user that file is not there\n",
    "\n",
    "#\"MyFolder/myfile3.txt\"\n",
    "import os # OS module carrying various features related to operations concerned with operating system\n",
    "\n",
    "oldname=input(\"Enter the current name of file\") # existing file in system\n",
    "\n",
    "if os.path.exists(oldname): # to check the existence of file with old name\n",
    "    print(\"File exists!\")\n",
    "    newname=input(\"Enter the new name of file:\")\n",
    "    \n",
    "    os.rename(oldname,newname) #rename file with new name\n",
    "    print(\"Name updated!\")\n",
    "    \n",
    "    if os.path.exists(newname): # to check the existence of file with new name\n",
    "        print(\"New File exists!\")\n",
    "    else:\n",
    "        print(\"New File does not exist!\")\n",
    "else:\n",
    "    print(\"File does not exist!\") # if file does not exist in the system"
   ]
  },
  {
   "cell_type": "markdown",
   "metadata": {},
   "source": [
    "SEEK file pointer"
   ]
  },
  {
   "cell_type": "code",
   "execution_count": null,
   "metadata": {},
   "outputs": [],
   "source": [
    "Introduction to file handling - 1. How to set the current file pointer (seek)\n",
    "import os # OS module carrying various features related to operations concerned with operating system\n",
    "\n",
    "if os.path.exists(\"MyFolder/myfile.txt\"): # to check the existence of file\n",
    "    print(\"File exists!\")\n",
    "    \n",
    "    with open(\"Myfolder/myfile.txt\",\"rt\") as f:# file to be opened from different then default location where notebook file is saved.\n",
    "        print(\"default:\", f.read()) # we can use read method for reading the complete contents of the file\n",
    "        \n",
    "        f.seek(5) # to change the current position of file pointer to 5\n",
    "        print(\"modified:\", f.read()) # to read the contents from new location of file pointer\n",
    "        f.close() # to close file\n",
    "    \n",
    "else:\n",
    "    print(\"File does not exist!\")"
   ]
  },
  {
   "cell_type": "code",
   "execution_count": null,
   "metadata": {},
   "outputs": [],
   "source": [
    "#Introduction to file handling - 1. How to get the current file pointer (tell)\n",
    "import os # OS module carrying various features related to operations concerned with operating system\n",
    "\n",
    "if os.path.exists(\"MyFolder/myfile.txt\"): # to check the existence of file\n",
    "    print(\"File exists!\")\n",
    "    \n",
    "    with open(\"Myfolder/myfile.txt\",\"rt\") as f:# file to be opened from different then default location where notebook file is saved.\n",
    "        print(\"Default Pointer location\",f.tell()) # to fetch current location of pointer, default one\n",
    "        print(\"default:\", f.read()) # we can use read method for reading the complete contents of the file\n",
    "        \n",
    "        f.seek(5) # to change the current position of file pointer to 5\n",
    "        print(\"Modified Pointer location\",f.tell()) # to fetch current location of pointer, modified one\n",
    "        print(\"modified:\", f.read()) # to read the contents from new location of file pointer\n",
    "        f.close() # to close file\n",
    "    \n",
    "else:\n",
    "    print(\"File does not exist!\")"
   ]
  },
  {
   "cell_type": "code",
   "execution_count": null,
   "metadata": {},
   "outputs": [],
   "source": [
    "#Introduction to file handling - 1. How to set the current file pointer (seek)\n",
    "import os # OS module carrying various features related to operations concerned with operating system\n",
    "\n",
    "if os.path.exists(\"MyFolder/myfile.txt\"): # to check the existence of file\n",
    "    print(\"File exists!\")\n",
    "    \n",
    "    with open(\"Myfolder/myfile.txt\",\"rt\") as f:# file to be opened from different then default location where notebook file is saved.\n",
    "        f.seek(-5) # must be a positve number , this will generate an error\n",
    "        print(f.read()) # to read the contents from new location of file pointer\n",
    "        f.close() # to close file\n",
    "    \n",
    "else:\n",
    "    print(\"File does not exist!\")\n"
   ]
  },
  {
   "cell_type": "code",
   "execution_count": null,
   "metadata": {},
   "outputs": [],
   "source": [
    "#Introduction to file handling - 1. How to fetch the list of files in directory/folder\n",
    "import os # OS module carrying various features related to operations concerned with operating system\n",
    "\n",
    "temp= os.listdir(\"MyFolder\") # to list all the files in directory\n",
    "print(\"No. of files in folder are\", len(temp)) # count of files in folder\n",
    "print(\"Details of files are\",temp) # print the name of files\n",
    "#print(type(temp))\n",
    "   "
   ]
  },
  {
   "cell_type": "code",
   "execution_count": null,
   "metadata": {},
   "outputs": [],
   "source": [
    "#Introduction to file handling - 1. How to fetch only text files in directory/folder\n",
    "import os # OS module carrying various features related to operations concerned with operating system\n",
    "\n",
    "temp= os.listdir(\"MyFolder\") # to list all the files in directory\n",
    "print(\"No. of files in folder are\", len(temp)) # count of files in folder\n",
    "print(\"Details of files are\",temp) # print the name of files\n",
    "#print(type(temp))\n",
    "   "
   ]
  },
  {
   "cell_type": "code",
   "execution_count": null,
   "metadata": {},
   "outputs": [],
   "source": [
    "#Introduction to file handling - 1. How to fetch only text files in directory/folder\n",
    "import os # OS module carrying various features related to operations concerned with operating system\n",
    "\n",
    "temp= os.listdir(\"MyFolder\") # to list all the files in directory\n",
    "print(\"No. of files in folder are\", len(temp)) # count of files in folder\n",
    "print(\"Details of files are\",temp) # print the name of files\n",
    "#print(type(temp))\n",
    "print(\"===============================================================================\")\n",
    "count=0\n",
    "for f in os.listdir(\"MyFolder\"): # fetch the contents of folder , file by file\n",
    "    if(f[-4:]=='.txt'):  # f is used to access file names,by using negative indexing here, we can print last 4 chars i.e. extension of file\n",
    "        count=count+1 # count the no. of txt files found\n",
    "        print(f) # this will print only names of text files\n",
    "if (count>0): \n",
    "    print(\"Total files found!\",count) # print the count of files found\n",
    "else:\n",
    "    print(\"0 file found!\") # 0 files found\n",
    "   "
   ]
  },
  {
   "cell_type": "code",
   "execution_count": null,
   "metadata": {},
   "outputs": [],
   "source": [
    "#Introduction to file handling - 1. How to DELETE only text files in directory/folder\n",
    "import os # OS module carrying various features related to operations concerned with operating system\n",
    "\n",
    "print(\"===============================================================================\")\n",
    "\n",
    "for f in os.listdir(\"MyFolder\"): # fetch the contents of folder , file by file\n",
    "    if(f[-4:]=='.txt'):  # f is used to access file names,by using negative indexing here, we can print last 4 chars i.e. extension of file\n",
    "        print(f) # this will print only names of text files\n",
    "        f=\"MyFolder/\"+f # to generate complete path of file\n",
    "        os.remove(f) # to remove text files\n"
   ]
  },
  {
   "cell_type": "code",
   "execution_count": null,
   "metadata": {},
   "outputs": [],
   "source": [
    "#Introduction to file handling - 1. How to read a file in different way ( reverse order )\n",
    "\n",
    "import os # namespace which carries all os related methods\n",
    "\n",
    "filename=raw_input(\"Enter the complete path of file:\") # to take complete path as an input from user in Python 2\n",
    "\n",
    "#filename=input(\"Enter the complete path of file:\") # to take complete path as an input from user in Python 3\n",
    "\n",
    "if os.path.exists(filename): # to check the existence of file\n",
    "    print(\"File exists!\")\n",
    "    with open(filename,\"rt\") as f:# file to be opened from different then default location where notebook file is saved.\n",
    "        subset=f.read() # to temporary store file contents\n",
    "        #print(type(subset)) #to check the type of data which is returned by file object\n",
    "        print(subset) # we can use read method for reading the contents of the file\n",
    "        print(subset[::-1]) # we can use [start:end:step] to reverse the contents of the file\n",
    "        f.close()\n",
    "\n",
    "else:\n",
    "    print(\"File does not exist!!\")"
   ]
  },
  {
   "cell_type": "code",
   "execution_count": null,
   "metadata": {},
   "outputs": [],
   "source": [
    "#Introduction to file handling - 1. How to create a folder/directory\n",
    "\n",
    "import os # namespace which carries all os related methods\n",
    "\n",
    "filename=raw_input(\"Enter the name of new folder:\") # to take complete path as an input from user in Python 2\n",
    "\n",
    "#filename=input(\"Enter the name of new folder:\") # to take complete path as an input from user in Python 3\n",
    "\n",
    "os.mkdir(filename)\n",
    "print(\"Directory created!\")"
   ]
  },
  {
   "cell_type": "code",
   "execution_count": null,
   "metadata": {},
   "outputs": [],
   "source": [
    "#Introduction to file handling - 1. How to check existence of a folder/directory\n",
    "\n",
    "import os # namespace which carries all os related methods\n",
    "\n",
    "filename=raw_input(\"Enter the complete path of folder to search:\") # to take complete path as an input from user in Python 2\n",
    "\n",
    "#filename=input(\"Enter the complete path of folder to search:\") # to take complete path as an input from user in Python 3\n",
    "\n",
    "# if os.path.exists(filename): # to check the existence of directory way 1\n",
    "#     print(\"Directory exists!\")\n",
    "# else:\n",
    "#     print(\"Directory does not exist!\")\n",
    "\n",
    "if os.path.isdir(filename): # to check the existence of directory way 2\n",
    "    print(\"Directory exists!\")\n",
    "else:\n",
    "    print(\"Directory does not exist!\")"
   ]
  },
  {
   "cell_type": "code",
   "execution_count": null,
   "metadata": {},
   "outputs": [],
   "source": []
  },
  {
   "cell_type": "code",
   "execution_count": null,
   "metadata": {},
   "outputs": [],
   "source": []
  }
 ],
 "metadata": {
  "kernelspec": {
   "display_name": "Python 3",
   "language": "python",
   "name": "python3"
  },
  "language_info": {
   "codemirror_mode": {
    "name": "ipython",
    "version": 3
   },
   "file_extension": ".py",
   "mimetype": "text/x-python",
   "name": "python",
   "nbconvert_exporter": "python",
   "pygments_lexer": "ipython3",
   "version": "3.7.4"
  },
  "latex_envs": {
   "LaTeX_envs_menu_present": true,
   "autoclose": false,
   "autocomplete": true,
   "bibliofile": "biblio.bib",
   "cite_by": "apalike",
   "current_citInitial": 1,
   "eqLabelWithNumbers": true,
   "eqNumInitial": 1,
   "hotkeys": {
    "equation": "Ctrl-E",
    "itemize": "Ctrl-I"
   },
   "labels_anchors": false,
   "latex_user_defs": false,
   "report_style_numbering": false,
   "user_envs_cfg": false
  },
  "toc": {
   "base_numbering": 1,
   "nav_menu": {},
   "number_sections": true,
   "sideBar": true,
   "skip_h1_title": false,
   "title_cell": "Table of Contents",
   "title_sidebar": "Contents",
   "toc_cell": false,
   "toc_position": {},
   "toc_section_display": true,
   "toc_window_display": false
  }
 },
 "nbformat": 4,
 "nbformat_minor": 2
}
