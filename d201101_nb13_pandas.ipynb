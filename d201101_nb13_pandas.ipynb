{
 "cells": [
  {
   "cell_type": "markdown",
   "metadata": {},
   "source": [
    "# Pandas dataframe"
   ]
  },
  {
   "cell_type": "code",
   "execution_count": 1,
   "metadata": {},
   "outputs": [
    {
     "name": "stdout",
     "output_type": "stream",
     "text": [
      "Len 10\n",
      "Shape 10\n",
      "Top rows      0\n",
      "0    1\n",
      "1    3\n",
      "2    5\n",
      "3    9\n",
      "4  110\n",
      "Complete frame       0\n",
      "0     1\n",
      "1     3\n",
      "2     5\n",
      "3     9\n",
      "4   110\n",
      "5    56\n",
      "6    89\n",
      "7    78\n",
      "8   100\n",
      "9  1000\n"
     ]
    }
   ],
   "source": [
    "# Introduction of Pandas Dataframes - 1\n",
    "#IT IS 2-DIMENSIONAL DATA STRUCTURE to present data in the format of dataframes\n",
    "#Pandas dataframe consists of 3 elements - Rows, Cols and Data\n",
    "\n",
    "import pandas as pd # importing of pandas into the code\n",
    "\n",
    "mylist=[1,3,5,9,110,56,89,78,100,1000] #list for dataframe\n",
    "\n",
    "df=pd.DataFrame(mylist) # df refers to object of DATAFRAME, pd is the object of Pandas\n",
    "# DataFrame is basically a constructor used from Pandas\n",
    "\n",
    "print(\"Len\",len(df.index)) # to check the no. of records in dataframe\n",
    "\n",
    "print(\"Shape\",df.shape[0]) # to check the structure of records in dataframe\n",
    "\n",
    "print(\"Top rows\",df.head()) # to check top 5 rows of dataframe\n",
    "\n",
    "print(\"Complete frame\",df) # printing of all records ( rows and cols) from pandas dataframe\n"
   ]
  },
  {
   "cell_type": "code",
   "execution_count": 3,
   "metadata": {},
   "outputs": [
    {
     "name": "stdout",
     "output_type": "stream",
     "text": [
      "Complete frame--------\n",
      "   Name  CA-1  CA-2  CA-3\n",
      "0    A    25    20    30\n"
     ]
    }
   ],
   "source": [
    "# Introduction of Pandas Dataframes - 2\n",
    "#IT IS 2-DIMENSIONAL DATA STRUCTURE to present data in the format of dataframes\n",
    "#Pandas dataframe consists of 3 elements - Rows, Cols and Data\n",
    "\n",
    "#                 C-1, C2, C3, C4\n",
    "\n",
    "# Row-1: Student \\A\\- 25, 20, 30 ----> DATA\n",
    "# Rows and Cols will represnt structure\n",
    "# Data is the actual carry\n",
    "\n",
    "\n",
    "import pandas as pd # importing of pandas into the code\n",
    "\n",
    "mydict={'Name':['A'],\n",
    "       'CA-1':[25],\n",
    "        'CA-2':[20],\n",
    "        'CA-3':[30]\n",
    "       } #dictionary for dataframe representing student info-1\n",
    "\n",
    "df=pd.DataFrame(mydict) # df refers to object of DATAFRAME, pd is the object of Pandas\n",
    "# DataFrame is basically a constructor used from Pandas\n",
    "\n",
    "print(\"Complete frame--------\\n\",df) # printing of all records ( rows and cols) from pandas dataframe"
   ]
  },
  {
   "cell_type": "code",
   "execution_count": 5,
   "metadata": {},
   "outputs": [
    {
     "name": "stdout",
     "output_type": "stream",
     "text": [
      "Complete frame---\n",
      "   Name  CA-1  CA-2  CA-3\n",
      "0    A    25    20    30\n",
      "1    B     5     2    10\n",
      "2    C    15     2    10\n"
     ]
    }
   ],
   "source": [
    "# Introduction of Pandas Dataframes - 3\n",
    "#IT IS 2-DIMENSIONAL DATA STRUCTURE to present data in the format of dataframes\n",
    "#Pandas dataframe consists of 3 elements - Rows, Cols and Data\n",
    "\n",
    "#                 C-1, C2, C3, C4\n",
    "\n",
    "# Row-1: Student \\A\\- 25, 20, 30 ----> DATA\n",
    "# Row-2: Student \\B\\- 5, 2, 10 ----> DATA\n",
    "# Row-3: Student \\C\\- 15, 2, 10 ----> DATA\n",
    "\n",
    "# Rows and Cols will represnt structure\n",
    "# Data is the actual carry\n",
    "\n",
    "\n",
    "import pandas as pd # importing of pandas into the code\n",
    "\n",
    "mydict={'Name':['A','B','C'],\n",
    "       'CA-1':[25,5,15],\n",
    "        'CA-2':[20,2,2],\n",
    "        'CA-3':[30,10,10]\n",
    "       } #dictionary for dataframe representing student info-1 FOR ALL CAs for all students as well\n",
    "\n",
    "df=pd.DataFrame(mydict) # df refers to object of DATAFRAME, pd is the object of Pandas\n",
    "# DataFrame is basically a constructor used from Pandas\n",
    "\n",
    "print(\"Complete frame---\\n\",df) # printing of all records ( rows and cols) from pandas dataframe"
   ]
  },
  {
   "cell_type": "code",
   "execution_count": 6,
   "metadata": {},
   "outputs": [
    {
     "name": "stdout",
     "output_type": "stream",
     "text": [
      "  Name  CA-1\n",
      "0    A    25\n",
      "1    B     5\n",
      "2    C    15\n"
     ]
    }
   ],
   "source": [
    "# Introduction of Pandas Dataframes - 4 - Filteration of data-1\n",
    "#IT IS 2-DIMENSIONAL DATA STRUCTURE to present data in the format of dataframes\n",
    "#Pandas dataframe consists of 3 elements - Rows, Cols and Data\n",
    "\n",
    "#                 C-1, C2, C3, C4\n",
    "\n",
    "# Row-1: Student \\A\\- 25, 20, 30 ----> DATA\n",
    "# Row-2: Student \\B\\- 5, 2, 10 ----> DATA\n",
    "# Row-3: Student \\C\\- 15, 2, 10 ----> DATA\n",
    "\n",
    "# Rows and Cols will represnt structure\n",
    "# Data is the actual carry\n",
    "\n",
    "\n",
    "import pandas as pd # importing of pandas into the code\n",
    "\n",
    "mydict={'Name':['A','B','C'],\n",
    "       'CA-1':[25,5,15],\n",
    "        'CA-2':[20,2,2],\n",
    "        'CA-3':[30,10,10]\n",
    "       } #dictionary for dataframe representing student info-1 FOR ALL CAs for all students as well\n",
    "\n",
    "df=pd.DataFrame(mydict) # df refers to object of DATAFRAME, pd is the object of Pandas\n",
    "# DataFrame is basically a constructor used from Pandas\n",
    "\n",
    "print(df[['Name','CA-1']]) # printing of selected col records ( rows and cols) from pandas dataframe"
   ]
  },
  {
   "cell_type": "code",
   "execution_count": 8,
   "metadata": {},
   "outputs": [
    {
     "name": "stdout",
     "output_type": "stream",
     "text": [
      "0    25.0\n",
      "2    15.0\n",
      "Name: CA-1, dtype: float64\n"
     ]
    }
   ],
   "source": [
    "# Introduction of Pandas Dataframes - 4 - Filteration of data -2\n",
    "#IT IS 2-DIMENSIONAL DATA STRUCTURE to present data in the format of dataframes\n",
    "#Pandas dataframe consists of 3 elements - Rows, Cols and Data\n",
    "\n",
    "#                 C-1, C2, C3, C4\n",
    "\n",
    "# Row-1: Student \\A\\- 25, 20, 30 ----> DATA\n",
    "# Row-2: Student \\B\\- 5, 2, 10 ----> DATA\n",
    "# Row-3: Student \\C\\- 15, 2, 10 ----> DATA\n",
    "\n",
    "# Rows and Cols will represnt structure\n",
    "# Data is the actual carry\n",
    "\n",
    "\n",
    "import pandas as pd # importing of pandas into the code\n",
    "\n",
    "mydict={'Name':['A','B','C'],\n",
    "       'CA-1':[25,5,15],\n",
    "        'CA-2':[20,2,2],\n",
    "        'CA-3':[30,10,10]\n",
    "       } #dictionary for dataframe representing student info-1 FOR ALL CAs for all students as well\n",
    "\n",
    "df=pd.DataFrame(mydict) # df refers to object of DATAFRAME, pd is the object of Pandas\n",
    "# DataFrame is basically a constructor used from Pandas\n",
    "\n",
    "df1=df[df[['CA-1']] > 10] # to filter values of CA which are greater than 10\n",
    "df1=df1.dropna(subset=['CA-1']) # to skip nan\n",
    "\n",
    "print(df1['CA-1']) # printing of selected col records ( rows and cols) from pandas dataframe"
   ]
  },
  {
   "cell_type": "code",
   "execution_count": 26,
   "metadata": {},
   "outputs": [
    {
     "name": "stdout",
     "output_type": "stream",
     "text": [
      "  name   reg   ca1   ca2  ca3\n",
      "0  ABC  1111  25.0  20.0   30\n",
      "1  DEF  2222   NaN  15.0   30\n",
      "2  GHI  3333  15.0   0.0   10\n",
      "3  JKL  4444   0.0   NaN   22\n",
      "4  MNO  5555   NaN   0.0   23\n"
     ]
    }
   ],
   "source": [
    "# Introduction of Pandas Dataframes - 5 - How to read data from csv file.\n",
    "\n",
    "#name\treg\tca1\tca2\tca3\n",
    "\n",
    "import pandas as pd # importing of pandas into the code\n",
    "\n",
    "df=pd.read_csv(\"sample.csv\") # df refers to object of DATAFRAME, pd is the object of Pandas\n",
    "# DataFrame is basically a constructor used from Pandas\n",
    "#read_csv is used to read csv files from the system\n",
    "\n",
    "print(df) # printing of all rows and cols from csv files"
   ]
  },
  {
   "cell_type": "code",
   "execution_count": 17,
   "metadata": {},
   "outputs": [
    {
     "name": "stdout",
     "output_type": "stream",
     "text": [
      "0    ABC\n",
      "1    DEF\n",
      "2    GHI\n",
      "3    JKL\n",
      "4    MNO\n",
      "Name: name, dtype: object\n",
      ".....simple lsit:\n",
      " ['ABC', 'DEF', 'GHI', 'JKL', 'MNO']\n"
     ]
    }
   ],
   "source": [
    "# Introduction of Pandas Dataframes - 5 - How to read subset (cols) of data from csv file.\n",
    "\n",
    "#name\treg\tca1\tca2\tca3\n",
    "\n",
    "import pandas as pd # importing of pandas into the code\n",
    "\n",
    "df=pd.read_csv(\"sample.csv\") # df refers to object of DATAFRAME, pd is the object of Pandas\n",
    "# DataFrame is basically a constructor used from Pandas\n",
    "#read_csv is used to read csv files from the system\n",
    "\n",
    "FirstName=df[\"name\"] # to fetch columns by their name in csv file\n",
    "\n",
    "print(FirstName) # printing of values fetched from the column named as name in excel file\n",
    "print(\".....simple lsit:\\n\",list(FirstName))"
   ]
  },
  {
   "cell_type": "code",
   "execution_count": 2,
   "metadata": {},
   "outputs": [
    {
     "name": "stdout",
     "output_type": "stream",
     "text": [
      "name     ABC\n",
      "reg     1111\n",
      "ca1       25\n",
      "ca2       20\n",
      "ca3       30\n",
      "Name: 0, dtype: object\n"
     ]
    }
   ],
   "source": [
    "# Introduction of Pandas Dataframes - 5 - How to read subset (rows) of data from csv file.\n",
    "\n",
    "#name\treg\tca1\tca2\tca3\n",
    "\n",
    "import pandas as pd # importing of pandas into the code\n",
    "\n",
    "df=pd.read_csv(\"sample.csv\") # df refers to object of DATAFRAME, pd is the object of Pandas\n",
    "# DataFrame is basically a constructor used from Pandas\n",
    "#read_csv is used to read csv files from the system\n",
    "\n",
    "FirstName= df.iloc[0] # used to print data with its location, here 0 means , first row of the csv file\n",
    "\n",
    "print(FirstName) # printing of values fetched from the column named as name in excel file"
   ]
  },
  {
   "cell_type": "code",
   "execution_count": 22,
   "metadata": {},
   "outputs": [
    {
     "name": "stdout",
     "output_type": "stream",
     "text": [
      "reg    2222.0\n",
      "ca1       NaN\n",
      "ca2      15.0\n",
      "ca3      30.0\n",
      "Name: DEF, dtype: float64\n"
     ]
    }
   ],
   "source": [
    "# Introduction of Pandas Dataframes - 5 - How to read subset (rows) of data from csv file.\n",
    "\n",
    "#name\treg\tca1\tca2\tca3\n",
    "\n",
    "import pandas as pd # importing of pandas into the code\n",
    "\n",
    "df=pd.read_csv(\"sample.csv\", index_col=\"name\") # df refers to object of DATAFRAME, pd is the object of Pandas\n",
    "# DataFrame is basically a constructor used from Pandas\n",
    "#read_csv is used to read csv files from the system\n",
    "# index_col is used to set index on column \"name\".\n",
    "\n",
    "Matchedval= df.loc[\"DEF\"] # used to print data with its location, here 0 means , first row of the csv file\n",
    "# use double quotes if data is of type string \"ABC\"\n",
    "print(Matchedval) # printing of values fetched from the column named as name in excel file"
   ]
  },
  {
   "cell_type": "code",
   "execution_count": 19,
   "metadata": {},
   "outputs": [
    {
     "name": "stdout",
     "output_type": "stream",
     "text": [
      "name    JKL\n",
      "ca1      18\n",
      "ca2      25\n",
      "ca3      22\n",
      "Name: 4444, dtype: object\n"
     ]
    }
   ],
   "source": [
    "# Introduction of Pandas Dataframes - 5 - How to read subset (rows) of data from csv file.\n",
    "\n",
    "#name\treg\tca1\tca2\tca3\n",
    "\n",
    "import pandas as pd # importing of pandas into the code\n",
    "\n",
    "df=pd.read_csv(\"sample.csv\", index_col=\"reg\") # df refers to object of DATAFRAME, pd is the object of Pandas\n",
    "# DataFrame is basically a constructor used from Pandas\n",
    "#read_csv is used to read csv files from the system\n",
    "# index_col is used to set index on column \"name\".\n",
    "\n",
    "Matchedval= df.loc[4444] # used to print data with its location, here 0 means , first row of the csv file\n",
    "# use DIRECT VALUES if data is of type numeric\n",
    "print(Matchedval) # printing of values fetched from the column named as name in excel file"
   ]
  },
  {
   "cell_type": "code",
   "execution_count": null,
   "metadata": {},
   "outputs": [],
   "source": [
    "##more stuff Additional-Example - 4- 10-11-2020"
   ]
  },
  {
   "cell_type": "code",
   "execution_count": 31,
   "metadata": {},
   "outputs": [
    {
     "name": "stdout",
     "output_type": "stream",
     "text": [
      "  name   reg   ca1   ca2  ca3\n",
      "0  ABC  1111  25.0  20.0   30\n",
      "1  DEF  2222   NaN  15.0   30\n",
      "2  GHI  3333  15.0   0.0   10\n",
      "3  JKL  4444   0.0   NaN   22\n",
      "4  MNO  5555   NaN   0.0   23\n"
     ]
    },
    {
     "data": {
      "text/html": [
       "<div>\n",
       "<style scoped>\n",
       "    .dataframe tbody tr th:only-of-type {\n",
       "        vertical-align: middle;\n",
       "    }\n",
       "\n",
       "    .dataframe tbody tr th {\n",
       "        vertical-align: top;\n",
       "    }\n",
       "\n",
       "    .dataframe thead th {\n",
       "        text-align: right;\n",
       "    }\n",
       "</style>\n",
       "<table border=\"1\" class=\"dataframe\">\n",
       "  <thead>\n",
       "    <tr style=\"text-align: right;\">\n",
       "      <th></th>\n",
       "      <th>name</th>\n",
       "      <th>reg</th>\n",
       "      <th>ca1</th>\n",
       "      <th>ca2</th>\n",
       "      <th>ca3</th>\n",
       "    </tr>\n",
       "  </thead>\n",
       "  <tbody>\n",
       "    <tr>\n",
       "      <td>0</td>\n",
       "      <td>False</td>\n",
       "      <td>False</td>\n",
       "      <td>False</td>\n",
       "      <td>False</td>\n",
       "      <td>False</td>\n",
       "    </tr>\n",
       "    <tr>\n",
       "      <td>1</td>\n",
       "      <td>False</td>\n",
       "      <td>False</td>\n",
       "      <td>True</td>\n",
       "      <td>False</td>\n",
       "      <td>False</td>\n",
       "    </tr>\n",
       "    <tr>\n",
       "      <td>2</td>\n",
       "      <td>False</td>\n",
       "      <td>False</td>\n",
       "      <td>False</td>\n",
       "      <td>False</td>\n",
       "      <td>False</td>\n",
       "    </tr>\n",
       "    <tr>\n",
       "      <td>3</td>\n",
       "      <td>False</td>\n",
       "      <td>False</td>\n",
       "      <td>False</td>\n",
       "      <td>True</td>\n",
       "      <td>False</td>\n",
       "    </tr>\n",
       "    <tr>\n",
       "      <td>4</td>\n",
       "      <td>False</td>\n",
       "      <td>False</td>\n",
       "      <td>True</td>\n",
       "      <td>False</td>\n",
       "      <td>False</td>\n",
       "    </tr>\n",
       "  </tbody>\n",
       "</table>\n",
       "</div>"
      ],
      "text/plain": [
       "    name    reg    ca1    ca2    ca3\n",
       "0  False  False  False  False  False\n",
       "1  False  False   True  False  False\n",
       "2  False  False  False  False  False\n",
       "3  False  False  False   True  False\n",
       "4  False  False   True  False  False"
      ]
     },
     "execution_count": 31,
     "metadata": {},
     "output_type": "execute_result"
    }
   ],
   "source": [
    "# Introduction of Pandas Dataframes - 5 - How to read data from csv file.\n",
    "import pandas as pd # importing of pandas into the code\n",
    "\n",
    "df=pd.read_csv(\"sample.csv\") \n",
    "print(df) # printing of all rows and cols from csv files\n",
    "\n",
    "df.isnull() #print null places...\n",
    "#df.notnull()"
   ]
  },
  {
   "cell_type": "code",
   "execution_count": 34,
   "metadata": {},
   "outputs": [
    {
     "name": "stdout",
     "output_type": "stream",
     "text": [
      "  name   reg   ca1   ca2  ca3\n",
      "0  ABC  1111  25.0  20.0   30\n",
      "1  DEF  2222   NaN  15.0   30\n",
      "2  GHI  3333  15.0   0.0   10\n",
      "3  JKL  4444   0.0   NaN   22\n",
      "4  MNO  5555   NaN   0.0   23\n"
     ]
    },
    {
     "data": {
      "text/html": [
       "<div>\n",
       "<style scoped>\n",
       "    .dataframe tbody tr th:only-of-type {\n",
       "        vertical-align: middle;\n",
       "    }\n",
       "\n",
       "    .dataframe tbody tr th {\n",
       "        vertical-align: top;\n",
       "    }\n",
       "\n",
       "    .dataframe thead th {\n",
       "        text-align: right;\n",
       "    }\n",
       "</style>\n",
       "<table border=\"1\" class=\"dataframe\">\n",
       "  <thead>\n",
       "    <tr style=\"text-align: right;\">\n",
       "      <th></th>\n",
       "      <th>name</th>\n",
       "      <th>reg</th>\n",
       "      <th>ca1</th>\n",
       "      <th>ca2</th>\n",
       "      <th>ca3</th>\n",
       "    </tr>\n",
       "  </thead>\n",
       "  <tbody>\n",
       "    <tr>\n",
       "      <td>0</td>\n",
       "      <td>ABC</td>\n",
       "      <td>1111</td>\n",
       "      <td>25.0</td>\n",
       "      <td>20.0</td>\n",
       "      <td>30</td>\n",
       "    </tr>\n",
       "    <tr>\n",
       "      <td>1</td>\n",
       "      <td>DEF</td>\n",
       "      <td>2222</td>\n",
       "      <td>0.0</td>\n",
       "      <td>15.0</td>\n",
       "      <td>30</td>\n",
       "    </tr>\n",
       "    <tr>\n",
       "      <td>2</td>\n",
       "      <td>GHI</td>\n",
       "      <td>3333</td>\n",
       "      <td>15.0</td>\n",
       "      <td>0.0</td>\n",
       "      <td>10</td>\n",
       "    </tr>\n",
       "    <tr>\n",
       "      <td>3</td>\n",
       "      <td>JKL</td>\n",
       "      <td>4444</td>\n",
       "      <td>0.0</td>\n",
       "      <td>0.0</td>\n",
       "      <td>22</td>\n",
       "    </tr>\n",
       "    <tr>\n",
       "      <td>4</td>\n",
       "      <td>MNO</td>\n",
       "      <td>5555</td>\n",
       "      <td>0.0</td>\n",
       "      <td>0.0</td>\n",
       "      <td>23</td>\n",
       "    </tr>\n",
       "  </tbody>\n",
       "</table>\n",
       "</div>"
      ],
      "text/plain": [
       "  name   reg   ca1   ca2  ca3\n",
       "0  ABC  1111  25.0  20.0   30\n",
       "1  DEF  2222   0.0  15.0   30\n",
       "2  GHI  3333  15.0   0.0   10\n",
       "3  JKL  4444   0.0   0.0   22\n",
       "4  MNO  5555   0.0   0.0   23"
      ]
     },
     "execution_count": 34,
     "metadata": {},
     "output_type": "execute_result"
    }
   ],
   "source": [
    "# Introduction of Pandas Dataframes - 5 - How to read data from csv file.\n",
    "import pandas as pd # importing of pandas into the code\n",
    "\n",
    "df=pd.read_csv(\"sample.csv\") \n",
    "print(df) # printing of all rows and cols from csv files\n",
    "\n",
    "#df.isnull() #print null places...\n",
    "df.fillna(0) #fill null with other value"
   ]
  },
  {
   "cell_type": "code",
   "execution_count": 39,
   "metadata": {},
   "outputs": [
    {
     "name": "stdout",
     "output_type": "stream",
     "text": [
      "  name   reg   ca1   ca2  ca3\n",
      "0  ABC  1111  25.0  20.0   30\n",
      "1  DEF  2222   NaN  15.0   30\n",
      "2  GHI  3333  15.0   0.0   10\n",
      "3  JKL  4444   0.0   NaN   22\n",
      "4  MNO  5555   NaN   0.0   23\n"
     ]
    },
    {
     "data": {
      "text/html": [
       "<div>\n",
       "<style scoped>\n",
       "    .dataframe tbody tr th:only-of-type {\n",
       "        vertical-align: middle;\n",
       "    }\n",
       "\n",
       "    .dataframe tbody tr th {\n",
       "        vertical-align: top;\n",
       "    }\n",
       "\n",
       "    .dataframe thead th {\n",
       "        text-align: right;\n",
       "    }\n",
       "</style>\n",
       "<table border=\"1\" class=\"dataframe\">\n",
       "  <thead>\n",
       "    <tr style=\"text-align: right;\">\n",
       "      <th></th>\n",
       "      <th>name</th>\n",
       "      <th>reg</th>\n",
       "      <th>ca1</th>\n",
       "      <th>ca2</th>\n",
       "      <th>ca3</th>\n",
       "    </tr>\n",
       "  </thead>\n",
       "  <tbody>\n",
       "    <tr>\n",
       "      <td>0</td>\n",
       "      <td>ABC</td>\n",
       "      <td>1111</td>\n",
       "      <td>25.0</td>\n",
       "      <td>20.0</td>\n",
       "      <td>30</td>\n",
       "    </tr>\n",
       "    <tr>\n",
       "      <td>2</td>\n",
       "      <td>GHI</td>\n",
       "      <td>3333</td>\n",
       "      <td>15.0</td>\n",
       "      <td>0.0</td>\n",
       "      <td>10</td>\n",
       "    </tr>\n",
       "  </tbody>\n",
       "</table>\n",
       "</div>"
      ],
      "text/plain": [
       "  name   reg   ca1   ca2  ca3\n",
       "0  ABC  1111  25.0  20.0   30\n",
       "2  GHI  3333  15.0   0.0   10"
      ]
     },
     "execution_count": 39,
     "metadata": {},
     "output_type": "execute_result"
    }
   ],
   "source": [
    "# Introduction of Pandas Dataframes - 5 - How to read data from csv file.\n",
    "import pandas as pd # importing of pandas into the code\n",
    "\n",
    "df=pd.read_csv(\"sample.csv\") \n",
    "print(df) # printing of all rows and cols from csv files\n",
    "\n",
    "#df.isnull() #print null places...\n",
    "df.dropna(0) #drop rows with null values"
   ]
  },
  {
   "cell_type": "code",
   "execution_count": 38,
   "metadata": {},
   "outputs": [
    {
     "data": {
      "text/html": [
       "<div>\n",
       "<style scoped>\n",
       "    .dataframe tbody tr th:only-of-type {\n",
       "        vertical-align: middle;\n",
       "    }\n",
       "\n",
       "    .dataframe tbody tr th {\n",
       "        vertical-align: top;\n",
       "    }\n",
       "\n",
       "    .dataframe thead th {\n",
       "        text-align: right;\n",
       "    }\n",
       "</style>\n",
       "<table border=\"1\" class=\"dataframe\">\n",
       "  <thead>\n",
       "    <tr style=\"text-align: right;\">\n",
       "      <th></th>\n",
       "      <th>name</th>\n",
       "      <th>reg</th>\n",
       "      <th>ca1</th>\n",
       "      <th>ca2</th>\n",
       "      <th>ca3</th>\n",
       "    </tr>\n",
       "  </thead>\n",
       "  <tbody>\n",
       "    <tr>\n",
       "      <td>0</td>\n",
       "      <td>ABC</td>\n",
       "      <td>1111</td>\n",
       "      <td>25.0</td>\n",
       "      <td>20.0</td>\n",
       "      <td>30</td>\n",
       "    </tr>\n",
       "    <tr>\n",
       "      <td>1</td>\n",
       "      <td>DEF</td>\n",
       "      <td>2222</td>\n",
       "      <td>NaN</td>\n",
       "      <td>15.0</td>\n",
       "      <td>30</td>\n",
       "    </tr>\n",
       "    <tr>\n",
       "      <td>2</td>\n",
       "      <td>GHI</td>\n",
       "      <td>3333</td>\n",
       "      <td>15.0</td>\n",
       "      <td>0.0</td>\n",
       "      <td>10</td>\n",
       "    </tr>\n",
       "    <tr>\n",
       "      <td>3</td>\n",
       "      <td>JKL</td>\n",
       "      <td>4444</td>\n",
       "      <td>0.0</td>\n",
       "      <td>NaN</td>\n",
       "      <td>22</td>\n",
       "    </tr>\n",
       "    <tr>\n",
       "      <td>4</td>\n",
       "      <td>MNO</td>\n",
       "      <td>5555</td>\n",
       "      <td>NaN</td>\n",
       "      <td>0.0</td>\n",
       "      <td>23</td>\n",
       "    </tr>\n",
       "  </tbody>\n",
       "</table>\n",
       "</div>"
      ],
      "text/plain": [
       "  name   reg   ca1   ca2  ca3\n",
       "0  ABC  1111  25.0  20.0   30\n",
       "1  DEF  2222   NaN  15.0   30\n",
       "2  GHI  3333  15.0   0.0   10\n",
       "3  JKL  4444   0.0   NaN   22\n",
       "4  MNO  5555   NaN   0.0   23"
      ]
     },
     "execution_count": 38,
     "metadata": {},
     "output_type": "execute_result"
    }
   ],
   "source": [
    "# Introduction of Pandas Dataframes - 5 - How to read data from csv file.\n",
    "import pandas as pd # importing of pandas into the code\n",
    "\n",
    "df=pd.read_csv(\"sample.csv\") \n",
    "df # printing of all rows and cols from csv files\n"
   ]
  },
  {
   "cell_type": "code",
   "execution_count": null,
   "metadata": {},
   "outputs": [],
   "source": [
    "# Introduction of Pandas Dataframes - 4 - Fetching the contents row wise\n",
    "\n",
    "import pandas as pd # importing of pandas into the code\n",
    "\n",
    "mydict={'Name':['A','B','C'],\n",
    "       'CA-1':[25,5,15],\n",
    "        'CA-2':[20,2,2],\n",
    "        'CA-3':[30,10,10]\n",
    "       } #dictionary for dataframe representing student info-1 FOR ALL CAs for all students as well\n",
    "\n",
    "df=pd.DataFrame(mydict) # df refers to object of DATAFRAME, pd is the object of Pandas\n",
    "\n",
    "for i,j in df.iterrows(): # to get an each element row wise from dictionary\n",
    "    print(i, j)\n",
    "    print(\"=======================\")"
   ]
  },
  {
   "cell_type": "code",
   "execution_count": 3,
   "metadata": {},
   "outputs": [
    {
     "name": "stdout",
     "output_type": "stream",
     "text": [
      "A\n",
      "25\n",
      "20\n",
      "30\n"
     ]
    }
   ],
   "source": [
    "# Introduction of Pandas Dataframes - 4 - Fetching the contents col wise - one at a time\n",
    "\n",
    "import pandas as pd # importing of pandas into the code\n",
    "\n",
    "mydict={'Name':['A','B','C'],\n",
    "       'CA-1':[25,5,15],\n",
    "        'CA-2':[20,2,2],\n",
    "        'CA-3':[30,10,10]\n",
    "       } #dictionary for dataframe representing student info-1 FOR ALL CAs for all students as well\n",
    "\n",
    "df=pd.DataFrame(mydict) # df refers to object of DATAFRAME, pd is the object of Pandas\n",
    "\n",
    "cols=list(df) # creating a list of dataframes\n",
    "for i in cols: # to get an each element col wise from dictionary\n",
    "    print(df[i][0]) # to print 1st column"
   ]
  },
  {
   "cell_type": "code",
   "execution_count": null,
   "metadata": {},
   "outputs": [],
   "source": [
    "##Additional-Example - 5- 11-11-2020"
   ]
  },
  {
   "cell_type": "code",
   "execution_count": null,
   "metadata": {},
   "outputs": [],
   "source": [
    "# how to save data in csv files - variation -1\n",
    "\n",
    "import pandas as pd # importing of pandas into the code\n",
    "\n",
    "#Lists of name, ca1, ca2 and ca3\n",
    "Name=['A','B','C']\n",
    "CA1=[25,5,15]\n",
    "CA2=[20,2,2]\n",
    "CA3=[30,10,10]\n",
    "\n",
    "dict={'StuName':Name,'CA-1':CA1,'CA-2':CA2, 'CA-3':CA3 } #dictionary for dataframe representing student info-1 FOR ALL CAs for all students as well\n",
    "\n",
    "df=pd.DataFrame(dict) # df refers to object of DATAFRAME, pd is the object of Pandas\n",
    "\n",
    "df.to_csv(\"sample4.csv\") # df object to save csv file in the default location"
   ]
  },
  {
   "cell_type": "code",
   "execution_count": null,
   "metadata": {},
   "outputs": [],
   "source": [
    "# how to save data in csv files - variation -2 ( saving results without any index )\n",
    "\n",
    "import pandas as pd # importing of pandas into the code\n",
    "\n",
    "#Lists of name, ca1, ca2 and ca3\n",
    "Name=['A','B','C']\n",
    "CA1=[25,5,15]\n",
    "CA2=[20,2,2]\n",
    "CA3=[30,10,10]\n",
    "\n",
    "dict={'StuName':Name,'CA-1':CA1,'CA-2':CA2, 'CA-3':CA3 } #dictionary for dataframe representing student info-1 FOR ALL CAs for all students as well\n",
    "\n",
    "df=pd.DataFrame(dict) # df refers to object of DATAFRAME, pd is the object of Pandas\n",
    "\n",
    "df.to_csv(\"sample5.csv\", index=False) # df object to save csv file in the default location"
   ]
  },
  {
   "cell_type": "code",
   "execution_count": null,
   "metadata": {},
   "outputs": [],
   "source": [
    "# how to save data in csv files - variation -3 ( saving results without any index and any header )\n",
    "\n",
    "import pandas as pd # importing of pandas into the code\n",
    "\n",
    "#Lists of name, ca1, ca2 and ca3\n",
    "Name=['A','B','C']\n",
    "CA1=[25,5,15]\n",
    "CA2=[20,2,2]\n",
    "CA3=[30,10,10]\n",
    "\n",
    "dict={'StuName':Name,'CA-1':CA1,'CA-2':CA2, 'CA-3':CA3 } #dictionary for dataframe representing student info-1 FOR ALL CAs for all students as well\n",
    "\n",
    "df=pd.DataFrame(dict) # df refers to object of DATAFRAME, pd is the object of Pandas\n",
    "\n",
    "df.to_csv(\"sample6.csv\",header=False, index=False) # df object to save csv file in the default location"
   ]
  },
  {
   "cell_type": "code",
   "execution_count": null,
   "metadata": {},
   "outputs": [],
   "source": [
    "# how to save data in csv files - variation -4 (saving file at user defined location)\n",
    "\n",
    "import pandas as pd # importing of pandas into the code\n",
    "\n",
    "#Lists of name, ca1, ca2 and ca3\n",
    "Name=['A','B','C']\n",
    "CA1=[25,5,15]\n",
    "CA2=[20,2,2]\n",
    "CA3=[30,10,10]\n",
    "\n",
    "dict={'StuName':Name,'CA-1':CA1,'CA-2':CA2, 'CA-3':CA3 } #dictionary for dataframe representing student info-1 FOR ALL CAs for all students as well\n",
    "\n",
    "df=pd.DataFrame(dict) # df refers to object of DATAFRAME, pd is the object of Pandas\n",
    "\n",
    "df.to_csv(\"MyFolder/sample7.csv\") # df object to save csv file in the default location"
   ]
  },
  {
   "cell_type": "code",
   "execution_count": null,
   "metadata": {},
   "outputs": [],
   "source": [
    "# how to save data in csv files - variation -5 (saving file in user defined order of columns)\n",
    "\n",
    "import pandas as pd # importing of pandas into the code\n",
    "\n",
    "#Lists of name, ca1, ca2 and ca3\n",
    "Name=['A','B','C']\n",
    "CA1=[25,5,15]\n",
    "CA2=[20,2,2]\n",
    "CA3=[30,10,10]\n",
    "\n",
    "dict={'StuName':Name,'CA-1':CA1,'CA-2':CA2, 'CA-3':CA3 } #dictionary for dataframe representing student info-1 FOR ALL CAs for all students as well\n",
    "\n",
    "df=pd.DataFrame(dict, columns=['StuName','CA-1','CA-2','CA-3']) # columns we can use to specify the order and requirement in csv file\n",
    "\n",
    "df.to_csv(\"MyFolder/sample7.csv\", index=False) # df object to save csv file in the default location"
   ]
  }
 ],
 "metadata": {
  "kernelspec": {
   "display_name": "Python 3",
   "language": "python",
   "name": "python3"
  },
  "language_info": {
   "codemirror_mode": {
    "name": "ipython",
    "version": 3
   },
   "file_extension": ".py",
   "mimetype": "text/x-python",
   "name": "python",
   "nbconvert_exporter": "python",
   "pygments_lexer": "ipython3",
   "version": "3.7.4"
  },
  "latex_envs": {
   "LaTeX_envs_menu_present": true,
   "autoclose": false,
   "autocomplete": true,
   "bibliofile": "biblio.bib",
   "cite_by": "apalike",
   "current_citInitial": 1,
   "eqLabelWithNumbers": true,
   "eqNumInitial": 1,
   "hotkeys": {
    "equation": "Ctrl-E",
    "itemize": "Ctrl-I"
   },
   "labels_anchors": false,
   "latex_user_defs": false,
   "report_style_numbering": false,
   "user_envs_cfg": false
  },
  "toc": {
   "base_numbering": 1,
   "nav_menu": {},
   "number_sections": true,
   "sideBar": true,
   "skip_h1_title": false,
   "title_cell": "Table of Contents",
   "title_sidebar": "Contents",
   "toc_cell": false,
   "toc_position": {},
   "toc_section_display": true,
   "toc_window_display": false
  }
 },
 "nbformat": 4,
 "nbformat_minor": 2
}
