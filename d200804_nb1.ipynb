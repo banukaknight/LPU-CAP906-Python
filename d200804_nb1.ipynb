{
 "cells": [
  {
   "cell_type": "markdown",
   "metadata": {},
   "source": [
    "# Banuka Vidusanka Notebook Python"
   ]
  },
  {
   "cell_type": "markdown",
   "metadata": {},
   "source": [
    "### d200728"
   ]
  },
  {
   "cell_type": "code",
   "execution_count": 2,
   "metadata": {},
   "outputs": [
    {
     "name": "stdout",
     "output_type": "stream",
     "text": [
      "Hello Worlds!\n"
     ]
    }
   ],
   "source": [
    "# basic print statement\n",
    "print(\"Hello Worlds!\")"
   ]
  },
  {
   "cell_type": "code",
   "execution_count": 3,
   "metadata": {},
   "outputs": [
    {
     "name": "stdout",
     "output_type": "stream",
     "text": [
      "I am from comment section\n"
     ]
    },
    {
     "data": {
      "text/plain": [
       "'I am from multi line section\\nMe too\\nMe too'"
      ]
     },
     "execution_count": 3,
     "metadata": {},
     "output_type": "execute_result"
    }
   ],
   "source": [
    "# I am single line comment\n",
    "print(\"I am from comment section\")\n",
    "'''I am from multi line section\n",
    "Me too\n",
    "Me too'''\n"
   ]
  },
  {
   "cell_type": "markdown",
   "metadata": {},
   "source": [
    "### d200804"
   ]
  },
  {
   "cell_type": "code",
   "execution_count": 6,
   "metadata": {},
   "outputs": [
    {
     "name": "stdout",
     "output_type": "stream",
     "text": [
      "Sum is 400\n",
      "Sum is400\n"
     ]
    }
   ],
   "source": [
    "# how to use variable in python, lets talk about addition of two nums\n",
    "'''\n",
    "int var1, var2, summ;\n",
    "var1=100;\n",
    "var2=200;\n",
    "summ=var1 + var2;\n",
    "printf(\"sum is %d\", summ)\n",
    "'''\n",
    "var1 = 100\n",
    "var2 = 300\n",
    "summ = 0\n",
    "summ= var1 + var2\n",
    "#print(\"Sum is\" + summ) this will generate error because sum is of type string and summ is of type int\n",
    "# op1\n",
    "print(\"Sum is\", summ)\n",
    "#op2\n",
    "print(\"Sum is \"+ str(summ))"
   ]
  },
  {
   "cell_type": "code",
   "execution_count": 17,
   "metadata": {},
   "outputs": [
    {
     "name": "stdout",
     "output_type": "stream",
     "text": [
      "<class 'int'>\n",
      "<class 'str'>\n",
      "<class 'float'>\n",
      "<class 'bool'>\n",
      "<class 'list'>\n",
      "<class 'tuple'>\n",
      "<class 'set'>\n",
      "<class 'dict'>\n"
     ]
    }
   ],
   "source": [
    "# can we check what is the type of variable\n",
    "var1=100\n",
    "var2=\"200\"\n",
    "var3=100.5\n",
    "var4=True\n",
    "var5=[\"a\",\"b\",\"c\"]\n",
    "var6=(\"a\",\"b\",\"c\")\n",
    "var7={\"a\",\"b\",\"c\"}\n",
    "var8={\"name\": \"python\", \"spec\": \"PL\"}\n",
    "print(type(var1))\n",
    "print(type(var2))\n",
    "print(type(var3))\n",
    "print(type(var4))\n",
    "print(type(var5))\n",
    "print(type(var6))\n",
    "print(type(var7))\n",
    "print(type(var8))"
   ]
  },
  {
   "cell_type": "code",
   "execution_count": 6,
   "metadata": {},
   "outputs": [
    {
     "name": "stdout",
     "output_type": "stream",
     "text": [
      "100\n",
      "100\n",
      "100\n",
      "========\n",
      "100\n",
      "200\n",
      "300\n"
     ]
    }
   ],
   "source": [
    "# how to take multiple variables at one time\n",
    "# var1=100\n",
    "# var2=100\n",
    "# var3=100\n",
    "var1=var2=var3=100 # short notation - 1\n",
    "print(var1) #100\n",
    "print(var2) #100\n",
    "print(var3) #100\n",
    "print(\"========\")\n",
    "var1=100\n",
    "var2=200\n",
    "var3=300\n",
    "var1, var2, var3= 100, 200, 300 #shortnotation-2\n",
    "print(var1) #100\n",
    "print(var2) #200\n",
    "print(var3) #300"
   ]
  },
  {
   "cell_type": "markdown",
   "metadata": {},
   "source": [
    "### d200804"
   ]
  },
  {
   "cell_type": "code",
   "execution_count": 6,
   "metadata": {},
   "outputs": [
    {
     "name": "stdout",
     "output_type": "stream",
     "text": [
      "1string one line single qote <class 'str'>\n",
      "2string one line double qote <class 'str'>\n",
      "3string multi \n",
      "line \n",
      "triple qote <class 'str'>\n"
     ]
    }
   ],
   "source": [
    "#string types\n",
    "var1 = '1string one line single qote'\n",
    "var2 = \"2string one line double qote\"\n",
    "var3 = '''3string multi \n",
    "line \n",
    "triple qote'''\n",
    "\n",
    "print(var1, type(var1))\n",
    "print(var2, type(var2))\n",
    "print(var3, type(var3))\n"
   ]
  },
  {
   "cell_type": "code",
   "execution_count": 20,
   "metadata": {},
   "outputs": [
    {
     "name": "stdout",
     "output_type": "stream",
     "text": [
      "H <class 'str'>\n",
      "e <class 'str'>\n",
      "L <class 'str'>\n",
      "L <class 'str'>\n",
      "o <class 'str'>\n",
      "-------------\n",
      "H 0 <class 'int'> <class 'str'>\n",
      "e 1 <class 'int'> <class 'str'>\n",
      "L 2 <class 'int'> <class 'str'>\n",
      "L 3 <class 'int'> <class 'str'>\n",
      "o 4 <class 'int'> <class 'str'>\n"
     ]
    }
   ],
   "source": [
    "var1 = 'HeLLo'\n",
    "\n",
    "for i in var1:\n",
    "    print(i, type(i))\n",
    "print(\"-------------\")    \n",
    "for x in range (len(var1)):\n",
    "    print(var1[x], x, type(x), type(var1[x]))"
   ]
  },
  {
   "cell_type": "code",
   "execution_count": 1,
   "metadata": {},
   "outputs": [
    {
     "name": "stdout",
     "output_type": "stream",
     "text": [
      "H\n",
      "LLo\n",
      "HeLLo\n",
      "o World\n",
      "------\n",
      "Wor\n",
      "ld\n",
      "HeLLo Wo\n",
      "------\n",
      "LLo\n"
     ]
    }
   ],
   "source": [
    "var1 = 'HeLLo World'\n",
    "       #0123456789...\n",
    "       #.9876543210\n",
    "    \n",
    "print (var1[0])\n",
    "print (var1[2:5])\n",
    "print (var1[:5])\n",
    "print (var1[4:])\n",
    "print(\"------\")\n",
    "print (var1[-5:-2]) \n",
    "print (var1[-2:]) #print last 2\n",
    "print (var1[:-3]) #print except last 3\n",
    "print(\"------\")\n",
    "print (var1[2:5:1]) #step value default = 1,\n"
   ]
  },
  {
   "cell_type": "markdown",
   "metadata": {},
   "source": [
    "### d200805"
   ]
  },
  {
   "cell_type": "code",
   "execution_count": 20,
   "metadata": {},
   "outputs": [
    {
     "name": "stdout",
     "output_type": "stream",
     "text": [
      "\n",
      " length is  34\n",
      "\n",
      " To upper case:  HELLO MY WORLD. KILO LOTS  LL LLXX\n",
      "\n",
      " To lower case:  hello my world. kilo lots  ll llxx\n",
      "\n",
      " replace char l with x : HexLo my WoRxd. Kixo Lots  xx LLxx\n",
      "\n",
      " split string to list of words:  ['HelLo', 'my', 'WoRld.', 'Kilo', 'Lots', '', 'll', 'LLxx']\n"
     ]
    }
   ],
   "source": [
    "varstr = \"HelLo my WoRld. Kilo Lots  ll LLxx\"\n",
    "\n",
    "print(\"\\n length is \",len(varstr))\n",
    "\n",
    "print(\"\\n To upper case: \", varstr.upper() )\n",
    "\n",
    "print(\"\\n To lower case: \", varstr.lower() )\n",
    "\n",
    "print(\"\\n replace char l with x :\", varstr.replace(\"l\",\"x\")  )\n",
    "\n",
    "print(\"\\n split string to list of words: \", varstr.split(\" \"))"
   ]
  },
  {
   "cell_type": "code",
   "execution_count": 34,
   "metadata": {},
   "outputs": [
    {
     "name": "stdout",
     "output_type": "stream",
     "text": [
      "       Hello  my Good    world  \n",
      "\n",
      " splitted to list: \n",
      " ['', '', '', '', '', '', '', 'Hello', '', 'my', 'Good', '', '', '', 'world', '', '']\n",
      "\n",
      " strip func:\n",
      " Hello  my Good    world\n",
      "\n",
      " rstrip func:\n",
      "        Hello  my Good    world\n",
      "\n",
      " lstrip func:\n",
      " Hello  my Good    world  \n",
      "\n",
      " splitted to list: \n",
      " ['', '', '', '', '', '', '', 'Hello', '', 'my', 'Good', '', '', '', 'world', '', '']\n",
      "['Hello', 'my', 'Good', 'world']\n"
     ]
    }
   ],
   "source": [
    "var1 = \"       Hello  my Good    world  \"\n",
    "print(var1)\n",
    "print(\"\\n splitted to list: \\n\", var1.split(\" \") )\n",
    "\n",
    "\n",
    "print(\"\\n strip func:\\n\", var1.strip() )\n",
    "print(\"\\n rstrip func:\\n\", var1.rstrip() )\n",
    "print(\"\\n lstrip func:\\n\", var1.lstrip() )\n",
    "\n",
    "\n",
    "print(\"\\n splitted to list: \\n\", var1.split(\" \") )\n",
    "var2list = var1.split(\" \") \n",
    "#removes empty and space strings from list\n",
    "var3list =  ' '.join(var2list).split()\n",
    "print(var3list)"
   ]
  },
  {
   "cell_type": "markdown",
   "metadata": {},
   "source": [
    "### d200806"
   ]
  },
  {
   "cell_type": "code",
   "execution_count": 8,
   "metadata": {},
   "outputs": [
    {
     "name": "stdout",
     "output_type": "stream",
     "text": [
      "Hello World 2020 <class 'str'>\n",
      "True <class 'bool'>\n",
      "False <class 'bool'>\n"
     ]
    }
   ],
   "source": [
    "var1 = \"Hello \"\n",
    "var2 = \"World \"\n",
    "var3 = 2020\n",
    "vartot = var1 + var2 + str(var3)\n",
    "print (vartot, type(vartot))\n",
    "\n",
    "var4 = \"THis is my new string to test\"\n",
    "var5 = \"new\"\n",
    "check = var5 in var4\n",
    "print (check, type(check))\n",
    "\n",
    "check2 = var5 not in var4\n",
    "print (check2, type(check))\n",
    "\n"
   ]
  },
  {
   "cell_type": "code",
   "execution_count": 12,
   "metadata": {},
   "outputs": [
    {
     "name": "stdout",
     "output_type": "stream",
     "text": [
      "('a', 'x', 4, 'b', 'c', 'd', 'c', True) <class 'tuple'>\n",
      "a <class 'str'>\n",
      "c <class 'bool'>\n",
      "('a', 'x', 4) <class 'tuple'>\n",
      "4 <class 'int'>\n",
      "2\n"
     ]
    }
   ],
   "source": [
    "##tuples -------------\n",
    "\n",
    "tuple1 = (\"a\",\"x\" , 4, \"b\", \"c\", \"d\", \"c\", True)\n",
    "print (tuple1, type(tuple1))\n",
    "\n",
    "print (tuple1[0], type(tuple1[0]))\n",
    "print (tuple1[-2], type(tuple1[-1]))\n",
    "\n",
    "print (tuple1[0:3], type(tuple1[0:3]))\n",
    "\n",
    "eleindx = tuple1.index(\"c\")\n",
    "print(eleindx, type(eleindx))\n",
    "\n",
    "#eleindx = tuple1.index(\"e\")  #value not found error will come\n",
    "#print(eleindx, type(eleindx))\n",
    "\n",
    "elecount = tuple1.count(\"c\")\n",
    "print(elecount)"
   ]
  },
  {
   "cell_type": "code",
   "execution_count": null,
   "metadata": {},
   "outputs": [],
   "source": []
  }
 ],
 "metadata": {
  "kernelspec": {
   "display_name": "Python 3",
   "language": "python",
   "name": "python3"
  },
  "language_info": {
   "codemirror_mode": {
    "name": "ipython",
    "version": 3
   },
   "file_extension": ".py",
   "mimetype": "text/x-python",
   "name": "python",
   "nbconvert_exporter": "python",
   "pygments_lexer": "ipython3",
   "version": "3.7.4"
  }
 },
 "nbformat": 4,
 "nbformat_minor": 2
}
