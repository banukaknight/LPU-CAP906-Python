{
 "cells": [
  {
   "cell_type": "code",
   "execution_count": 5,
   "metadata": {},
   "outputs": [
    {
     "name": "stdout",
     "output_type": "stream",
     "text": [
      "Enter number 1 -> 1\n",
      "Enter number 2 -> 2\n",
      "Enter number 3 -> 3\n",
      "Enter number 4 -> 4\n",
      "Enter number 5 -> 5\n",
      "Enter number 6 -> 6\n",
      "Enter number 7 -> 7\n",
      "Enter number 8 -> 8\n",
      "Enter number 9 -> 9\n",
      "Enter number 10 -> 10\n"
     ]
    }
   ],
   "source": [
    "numbers = []\n",
    "no = 0\n",
    "square = 0\n",
    "pal = \"\"\n",
    "\n",
    "file1 = open('file1.txt','w')\n",
    "file1.write('Number  |  Square  | Square palindrome ? \\n')\n",
    "\n",
    "file2 = open('file2.txt','w')\n",
    "file2.write('Number  |  Square  | Square palindrome ? \\n')\n",
    "\n",
    "for i in range(0,10):\n",
    "    no = int(input('Enter number %d -> '%(i+1)))\n",
    "    square = no * no\n",
    "    temp = square\n",
    "    rev = 0\n",
    "    while temp > 0:\n",
    "        rev = (rev * 10) + (temp % 10)\n",
    "        temp = temp // 10\n",
    "        \n",
    "    if rev == square :\n",
    "        pal = \"Yes\"\n",
    "    else:\n",
    "        pal = \"No\"\n",
    "    \n",
    "    numbers.append([no,square,pal])\n",
    "\n",
    "\n",
    "for i in range(0,10):\n",
    "    if(numbers[i][2] == 'Yes'):\n",
    "        file1.write('%d       |    %d     |  %s \\n' %(numbers[i][0],numbers[i][1],numbers[i][2]))\n",
    "    else:\n",
    "        file2.write('%d       |    %d     |  %s \\n' %(numbers[i][0],numbers[i][1],numbers[i][2]))\n",
    "        \n",
    "file1.close()\n",
    "file2.close()\n"
   ]
  }
 ],
 "metadata": {
  "kernelspec": {
   "display_name": "Python 3",
   "language": "python",
   "name": "python3"
  },
  "language_info": {
   "codemirror_mode": {
    "name": "ipython",
    "version": 3
   },
   "file_extension": ".py",
   "mimetype": "text/x-python",
   "name": "python",
   "nbconvert_exporter": "python",
   "pygments_lexer": "ipython3",
   "version": "3.7.4"
  },
  "latex_envs": {
   "LaTeX_envs_menu_present": true,
   "autoclose": false,
   "autocomplete": true,
   "bibliofile": "biblio.bib",
   "cite_by": "apalike",
   "current_citInitial": 1,
   "eqLabelWithNumbers": true,
   "eqNumInitial": 1,
   "hotkeys": {
    "equation": "Ctrl-E",
    "itemize": "Ctrl-I"
   },
   "labels_anchors": false,
   "latex_user_defs": false,
   "report_style_numbering": false,
   "user_envs_cfg": false
  },
  "toc": {
   "base_numbering": 1,
   "nav_menu": {},
   "number_sections": true,
   "sideBar": true,
   "skip_h1_title": false,
   "title_cell": "Table of Contents",
   "title_sidebar": "Contents",
   "toc_cell": false,
   "toc_position": {},
   "toc_section_display": true,
   "toc_window_display": false
  }
 },
 "nbformat": 4,
 "nbformat_minor": 2
}
