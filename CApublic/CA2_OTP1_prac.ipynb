{
 "cells": [
  {
   "cell_type": "code",
   "execution_count": null,
   "metadata": {},
   "outputs": [],
   "source": [
    "print('''Q1. Write a Python program to sum all the items in a list if the list \n",
    "does not contain any duplicate elements. [10]''')\n",
    "\n",
    "def getListSum(myList):\n",
    "    print(\"\\nList is:\",myList)\n",
    "    uniques = []\n",
    "    duplicates = []\n",
    "    for item in myList:\n",
    "        if item not in uniques:\n",
    "            uniques.append(item)\n",
    "        else:\n",
    "            duplicates.append(item)\n",
    "\n",
    "    listsum = 0        \n",
    "    if duplicates == [] :\n",
    "        for item in myList:\n",
    "            listsum += item\n",
    "        print(\"No duplicates in list. Sum is:\",listsum)\n",
    "    else:\n",
    "        print(\"List had duplicate values.\")\n",
    "        \n",
    "list1 = [3,7,9,11,7,8,3,12,43]\n",
    "list2 = [3,75,9,11,7,1,33,12,43]\n",
    "getListSum(list1)\n",
    "getListSum(list2)\n"
   ]
  },
  {
   "cell_type": "code",
   "execution_count": null,
   "metadata": {},
   "outputs": [],
   "source": [
    "print('''Q2. Write a Python program to find frequency \n",
    "of all elements in a tuple which are ending with 0.''')\n",
    "\n",
    "myTuple = (34,10,54,50,60,32,26,80,-10,60,100,200,100,10)\n",
    "myDictionary = {}\n",
    "for i in myTuple:\n",
    "    if i%10 == 0:\n",
    "        myDictionary[str(i)] = 1 + myDictionary.get(str(i),0)\n",
    "print(myDictionary) \n",
    "\n",
    "for key in myDictionary:\n",
    "    print(key,\"frequency:\",myDictionary[key])"
   ]
  },
  {
   "cell_type": "code",
   "execution_count": null,
   "metadata": {},
   "outputs": [],
   "source": [
    "print('''Write a Python program to multiply all the items in a dictionary.''')\n",
    "marks = {\"Amisha\":7, \"Kamal\":3, \"Setha\":5, \"David\":4, \"John\":5, \"Sahil\":1}\n",
    "multiple = 1\n",
    "\n",
    "for key in marks:\n",
    "    multiple *= marks[key]\n",
    "print(\"Multiple of values in dictionory:\",multiple)"
   ]
  },
  {
   "cell_type": "code",
   "execution_count": null,
   "metadata": {},
   "outputs": [],
   "source": [
    "tuple = (1,10,3,1,2,1,1,4,5,2,3,10,10,20,30,30,40,40,40,50,50,80,)\n",
    "found = ()\n",
    "for e in tuple:\n",
    "    if (e%10==0) and (e not in found):\n",
    "        print(e, \" repated\",tuple.count(e))\n",
    "        found = found + (e,)\n",
    "        \n",
    "print(\"All numbers ending with 0:\",found)"
   ]
  },
  {
   "cell_type": "code",
   "execution_count": null,
   "metadata": {},
   "outputs": [],
   "source": [
    "tuple = (1,10,3,1,2,1,1,4,5,2,3,10,10,20,30,30,40,40,40,50,50,80,)\n",
    "list1 = []\n",
    "list2 = []\n",
    "for e in tuple:\n",
    "    if (e%10==0):\n",
    "        if e in list1:\n",
    "            index = list1.index(e)\n",
    "            list2[index] += 1\n",
    "        else:\n",
    "            list1.append(e)\n",
    "            list2.append(1)\n",
    "        \n",
    "for x, y in zip(list1, list2):\n",
    "    print(x,\":\", y)"
   ]
  },
  {
   "cell_type": "code",
   "execution_count": 4,
   "metadata": {},
   "outputs": [
    {
     "name": "stdout",
     "output_type": "stream",
     "text": [
      "Phone \t\tPrice \tTotal in Stock\n",
      "Nokia           4000            4       \n",
      "Apple           7800            9       \n",
      "Samsung         6500            5       \n",
      "Mi5             3000            2       \n",
      "Blackberry      3400            4       \n",
      "\n",
      "Enter number of phones being bought from each brand\n",
      "Nokia phones buying: 3\n",
      "Apple phones buying: 6\n",
      "Samsung phones buying: 1\n",
      "Mi5 phones buying: 9\n",
      "Blackberry phones buying: 7\n",
      "[3, 6, 1, 2, 4]\n",
      "Total price for phones in brand: Nokia 12000\n",
      "Total price for phones in brand: Apple 46800\n",
      "Total price for phones in brand: Samsung 6500\n",
      "Total price for phones in brand: Mi5 6000\n",
      "Total price for phones in brand: Blackberry 13600\n",
      "Total cost for all phones being baught: 84900\n",
      "\n",
      "Updated Stock list:\n",
      "Phone \t\tPrice \tTotal in Stock\n",
      "Nokia           4000            1       \n",
      "Apple           7800            3       \n",
      "Samsung         6500            4       \n",
      "Mi5             3000            0       \n",
      "Blackberry      3400            0       \n"
     ]
    }
   ],
   "source": [
    "### mobile phone question. list, tuple, dict\n",
    "\n",
    "phoneList = [\"Nokia\",\"Apple\",\"Samsung\",\"Mi5\",\"Blackberry\"]\n",
    "priceTuple = (4000,7800,6500,3000,3400)\n",
    "StockDict = {\"Nokia\":4,\"Apple\":9,\"Samsung\":5,\"Mi5\":2,\"Blackberry\":4}\n",
    "\n",
    "print(\"Phone \\t\\tPrice \\tTotal in Stock\")\n",
    "for i in range(0,len(phoneList)):\n",
    "    print(str(phoneList[i]).ljust(16), end='')\n",
    "    print(str(priceTuple[i]).ljust(16), end='')\n",
    "    print(str(StockDict[phoneList[i]]).ljust(8))\n",
    "    \n",
    "print(\"\\nEnter number of phones being bought from each brand\")\n",
    "purchases = []\n",
    "for p in phoneList:\n",
    "    tempstr = p + \" phones buying: \"\n",
    "    pcount = int(input(tempstr))\n",
    "    if pcount > StockDict[p]: pcount = StockDict[p]\n",
    "    purchases.append(pcount)\n",
    "    #change stock details\n",
    "    StockDict[p] = StockDict[p]-pcount\n",
    "print(purchases)\n",
    "    \n",
    "totalCost = 0\n",
    "for i in range(0,len(phoneList)):\n",
    "    print(\"Total price for phones in brand:\", phoneList[i], priceTuple[i] * purchases[i] )\n",
    "    totalCost += priceTuple[i] * purchases[i]\n",
    "print(\"\\nTotal cost of all phones being baught:\", totalCost)\n",
    "\n",
    "print(\"\\nUpdated Stock list:\")\n",
    "print(\"Phone \\t\\tPrice \\tTotal in Stock\")\n",
    "for i in range(0,len(phoneList)):\n",
    "    print(str(phoneList[i]).ljust(16), end='')\n",
    "    print(str(priceTuple[i]).ljust(16), end='')\n",
    "    print(str(StockDict[phoneList[i]]).ljust(8))"
   ]
  },
  {
   "cell_type": "code",
   "execution_count": null,
   "metadata": {},
   "outputs": [],
   "source": []
  }
 ],
 "metadata": {
  "kernelspec": {
   "display_name": "Python 3",
   "language": "python",
   "name": "python3"
  },
  "language_info": {
   "codemirror_mode": {
    "name": "ipython",
    "version": 3
   },
   "file_extension": ".py",
   "mimetype": "text/x-python",
   "name": "python",
   "nbconvert_exporter": "python",
   "pygments_lexer": "ipython3",
   "version": "3.7.4"
  }
 },
 "nbformat": 4,
 "nbformat_minor": 2
}
