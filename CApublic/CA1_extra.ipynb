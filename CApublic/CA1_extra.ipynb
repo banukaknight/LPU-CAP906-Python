{
 "cells": [
  {
   "cell_type": "code",
   "execution_count": 26,
   "metadata": {},
   "outputs": [
    {
     "name": "stdout",
     "output_type": "stream",
     "text": [
      "Enter Range of harmonic series needed: 40\n",
      "1 + 1/2 + 1/3 + 1/4 + 1/5 + 1/6 + 1/7 + 1/8 + 1/9 + 1/10 + 1/11 + 1/12 + 1/13 + 1/14 + 1/15 + 1/16 + 1/17 + 1/18 + 1/19 + 1/20 + 1/21 + 1/22 + 1/23 + 1/24 + 1/25 + 1/26 + 1/27 + 1/28 + 1/29 + 1/30 + 1/31 + 1/32 + 1/33 + 1/34 + 1/35 + 1/36 + 1/37 + 1/38 + 1/39 + 1/40\n",
      "Sum is: 4.278543038936376\n"
     ]
    }
   ],
   "source": [
    "# write a python program to display the n terms of harmonic series & their sum.\n",
    "\n",
    "var1 = int(input(\"Enter Range of harmonic series needed: \"))\n",
    "\n",
    "if var1 < 0:\n",
    "    print (\"please enter positive integer\")\n",
    "    exit()\n",
    "    \n",
    "sum =1.0\n",
    "print (\"1\", end=\"\")\n",
    "for i in range (2,var1+1):\n",
    "    sum += 1/i\n",
    "    print (' + 1/'+str(i),end=\"\")\n",
    "    \n",
    "print(\"\\nSum is:\",sum)    "
   ]
  },
  {
   "cell_type": "code",
   "execution_count": 4,
   "metadata": {},
   "outputs": [
    {
     "name": "stdout",
     "output_type": "stream",
     "text": [
      "number of lines ODD no: 31\n",
      "*******************************\n",
      " *****************************\n",
      "  ***************************\n",
      "   *************************\n",
      "    ***********************\n",
      "     *********************\n",
      "      *******************\n",
      "       *****************\n",
      "        ***************\n",
      "         *************\n",
      "          ***********\n",
      "           *********\n",
      "            *******\n",
      "             *****\n",
      "              ***\n",
      "               *\n",
      "              ***\n",
      "             *****\n",
      "            *******\n",
      "           *********\n",
      "          ***********\n",
      "         *************\n",
      "        ***************\n",
      "       *****************\n",
      "      *******************\n",
      "     *********************\n",
      "    ***********************\n",
      "   *************************\n",
      "  ***************************\n",
      " *****************************\n",
      "*******************************\n"
     ]
    }
   ],
   "source": [
    "# *********x9 print this\n",
    "#  *******\n",
    "#   *****\n",
    "#    ***\n",
    "#     *\n",
    "#    ***\n",
    "#   *****\n",
    "#  *******\n",
    "# *********\n",
    "\n",
    "import math\n",
    "\n",
    "#var1 = 9\n",
    "var1 = int(input(\"number of lines ODD no: \"))\n",
    "\n",
    "for i in range (0,math.ceil(var1/2)):\n",
    "    for y in range (i):\n",
    "        print(\" \", end=\"\")\n",
    "    for x in range (var1-2*i):\n",
    "        print(\"*\", end=\"\")\n",
    "    print(\"\\n\", end=\"\")\n",
    "    \n",
    "for i in reversed(range(0,int(var1/2))):\n",
    "    for y in range (i):\n",
    "        print(\" \", end=\"\")\n",
    "    for x in range (var1-2*i):\n",
    "        print(\"*\", end=\"\")\n",
    "    print(\"\\n\", end=\"\")\n",
    "        \n",
    "\n",
    "        "
   ]
  },
  {
   "cell_type": "code",
   "execution_count": null,
   "metadata": {},
   "outputs": [],
   "source": []
  }
 ],
 "metadata": {
  "kernelspec": {
   "display_name": "Python 3",
   "language": "python",
   "name": "python3"
  },
  "language_info": {
   "codemirror_mode": {
    "name": "ipython",
    "version": 3
   },
   "file_extension": ".py",
   "mimetype": "text/x-python",
   "name": "python",
   "nbconvert_exporter": "python",
   "pygments_lexer": "ipython3",
   "version": "3.7.4"
  }
 },
 "nbformat": 4,
 "nbformat_minor": 2
}
