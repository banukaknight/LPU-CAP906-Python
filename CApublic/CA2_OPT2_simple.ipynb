{
 "cells": [
  {
   "cell_type": "code",
   "execution_count": 9,
   "metadata": {},
   "outputs": [
    {
     "name": "stdout",
     "output_type": "stream",
     "text": [
      "[[12, 67, 46, 88, 9], [41, 63, 87], [91, 12, 0, 65], [51, 44, 8, 9], [99, 51, 97, 7, 3, 3]]\n",
      "Even item found. Skip.\n",
      "Sum of list 0\n",
      "Sum of list 191\n",
      "Even item found. Skip.\n",
      "Sum of list 0\n",
      "Even item found. Skip.\n",
      "Sum of list 0\n",
      "Sum of list 260\n",
      "Sum of all lists without even numbers.. 451\n"
     ]
    }
   ],
   "source": [
    "#Q1\n",
    "l1 = [12,67,46,88,9]\n",
    "l2 = [41,63,87]\n",
    "l3 = [91,12,0,65]\n",
    "l4 = [51,44,8,9]\n",
    "l5 = [99,51,97,7,3,3]\n",
    "listAll = [l1,l2,l3,l4,l5]\n",
    "print(listAll)\n",
    "\n",
    "totalSum = 0\n",
    "\n",
    "for listk in listAll:\n",
    "    listSum = 0\n",
    "    for itemk in listk:\n",
    "        if itemk%2 == 0:\n",
    "            print(\"Even item found. Skip.\")\n",
    "            listSum = 0\n",
    "            break\n",
    "        else:\n",
    "            listSum = listSum + itemk\n",
    "    totalSum = totalSum + listSum\n",
    "    print(\"Sum of list\",listSum)\n",
    "\n",
    "print(\"Sum of all lists without even numbers..\",totalSum)"
   ]
  },
  {
   "cell_type": "code",
   "execution_count": 2,
   "metadata": {},
   "outputs": [
    {
     "name": "stdout",
     "output_type": "stream",
     "text": [
      "Tuple is: (19, 65, 23, 55, 89, 76, 12, 11, 45, 7)\n",
      "Largest 89\n",
      "Second largest 76\n",
      "Smallest 7\n",
      "Second smallest 11\n"
     ]
    }
   ],
   "source": [
    "#Q2\n",
    "import math\n",
    "t1 = (19,65,23,55,89,76,12,11,45,7)\n",
    "print(\"Tuple is:\", t1)\n",
    "largest = seclargest = -math.inf\n",
    "\n",
    "for k in t1:\n",
    "    if k>largest:\n",
    "        largest = k\n",
    "for k in t1:        \n",
    "    if k>seclargest and k<largest:\n",
    "        seclargest = k\n",
    " \n",
    "print(\"Largest\",largest)\n",
    "print(\"Second largest\",seclargest)\n",
    "\n",
    "smallest = secsmallest = math.inf\n",
    "\n",
    "for k in t1:\n",
    "    if k<smallest:\n",
    "        smallest = k\n",
    "for k in t1:        \n",
    "    if k<secsmallest and k>smallest:\n",
    "        secsmallest = k\n",
    " \n",
    "print(\"Smallest\",smallest)\n",
    "print(\"Second smallest\",secsmallest)"
   ]
  },
  {
   "cell_type": "code",
   "execution_count": 10,
   "metadata": {},
   "outputs": [
    {
     "name": "stdout",
     "output_type": "stream",
     "text": [
      "76\n"
     ]
    }
   ],
   "source": [
    "t1 = (19,65,23,55,89,76,12,11,45,89)\n",
    "larg1 = larg2 = 0;\n",
    "small1 = small2 = 99999;\n",
    "\n",
    "for a in t1:\n",
    "    if a > larg1:\n",
    "        larg1=a\n",
    "        \n",
    "for a in t1:\n",
    "    if a > larg2 and larg1 != a:\n",
    "        larg2 = a\n",
    "        \n",
    "print(larg2)"
   ]
  },
  {
   "cell_type": "code",
   "execution_count": 23,
   "metadata": {},
   "outputs": [
    {
     "name": "stdout",
     "output_type": "stream",
     "text": [
      "Dictionary is\n",
      " {'Amisha': 67, 'Kamal': 32, 'Setha': 57, 'David': 90, 'John': 50, 'Sahil': 57}\n",
      "Max value 90\n",
      "Min value 32\n"
     ]
    }
   ],
   "source": [
    "#Q3\n",
    "import math\n",
    "marks = {\"Amisha\":67, \"Kamal\":32, \"Setha\":57, \"David\":90, \"John\":50, \"Sahil\":57}\n",
    "maxVal = -math.inf\n",
    "minVal = math.inf\n",
    "\n",
    "for key in marks:\n",
    "    if maxVal < marks[key]:\n",
    "        maxVal = marks[key]\n",
    "    if minVal > marks[key]:\n",
    "        minVal = marks[key]\n",
    "\n",
    "print(\"Dictionary is\\n\", marks)\n",
    "print(\"Max value\",maxVal)\n",
    "print(\"Min value\",minVal)"
   ]
  },
  {
   "cell_type": "code",
   "execution_count": null,
   "metadata": {},
   "outputs": [],
   "source": []
  }
 ],
 "metadata": {
  "kernelspec": {
   "display_name": "Python 3",
   "language": "python",
   "name": "python3"
  },
  "language_info": {
   "codemirror_mode": {
    "name": "ipython",
    "version": 3
   },
   "file_extension": ".py",
   "mimetype": "text/x-python",
   "name": "python",
   "nbconvert_exporter": "python",
   "pygments_lexer": "ipython3",
   "version": "3.7.4"
  },
  "latex_envs": {
   "LaTeX_envs_menu_present": true,
   "autoclose": false,
   "autocomplete": true,
   "bibliofile": "biblio.bib",
   "cite_by": "apalike",
   "current_citInitial": 1,
   "eqLabelWithNumbers": true,
   "eqNumInitial": 1,
   "hotkeys": {
    "equation": "Ctrl-E",
    "itemize": "Ctrl-I"
   },
   "labels_anchors": false,
   "latex_user_defs": false,
   "report_style_numbering": false,
   "user_envs_cfg": false
  },
  "toc": {
   "base_numbering": 1,
   "nav_menu": {},
   "number_sections": true,
   "sideBar": true,
   "skip_h1_title": false,
   "title_cell": "Table of Contents",
   "title_sidebar": "Contents",
   "toc_cell": false,
   "toc_position": {},
   "toc_section_display": true,
   "toc_window_display": false
  }
 },
 "nbformat": 4,
 "nbformat_minor": 2
}
