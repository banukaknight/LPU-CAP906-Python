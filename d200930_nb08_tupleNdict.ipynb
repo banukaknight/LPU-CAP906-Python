{
 "cells": [
  {
   "cell_type": "markdown",
   "metadata": {},
   "source": [
    "##2020-09-30 new week tuple & dictonary"
   ]
  },
  {
   "cell_type": "code",
   "execution_count": null,
   "metadata": {},
   "outputs": [],
   "source": [
    "#Introduction of Tuples, it is also a collection like lists - ex-1\n",
    "\n",
    "#simplelist = [1,2,3,4,5,6,7,8,9,10] # list\n",
    "\n",
    "simpletuple = (1, 2, 3, 4, 5, 6, 7, 8, 9, 10) # Tuple - static with integer data\n",
    "\n",
    "print(\"Tuple is\", simpletuple) # printing of tuple elements\n",
    "\n",
    "print(\"Type of data is \",type(simpletuple)) # printing of type\n"
   ]
  },
  {
   "cell_type": "code",
   "execution_count": null,
   "metadata": {},
   "outputs": [],
   "source": [
    "#Introduction of Tuples, it is also a collection like lists - ex-6 - how to access elements with range of indexes\n",
    "\n",
    "simpletuple = (10, 20, 30, 40, 50, 60, 70, 80, 90, 100) # Tuple - static with integer data\n",
    "\n",
    "# print the sum of all the elements of tuple ( 10+20+30....+100)\n",
    "# print the sum of all the elements at even index (30+50+70...+100) or\n",
    "# print the sum of all the elements at even index (10+30+50...+100) or\n",
    "summ=0\n",
    "for i in simpletuple:\n",
    "    print(i)\n",
    "    summ=summ+i\n",
    "print(\"Sum of all elements is\",summ)\n",
    "\n",
    "summ=0\n",
    "for i in simpletuple[0:10:2]:\n",
    "    print(i)\n",
    "    summ=summ+i\n",
    "print(\"Sum of all elements at even index is\",summ)\n",
    "\n",
    "#or\n",
    "summ=0\n",
    "for i in simpletuple[2:10:2]:\n",
    "    print(i)\n",
    "    summ=summ+i\n",
    "print(\"Sum of all elements at even index is\",summ)\n"
   ]
  },
  {
   "cell_type": "code",
   "execution_count": null,
   "metadata": {},
   "outputs": [],
   "source": [
    "#Introduction of Tuples, it is also a collection like lists -  how to delete tuple as you cannot remove elements from a tuple\n",
    "\n",
    "simpletuple = (10, 20, 30, 40, 50, 60, 70, 80, 90, 100) # Tuple - static with integer data\n",
    "\n",
    "del simpletuple # tuple will be deleted\n",
    "\n",
    "#print(simpletuple) # generate an error because tuple is already deleted by line 5."
   ]
  },
  {
   "cell_type": "code",
   "execution_count": null,
   "metadata": {},
   "outputs": [],
   "source": [
    "#Introduction of Tuples, it is also a collection like lists -  how to join tuples\n",
    "\n",
    "simpletuple1 = (10, 20, 30, 40, 50) # Tuple - static with integer data\n",
    "simpletuple2 = (60, 70, 80, 90, 100) # Tuple - static with integer data\n",
    "\n",
    "simpletuple= simpletuple1+simpletuple2 # + operator can be used to join n tuples\n",
    "\n",
    "print(simpletuple) # printing of joined tuple"
   ]
  },
  {
   "cell_type": "code",
   "execution_count": null,
   "metadata": {},
   "outputs": [],
   "source": [
    "#Introduction of Tuples - with different methods\n",
    "\n",
    "simpletuple = (10, 20, 30, 40, 50, 60, 70, 80, 90, 100) # Tuple - static with integer data\n",
    "\n",
    "print(simpletuple) # printing of tuple\n",
    "\n",
    "ele=int(input(\"Enter the search element:\")) # enter the element to be searched\n",
    "ans=simpletuple.index(ele) # search and return the index of element\n",
    "\n",
    "print(\"Element found at index: \",ans)\n"
   ]
  },
  {
   "cell_type": "code",
   "execution_count": null,
   "metadata": {},
   "outputs": [],
   "source": [
    "#Introduction of Tuples - with different methods\n",
    "\n",
    "simpletuple = (10, 20, 30, 40, 50, 60, 70, 80, 50, 100) # Tuple - static with integer data\n",
    "\n",
    "print(simpletuple) # printing of tuple\n",
    "\n",
    "ele=int(input(\"Enter the search element:\")) # enter the element to be searched\n",
    "ans=simpletuple.count(ele) # search and return the no. of occureneces of element\n",
    "\n",
    "print(\"Element is repeated\",ans,\"time(s)\")\n"
   ]
  },
  {
   "cell_type": "code",
   "execution_count": null,
   "metadata": {},
   "outputs": [],
   "source": [
    "##dictionary"
   ]
  },
  {
   "cell_type": "code",
   "execution_count": null,
   "metadata": {},
   "outputs": [],
   "source": [
    "#Introduction of dictionaries  - how to define\n",
    "# info can be represented in the form of KEY-VALUE pairs\n",
    "examdict = {\n",
    "    \"name\": \"LENOVO\",\n",
    "    \"year\": 2020,\n",
    "    \"config\": \"I7\"\n",
    "            }\n",
    "print(examdict)\n",
    "print(type(examdict))"
   ]
  },
  {
   "cell_type": "code",
   "execution_count": null,
   "metadata": {},
   "outputs": [],
   "source": [
    "#Introduction of dictionaries - how to update\n",
    "# info can be represented in the form of KEY-VALUE pairs\n",
    "examdict = {\n",
    "    \"name\": \"LENOVO\",\n",
    "    \"year\": 2020,\n",
    "    \"config\": \"I7\"\n",
    "            }\n",
    "\n",
    "whichkey=input(\"Enter the key you want to change\") # take input of key to be updated\n",
    "newval=input(\"Enter the value you want to change\") # take input of value to be updated\n",
    "\n",
    "examdict[whichkey]=newval # to update value with the help of KEY\n",
    "print(examdict) # printing of updated dictionary\n"
   ]
  },
  {
   "cell_type": "code",
   "execution_count": null,
   "metadata": {},
   "outputs": [],
   "source": [
    "#Introduction of dictionaries - how to update\n",
    "# info can be represented in the form of KEY-VALUE pairs\n",
    "examdict = { # base dictionary\n",
    "    \"name\": \"LENOVO\",\n",
    "    \"year\": 2020,\n",
    "    \"config\": \"I7\"\n",
    "            }\n",
    "\n",
    "whichkey=input(\"Enter the key you want to change\") # take input of key to be updated\n",
    "\n",
    "if whichkey in examdict: #in keyword we can check whether key is present in dictionary or not\n",
    "    newval=input(\"Enter the value you want to change\") # take input of value to be updated\n",
    "    examdict[whichkey]=newval # to update value with the help of KEY\n",
    "else:\n",
    "    print(\"KEY NOT FOUND!!\") # will execute if key is not present \n",
    "    \n",
    "    \n",
    "print(examdict) # printing of updated dictionary\n"
   ]
  },
  {
   "cell_type": "code",
   "execution_count": null,
   "metadata": {},
   "outputs": [],
   "source": [
    "#make a dictionary with student details dynamically\n",
    "st1 = {}\n",
    "print(\"Enter details for student 1\")\n",
    "st1[\"name\"] = input(\"Enter studnt name:\")\n",
    "st1[\"reg\"] = input(\"Enter studnt ID:\")\n",
    "st1[\"email\"] = input(\"Enter studnt email:\")\n",
    "st1[\"phoneno\"] = input(\"Enter studnt phone no:\")\n",
    "st1[\"country\"] = input(\"Enter studnt country:\")\n",
    "st1[\"gender\"] = input(\"Enter studnt gender:\")\n",
    "st1[\"program\"] = input(\"Enter studnt program:\")\n",
    "st1[\"school\"] = input(\"Enter studnt school:\")\n",
    "\n",
    "for key in st1:\n",
    "    print(key,\"is\",st1[key])"
   ]
  },
  {
   "cell_type": "code",
   "execution_count": 9,
   "metadata": {},
   "outputs": [
    {
     "name": "stdout",
     "output_type": "stream",
     "text": [
      "Number of students :3\n",
      "\n",
      "------Enter details for student: 1\n",
      "Enter studnt name:Mahesh\n",
      "Enter studnt ID:1234\n",
      "Enter studnt email:gere@rere.dfd\n",
      "\n",
      "------Enter details for student: 2\n",
      "Enter studnt name:Bob\n",
      "Enter studnt ID:4343\n",
      "Enter studnt email:fdd@df.fd\n",
      "\n",
      "------Enter details for student: 3\n",
      "Enter studnt name:Yash\n",
      "Enter studnt ID:3534\n",
      "Enter studnt email:fdf@fdd.dsf\n",
      "\n",
      "+++++++Details of student:\n",
      "name is Mahesh\n",
      "reg is 1234\n",
      "email is gere@rere.dfd\n",
      "\n",
      "+++++++Details of student:\n",
      "name is Bob\n",
      "reg is 4343\n",
      "email is fdd@df.fd\n",
      "\n",
      "+++++++Details of student:\n",
      "name is Yash\n",
      "reg is 3534\n",
      "email is fdf@fdd.dsf\n"
     ]
    }
   ],
   "source": [
    "#make a dictionary with student details dynamically\n",
    "num_student = int(input(\"Number of students :\"))\n",
    "student_list = []\n",
    "\n",
    "for i in range(0, num_student):\n",
    "    st1 = {}\n",
    "    print(\"\\n------Enter details for student:\",i+1)\n",
    "    st1[\"name\"] = input(\"Enter studnt name:\")\n",
    "    st1[\"reg\"] = input(\"Enter studnt ID:\")\n",
    "    st1[\"email\"] = input(\"Enter studnt email:\")\n",
    "#     st1[\"phoneno\"] = input(\"Enter studnt phone no:\")\n",
    "#     st1[\"country\"] = input(\"Enter studnt country:\")\n",
    "#     st1[\"gender\"] = input(\"Enter studnt gender:\")\n",
    "#     st1[\"program\"] = input(\"Enter studnt program:\")\n",
    "#     st1[\"school\"] = input(\"Enter studnt school:\")\n",
    "    student_list.append(st1)\n",
    "    \n",
    "for stud_dict in student_list:\n",
    "    print(\"\\n+++++++Details of student:\")\n",
    "    for key in stud_dict:\n",
    "        print(key,\"is\",stud_dict[key])"
   ]
  },
  {
   "cell_type": "code",
   "execution_count": 8,
   "metadata": {},
   "outputs": [
    {
     "name": "stdout",
     "output_type": "stream",
     "text": [
      "name is: LENOVO\n",
      "year is: 2020\n",
      "config is: I7\n",
      "name key found.\n",
      "name key found.\n",
      "original {'name': 'LENOVO', 'year': 2020, 'config': 'I7'}\n",
      "original {}\n"
     ]
    },
    {
     "ename": "NameError",
     "evalue": "name 'dict1' is not defined",
     "output_type": "error",
     "traceback": [
      "\u001b[1;31m---------------------------------------------------------------------------\u001b[0m",
      "\u001b[1;31mNameError\u001b[0m                                 Traceback (most recent call last)",
      "\u001b[1;32m<ipython-input-8-49e4ff3b4925>\u001b[0m in \u001b[0;36m<module>\u001b[1;34m\u001b[0m\n\u001b[0;32m     24\u001b[0m \u001b[1;33m\u001b[0m\u001b[0m\n\u001b[0;32m     25\u001b[0m \u001b[1;32mdel\u001b[0m \u001b[0mdict1\u001b[0m   \u001b[1;31m#delete complete dictionary\u001b[0m\u001b[1;33m\u001b[0m\u001b[1;33m\u001b[0m\u001b[0m\n\u001b[1;32m---> 26\u001b[1;33m \u001b[0mprint\u001b[0m\u001b[1;33m(\u001b[0m\u001b[1;34m\"original\"\u001b[0m\u001b[1;33m,\u001b[0m\u001b[0mdict1\u001b[0m\u001b[1;33m)\u001b[0m\u001b[1;33m\u001b[0m\u001b[1;33m\u001b[0m\u001b[0m\n\u001b[0m",
      "\u001b[1;31mNameError\u001b[0m: name 'dict1' is not defined"
     ]
    }
   ],
   "source": [
    "#dictionary treversal\n",
    "dict1 = {\n",
    "    \"name\": \"LENOVO\",\n",
    "    \"year\": 2020,\n",
    "    \"config\": \"I7\"\n",
    "            }\n",
    "for key, val in dict1.items():\n",
    "    print (key,\"is:\",val)\n",
    "    \n",
    "if \"name\" in dict1:\n",
    "    print(\"name key found.\")\n",
    "    \n",
    "if \"name\" in dict1.keys():\n",
    "    print(\"name key found.\")\n",
    "    \n",
    "# if dict1.has_key(\"name\"): //only work in python 2\n",
    "#     print(\"name key found.\")\n",
    "    \n",
    "print(\"original\",dict1)\n",
    "\n",
    "dict1.clear() #clear all elements, keep structure\n",
    "print(\"original\",dict1)\n",
    "\n",
    "\n",
    "del dict1   #delete complete dictionary\n",
    "## print(\"original\",dict1) #error, dict not found\n"
   ]
  },
  {
   "cell_type": "code",
   "execution_count": 17,
   "metadata": {},
   "outputs": [
    {
     "name": "stdout",
     "output_type": "stream",
     "text": [
      "Number of cities :2\n",
      "---Details for city...\n",
      "Enter city Name:gsdf\n",
      "Enter city State:sdfs\n",
      "Enter city population:sdfsd\n",
      "---Details for city...\n",
      "Enter city Name:sfsd\n",
      "Enter city State:dsfs\n",
      "Enter city population:fsd\n",
      "name is: gsdf\n",
      "state is: sdfs\n",
      "population is: sdfsd\n",
      "name is: sfsd\n",
      "state is: dsfs\n",
      "population is: fsd\n"
     ]
    }
   ],
   "source": [
    "numcity = int(input(\"Number of cities :\"))\n",
    "citylist = []\n",
    "\n",
    "for i in range(0, numcity):\n",
    "    cityinfo = {}\n",
    "    print(\"---Details for city...\")\n",
    "    cityinfo[\"name\"] = input(\"Enter city Name:\")\n",
    "    cityinfo[\"state\"] = input(\"Enter city State:\")\n",
    "    cityinfo[\"population\"] = input(\"Enter city population:\")\n",
    "    citylist.append(cityinfo)\n",
    "\n",
    "for city in citylist:\n",
    "    for key in city:\n",
    "        print(\"+++City\",key,\"is:\",city[key])"
   ]
  },
  {
   "cell_type": "code",
   "execution_count": null,
   "metadata": {},
   "outputs": [],
   "source": [
    "#Introduction of dictionaries - how to update\n",
    "# info can be represented in the form of KEY-VALUE pairs\n",
    "examdict = { # base dictionary\n",
    "    \"name\": \"LENOVO\",\n",
    "    \"year\": 2020,\n",
    "    \"config\": \"I7\"\n",
    "            }\n",
    "\n",
    "whichkey=input(\"Enter the key you want to change\") # take input of key to be updated\n",
    "\n",
    "if whichkey in examdict: #in keyword we can check whether key is present in dictionary or not\n",
    "    newval=input(\"Enter the value you want to change\") # take input of value to be updated\n",
    "    examdict[whichkey]=newval # to update value with the help of KEY\n",
    "else:\n",
    "    print(\"KEY NOT FOUND!!\") # will execute if key is not present \n",
    "    \n",
    "    \n",
    "print(examdict) # printing of updated dictionary\n"
   ]
  },
  {
   "cell_type": "code",
   "execution_count": null,
   "metadata": {},
   "outputs": [],
   "source": [
    "#Introduction of dictionaries - how to access all keys\n",
    "# info can be represented in the form of KEY-VALUE pairs\n",
    "examdict = {\n",
    "    \"name\": \"LENOVO\",\n",
    "    \"year\": 2020,\n",
    "    \"config\": \"I7\"\n",
    "            }\n",
    "\n",
    "for key in examdict: # printing of all keys in dictionary\n",
    "    print(key)"
   ]
  },
  {
   "cell_type": "code",
   "execution_count": null,
   "metadata": {},
   "outputs": [],
   "source": [
    "#Introduction of dictionaries - how to access all keys - values pairs\n",
    "# info can be represented in the form of KEY-VALUE pairs\n",
    "examdict = {\n",
    "    \"Name:\": \"LENOVO\",\n",
    "    \"Year:\": 2020,\n",
    "    \"Config:\": \"I7\"\n",
    "            }\n",
    "\n",
    "print(\"Method - 1\")\n",
    "for key in examdict: # printing of all key value pairs in dictionary - ex1\n",
    "    print(key,examdict[key])\n",
    "\n",
    "print(\"\\nMethod - 2\")\n",
    "for key,value in examdict.items(): # printing of all key value pairs in dictionary - ex2\n",
    "    print(key,value)\n",
    "    "
   ]
  },
  {
   "cell_type": "code",
   "execution_count": null,
   "metadata": {},
   "outputs": [],
   "source": [
    "#Introduction of dictionaries - how to empty dictionary\n",
    "# info can be represented in the form of KEY-VALUE pairs\n",
    "studdict = {\n",
    "    \"Name\": \"ABC\",\n",
    "    \"Reg\": 123456,\n",
    "    \"Phoneno\":67890,\n",
    "    \"Country\":\"IND\",\n",
    "    \"Genderinfo\":\"M\"\n",
    "            }\n",
    "\n",
    "print(\"Default dictionary\",studdict) # printing of student dictionary \n",
    "\n",
    "studdict.clear() # to empty complete dictionary\n",
    "\n",
    "print(\"Empty dictionary\",studdict) # will generate an error if dictionary is deleted by line no. 13\n"
   ]
  },
  {
   "cell_type": "code",
   "execution_count": null,
   "metadata": {},
   "outputs": [],
   "source": [
    "#Introduction of dictionaries - how to copy one dictionary into another - method -1\n",
    "# info can be represented in the form of KEY-VALUE pairs\n",
    "studdict = {\n",
    "    \"Name\": \"ABC\",\n",
    "    \"Reg\": 123456,\n",
    "    \"Phoneno\":67890,\n",
    "    \"Country\":\"IND\",\n",
    "    \"Genderinfo\":\"M\"\n",
    "            }\n",
    "\n",
    "print(\"Default dictionary\",studdict) # printing of student dictionary \n",
    "\n",
    "newstuddict=studdict.copy() # copy method allows us to copy the contents of one dict into another\n",
    "\n",
    "print(\"Copied dictionary\",newstuddict) # to print the copied contents of dict\n"
   ]
  },
  {
   "cell_type": "code",
   "execution_count": null,
   "metadata": {},
   "outputs": [],
   "source": [
    "#Introduction of dictionaries - how to copy one dictionary into another - method -2\n",
    "# info can be represented in the form of KEY-VALUE pairs\n",
    "studdict = {\n",
    "    \"Name\": \"ABC\",\n",
    "    \"Reg\": 123456,\n",
    "    \"Phoneno\":67890,\n",
    "    \"Country\":\"IND\",\n",
    "    \"Genderinfo\":\"M\"\n",
    "            }\n",
    "\n",
    "print(\"Default dictionary\",studdict) # printing of student dictionary \n",
    "\n",
    "newstuddict=dict(studdict) # dict() function allows us to copy the contents of one dict into another\n",
    "\n",
    "print(\"Copied dictionary\",newstuddict) # to print the copied contents of dict\n"
   ]
  },
  {
   "cell_type": "code",
   "execution_count": null,
   "metadata": {},
   "outputs": [],
   "source": []
  }
 ],
 "metadata": {
  "kernelspec": {
   "display_name": "Python 3",
   "language": "python",
   "name": "python3"
  },
  "language_info": {
   "codemirror_mode": {
    "name": "ipython",
    "version": 3
   },
   "file_extension": ".py",
   "mimetype": "text/x-python",
   "name": "python",
   "nbconvert_exporter": "python",
   "pygments_lexer": "ipython3",
   "version": "3.7.4"
  }
 },
 "nbformat": 4,
 "nbformat_minor": 2
}
