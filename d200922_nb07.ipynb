{
 "cells": [
  {
   "cell_type": "code",
   "execution_count": null,
   "metadata": {},
   "outputs": [],
   "source": [
    "##2020-09-22 new week"
   ]
  },
  {
   "cell_type": "code",
   "execution_count": null,
   "metadata": {},
   "outputs": [],
   "source": [
    "list1 = [10,20,30,40,50,60,70,80]\n",
    "list2 = []\n",
    "for i in reversed(list1):\n",
    "    list2.append(i)\n",
    "    \n",
    "print(list2)\n"
   ]
  },
  {
   "cell_type": "code",
   "execution_count": null,
   "metadata": {},
   "outputs": [],
   "source": [
    "list1 = [10,20,30,40,50,60,70,80]\n",
    "list2 = []\n",
    "for i in reversed(range(0,len(list1))):\n",
    "    list2.append(list1[i])\n",
    "    \n",
    "print(list2)"
   ]
  },
  {
   "cell_type": "code",
   "execution_count": 2,
   "metadata": {},
   "outputs": [
    {
     "name": "stdout",
     "output_type": "stream",
     "text": [
      "Creat array of int by user input.\n",
      "Enter int to array or 0 to finish: 4\n",
      "Enter int to array or 0 to finish: 5\n",
      "Enter int to array or 0 to finish: 6\n",
      "Enter int to array or 0 to finish: 7\n",
      "Enter int to array or 0 to finish: 0\n",
      "[6, 7]\n"
     ]
    }
   ],
   "source": [
    "print(\"Creat array of int by user input.\")\n",
    "list1 = []\n",
    "while True:\n",
    "    x = int(input(\"Enter int to array or 0 to finish: \"))\n",
    "    if x == 0:\n",
    "        break\n",
    "    list1.append(x)\n",
    "\n",
    "\n",
    "if len(list1) > 3:\n",
    "\tlist2 = list1[2:]\n",
    "    \n",
    "print(list2)"
   ]
  },
  {
   "cell_type": "code",
   "execution_count": null,
   "metadata": {},
   "outputs": [],
   "source": [
    "# Intro to Lists - list can contain multiple types of data\n",
    "# print elements from 3rd till last in list\n",
    "# for(i=0;i<10;i++) or or for(;;)\n",
    "# list[start:end:step] or list[::]\n",
    "\n",
    "simplelist=[\"ele1\",\"ele2\",\"ele3\",\"ele4\",\"ele5\",\"ele6\",\"ele7\"] \n",
    "print(simplelist[::]) # as simple as print(simplelist)\n",
    "print(simplelist) # as simple as print(simplelist)\n",
    "print(simplelist[::2]) # printing of elements at alternative 2nd location # this is unique\n",
    "print(simplelist[2::]) # as simple as [2:]\n"
   ]
  },
  {
   "cell_type": "code",
   "execution_count": null,
   "metadata": {},
   "outputs": [],
   "source": [
    "# Intro to Lists - lists are changeable - through value\n",
    "\n",
    "simplelist=[\"ele1\",\"ele2\",\"ele3\",\"ele4\",\"ele5\",\"ele6\",\"ele7\"] \n",
    "            #0 1 2 3 4 5 6 \n",
    "print(simplelist) # existing list\n",
    "\n",
    "exisval=input(\"Enter the existing value for updation: \") # must be a existing value \n",
    "# old input - ele2\n",
    "\n",
    "newval=input(\"Enter the new value for updation: \") # any new value\n",
    "# new input - element2\n",
    "\n",
    "# some code to replace\n",
    "if exisval in simplelist: # check whether existing val is in the list or not\n",
    "    ind = simplelist.index(exisval) # it will check the index of existing value in list\n",
    "#    print(ind)\n",
    "    simplelist[ind]=newval # it is going to relace existing value with new one\n",
    "\n",
    "# printing of new list - on the basis of input from the user\n",
    "print(simplelist) # printing of new list\n"
   ]
  },
  {
   "cell_type": "code",
   "execution_count": null,
   "metadata": {},
   "outputs": [],
   "source": [
    "# Intro to Lists - add elements in the list  - user defined position\n",
    "\n",
    "simplelist=[10,20,30,40,50,60,70,80,90,100] # default list\n",
    "\n",
    "idx=int(input(\"Enter the location: \")) # input statement to take location\n",
    "newval=int(input(\"Enter the element: \")) # input statement to take new ele\n",
    "\n",
    "print(\"existing list \",simplelist)\n",
    "\n",
    "# add new ele in the list at user defined position\n",
    "simplelist.insert(idx,newval)\n",
    "\n",
    "print(\"updated list \",simplelist)"
   ]
  },
  {
   "cell_type": "code",
   "execution_count": null,
   "metadata": {},
   "outputs": [],
   "source": [
    "# Intro to Lists - remove elements in the list\n",
    "\n",
    "simplelist=[10,20,30,40,50,60,70,80,90,100] # default list\n",
    "\n",
    "delval=int(input(\"Enter the element to remove from the list: \")) # input statement to del existing ele\n",
    "\n",
    "print(\"existing list \",simplelist)\n",
    "\n",
    "# remove ele from the list, if it exists\n",
    "simplelist.remove(delval)\n",
    "\n",
    "print(\"updated list \",simplelist)"
   ]
  },
  {
   "cell_type": "code",
   "execution_count": null,
   "metadata": {},
   "outputs": [],
   "source": [
    "# Intro to Lists - remove last element from the list - by default\n",
    "\n",
    "simplelist=[10,20,30,40,50,60,70,80,90,100] # default list\n",
    "\n",
    "#delval=int(input(\"Enter the element to remove from the list: \")) # input statement to del existing ele\n",
    "\n",
    "print(\"existing list \",simplelist)\n",
    "\n",
    "# remove ele from the list, if it exists\n",
    "simplelist.pop()\n",
    "\n",
    "print(\"updated list \",simplelist)"
   ]
  },
  {
   "cell_type": "code",
   "execution_count": null,
   "metadata": {},
   "outputs": [],
   "source": [
    "# Intro to Lists - remove last element from the list - by default\n",
    "\n",
    "simplelist=[10,20,30,40,50,60,70,80,90,100] # default list\n",
    "\n",
    "idx=int(input(\"Enter the location to remove element from the list: \")) # input statement to del existing ele\n",
    "\n",
    "print(\"existing list \",simplelist)\n",
    "\n",
    "# remove ele from the list, if it exists\n",
    "simplelist.pop(idx)\n",
    "\n",
    "print(\"updated list \",simplelist)"
   ]
  },
  {
   "cell_type": "code",
   "execution_count": null,
   "metadata": {},
   "outputs": [],
   "source": [
    "# Intro to Lists - remove all elements from the list\n",
    "\n",
    "simplelist=[10,20,30,40,50,60,70,80,90,100] # default list\n",
    "\n",
    "print(\"existing list \",simplelist)\n",
    "\n",
    "# remove all elements from the list and list itself too\n",
    "del(simplelist)\n",
    "\n",
    "#print(simplelist)"
   ]
  },
  {
   "cell_type": "code",
   "execution_count": null,
   "metadata": {},
   "outputs": [],
   "source": [
    "# Intro to Lists - remove all elements from the list by cheki\n",
    "\n",
    "simplelist=[10,20,30,40,50,60,70,80,90,100] # default list\n",
    "\n",
    "print(\"existing list \",simplelist)\n",
    "\n",
    "# remove all elements from the list and retain EMPTY list\n",
    "simplelist.clear()\n",
    "\n",
    "print(\"Empty list \",simplelist)"
   ]
  },
  {
   "cell_type": "code",
   "execution_count": null,
   "metadata": {},
   "outputs": [],
   "source": [
    "# Deleting all elements using for loop by jayant\n",
    "list1 = [10,20,30,40,50,60,70,80]\n",
    "for i in list1[:]:\n",
    "    list1.remove(i)\n",
    "print(list1)\n",
    "print(\"All elements are deleted and list is empty now\")"
   ]
  },
  {
   "cell_type": "code",
   "execution_count": null,
   "metadata": {},
   "outputs": [],
   "source": [
    "# Copying all elements from one list to another - first way to do it\n",
    "exislist = [10,20,30,40,50,60,70,80] # to create list\n",
    "print(\"Existing list\", exislist) # to print list\n",
    "\n",
    "listnew=exislist.copy() #copy method of python to copy one list into another\n",
    "\n",
    "print(\"Copied list\",listnew) # printing new list"
   ]
  },
  {
   "cell_type": "code",
   "execution_count": null,
   "metadata": {},
   "outputs": [],
   "source": [
    "# Copying all elements from one list to another - one way to do it, another one - 2nd way to do it\n",
    "exislist = [10,20,30,40,50,60,70,80] # to create list\n",
    "print(\"Existing list\", exislist) # to print list\n",
    "listnew=list(exislist) #copy method of python to copy one list into another\n",
    "print(\"Copied list\",listnew) # printing new list"
   ]
  },
  {
   "cell_type": "code",
   "execution_count": null,
   "metadata": {},
   "outputs": [],
   "source": [
    "# Creating a reference of one list to another - cheki\n",
    "exislist = [10,20,30,40,50,60,70,80] # to create list\n",
    "print(\"Existing list\", exislist) # to print list\n",
    "\n",
    "listnew=exislist #reference method of python from one list to another\n",
    "\n",
    "print(\"Copied list\",listnew) # printing new list"
   ]
  },
  {
   "cell_type": "code",
   "execution_count": null,
   "metadata": {},
   "outputs": [],
   "source": [
    "# Joining of lists - method -1\n",
    "list1 = [10,20,30,40,50,60,70,80] # to create list\n",
    "list2 = [90,100] # to create list\n",
    "\n",
    "print(\"List-1:\", list1) # to print list-1\n",
    "print(\"List-2:\", list2) # to print list-2\n",
    "\n",
    "mergedlist = list1 + list2 # to join two lists, adding all elements together\n",
    "\n",
    "print(\"Merged list:\",mergedlist) # printing of joined list"
   ]
  },
  {
   "cell_type": "code",
   "execution_count": null,
   "metadata": {},
   "outputs": [],
   "source": [
    "# Joining of lists - method -2\n",
    "list1 = [10,20,30,40,50,60,70,80] # to create list\n",
    "list2 = [90,100] # to create list\n",
    "\n",
    "print(\"List-1:\", list1) # to print list-1\n",
    "print(\"List-2:\", list2) # to print list-2\n",
    "\n",
    "for i in list2: # adding elements one by one\n",
    "    list1.append(i) # with the use of append method\n",
    "\n",
    "print(\"Merged list:\",list1) # printing of joined list"
   ]
  },
  {
   "cell_type": "code",
   "execution_count": null,
   "metadata": {},
   "outputs": [],
   "source": [
    "# Joining of lists - method -3\n",
    "list1 = [10,20,30,40,50,60,70,80] # to create list\n",
    "list2 = [90,100] # to create list\n",
    "\n",
    "print(\"List-1:\", list1) # to print list-1\n",
    "print(\"List-2:\", list2) # to print list-2\n",
    "\n",
    "list1.extend(list2) # with the use of append method\n",
    "\n",
    "print(\"Merged list:\",list1) # printing of joined list"
   ]
  },
  {
   "cell_type": "code",
   "execution_count": null,
   "metadata": {},
   "outputs": [],
   "source": [
    "# To reverese a list in python - by banuka\n",
    "list1 = [10,20,30,40,50,60,70,80] # default list\n",
    "print(\"Original list \",list1) # printing of list contents\n",
    "list1=list1[::-1] # using the concept of indexing to reverse the list\n",
    "print(\"Reversed list \",list1) # printing of list contents"
   ]
  },
  {
   "cell_type": "code",
   "execution_count": null,
   "metadata": {},
   "outputs": [],
   "source": [
    "# To reverese a list in python - by jayant\n",
    "list1 = [10,20,30,40,50,60,70,80]\n",
    "print(\"Original list \",list1) # printing of list contents\n",
    "list1.reverse() # using the concept of inbult method reverse to reverse the list\n",
    "print(\"Reversed list \",list1) # printing of list contents"
   ]
  },
  {
   "cell_type": "code",
   "execution_count": null,
   "metadata": {},
   "outputs": [],
   "source": [
    "# To slice a list, slicing means to divide the list into small segments - example -1\n",
    "\n",
    "list1 = [1,2,3,4,5,6,7,8,9,10]\n",
    "# 1, 3, 5, 7, 9,.... steps = 2\n",
    "# 1, 2, 3, 4, 5,.... steps = 1\n",
    "# 1, 4, 7, .... steps = 3\n",
    "\n",
    "#index   0,1,2,3,4,5,6,7,8,9\n",
    "print(\"Original list is\",list1) # printing of list contents\n",
    "\n",
    "\n",
    "# syntax is [ start : stop : steps]\n",
    "\n",
    "#start is starting point of slicing\n",
    "# stop is slicing of list from start till stop point\n",
    "# steps is slicing by increment or decrement factor\n",
    "\n",
    "\n",
    "# slicing syntax\n",
    "print(\"Sliced list is\",list1[0:8:1]) # o/p [1, 2, 3, 4, 5, 6, 7, 8]\n",
    "print(\"Sliced list is\",list1[1:8:2]) # o/p [2,4,6,8]\n",
    "# 1,3,5,7 by bharat\n",
    "# 2,4,6,8 by jayant, cheki\n",
    "\n",
    "\n",
    "#slicing will take three arguments [0:8:1]\n",
    "#0 = starting point  would be the starting index of list from where slicing will start\n",
    "#8 = stopping point  would be the last element of list at where slicing will end\n",
    "#1 = stepping point  would be the increment factor of slicing\n"
   ]
  }
 ],
 "metadata": {
  "kernelspec": {
   "display_name": "Python 3",
   "language": "python",
   "name": "python3"
  },
  "language_info": {
   "codemirror_mode": {
    "name": "ipython",
    "version": 3
   },
   "file_extension": ".py",
   "mimetype": "text/x-python",
   "name": "python",
   "nbconvert_exporter": "python",
   "pygments_lexer": "ipython3",
   "version": "3.7.4"
  }
 },
 "nbformat": 4,
 "nbformat_minor": 2
}
