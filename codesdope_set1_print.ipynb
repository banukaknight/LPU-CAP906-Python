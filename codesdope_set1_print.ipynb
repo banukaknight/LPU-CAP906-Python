{
 "cells": [
  {
   "cell_type": "markdown",
   "metadata": {},
   "source": [
    "# https://www.codesdope.com/practice/python-printprintprint/"
   ]
  },
  {
   "cell_type": "code",
   "execution_count": 6,
   "metadata": {},
   "outputs": [
    {
     "name": "stdout",
     "output_type": "stream",
     "text": [
      "Hello WOrld!\n"
     ]
    }
   ],
   "source": [
    "print (\"Hello WOrld!\")"
   ]
  },
  {
   "cell_type": "code",
   "execution_count": 4,
   "metadata": {},
   "outputs": [
    {
     "name": "stdout",
     "output_type": "stream",
     "text": [
      "Sum =  15\n"
     ]
    }
   ],
   "source": [
    "x,y,z = 4,5,6\n",
    "print(\"Sum = \", x+y+z)"
   ]
  },
  {
   "cell_type": "code",
   "execution_count": 7,
   "metadata": {},
   "outputs": [
    {
     "name": "stdout",
     "output_type": "stream",
     "text": [
      "120\n"
     ]
    }
   ],
   "source": [
    "x,y,z = 4,5,6\n",
    "print (\"Prod = \",x*y*z)"
   ]
  },
  {
   "cell_type": "code",
   "execution_count": 50,
   "metadata": {},
   "outputs": [
    {
     "name": "stdout",
     "output_type": "stream",
     "text": [
      "Hello <class 'str'>\n",
      "15 <class 'int'>\n",
      "16.2 <class 'float'>\n",
      "9.333333333333334 <class 'float'>\n"
     ]
    }
   ],
   "source": [
    "a,b,c,d = \"Hello\", 15, 16.2, 9.3333333333333333\n",
    "print (a , type(a))\n",
    "print (b , type(b))\n",
    "print (c , type(c))\n",
    "print (d , type(d))"
   ]
  },
  {
   "cell_type": "code",
   "execution_count": 13,
   "metadata": {},
   "outputs": [
    {
     "name": "stdout",
     "output_type": "stream",
     "text": [
      "CodesDope\n"
     ]
    }
   ],
   "source": [
    "a = \"Codes\"\n",
    "b = \"Dope\"\n",
    "c = a+b\n",
    "print(c)"
   ]
  },
  {
   "cell_type": "code",
   "execution_count": 14,
   "metadata": {},
   "outputs": [
    {
     "name": "stdout",
     "output_type": "stream",
     "text": [
      "2 5\n",
      "5 2\n"
     ]
    }
   ],
   "source": [
    "#swap 2 values\n",
    "x,y = 2,5\n",
    "print(x, y)\n",
    "x,y = y,x\n",
    "print(x, y)"
   ]
  },
  {
   "cell_type": "code",
   "execution_count": 44,
   "metadata": {},
   "outputs": [
    {
     "name": "stdout",
     "output_type": "stream",
     "text": [
      "Area of: 3 * 10 is: 30\n",
      "Area of: 4 * 4 is: 16\n",
      "Area of: 0 * 0 is: 0\n"
     ]
    }
   ],
   "source": [
    "'''Create a class named 'Rectangle' with two data members- length and breadth and a method to claculate the area which is 'length*breadth'. The class has three constructors which are :\n",
    "1 - having no parameter - values of both length and breadth are assigned zero.\n",
    "2 - having two numbers as parameters - the two numbers are assigned as length and breadth respectively.\n",
    "3 - having one number as parameter - both length and breadth are assigned that number.\n",
    "Now, create objects of the 'Rectangle' class having none, one and two parameters and print their areas.\n",
    "'''\n",
    "class Rectangle:   \n",
    "    #parameterized constructor\n",
    "    def __init__(self, length=0, breadth=0):\n",
    "        self.length = length\n",
    "        self.breadth = breadth\n",
    "        if breadth==0:\n",
    "            self.breadth = length\n",
    "        \n",
    "    #method for calc & print area\n",
    "    def getarea(self):\n",
    "        area = self.length*self.breadth\n",
    "        print(\"Area of: {} * {} is: {}\". format(self.length, self.breadth, area))\n",
    "\n",
    "#creating object of the class\n",
    "rec1 = Rectangle(3,10)\n",
    "#calling the instance method using the object rec1\n",
    "rec1.getarea()\n",
    "\n",
    "rec2 = Rectangle(4)\n",
    "rec2.getarea()\n",
    "rec3 = Rectangle()\n",
    "rec3.getarea()"
   ]
  },
  {
   "cell_type": "code",
   "execution_count": 1,
   "metadata": {},
   "outputs": [
    {
     "name": "stdout",
     "output_type": "stream",
     "text": [
      "Amount in bank:  50\n",
      "Amount in bank:  70\n",
      "Amount in bank:  60\n"
     ]
    },
    {
     "data": {
      "text/plain": [
       "<__main__.AddAmount at 0x252293c8188>"
      ]
     },
     "execution_count": 1,
     "metadata": {},
     "output_type": "execute_result"
    }
   ],
   "source": [
    "'''Suppose you have a Piggie Bank with an initial amount of $50 and you have to add some more amount to it. Create a class 'AddAmount' with a data member named 'amount' with an initial value of $50. Now make two constructors of this class as follows:\n",
    "1 - without any parameter - no amount will be added to the Piggie Bank\n",
    "2 - having a parameter which is the amount that will be added to Piggie Bank\n",
    "Create object of the 'AddAmount' class and display the final amount in Piggie Bank.\n",
    "'''\n",
    "\n",
    "class AddAmount:\n",
    "    amount = 50\n",
    "    \n",
    "    def __init__(self,deposit=0):\n",
    "        self.amount += deposit\n",
    "        print(\"Amount in bank: \", self.amount) \n",
    "        \n",
    "AddAmount()  \n",
    "AddAmount(20)  \n",
    "AddAmount(10)  \n"
   ]
  },
  {
   "cell_type": "code",
   "execution_count": 51,
   "metadata": {},
   "outputs": [
    {
     "name": "stdout",
     "output_type": "stream",
     "text": [
      "I love Java\n",
      "I love programming languages\n",
      "I love Python\n"
     ]
    },
    {
     "data": {
      "text/plain": [
       "<__main__.Programming at 0x170fdcaae08>"
      ]
     },
     "execution_count": 51,
     "metadata": {},
     "output_type": "execute_result"
    }
   ],
   "source": [
    "'''\n",
    "Create a class named 'Programming'. While creating an object of the class, if nothing is passed to it, then the message \"I love programming languages\" should be printed. If some String is passed to it, then in place of \"programming languages\" the name of that String variable should be printed.\n",
    "For example, while creating object if we pass \"Java\", then \"I love Java\" should be printed.\n",
    "'''\n",
    "\n",
    "class Programming:\n",
    "    def __init__(self,langg=\"Programming languages\"):\n",
    "        self.langg = langg\n",
    "        print(\"I love\", self.langg)\n",
    "    \n",
    "Programming(\"Java\")\n",
    "Programming()\n",
    "Programming(\"Python\")\n",
    "\n",
    "    "
   ]
  },
  {
   "cell_type": "code",
   "execution_count": 12,
   "metadata": {},
   "outputs": [
    {
     "name": "stdout",
     "output_type": "stream",
     "text": [
      "Hello there! Hello there! ,\n",
      "1 * 4 * 5 * 6 * 6\n"
     ]
    }
   ],
   "source": [
    "## PRINT ON SAME LINE\n",
    "\n",
    "print(\"Hello there! \", end = '')\n",
    "print(\"Hello there! \", end = ',\\n')\n",
    "\n",
    "\n",
    "##specify array seperator\n",
    "array1 = [1, 4 ,5, 6, 6]\n",
    "print (*array1, sep=' * ' )  "
   ]
  },
  {
   "cell_type": "code",
   "execution_count": null,
   "metadata": {},
   "outputs": [],
   "source": []
  },
  {
   "cell_type": "code",
   "execution_count": null,
   "metadata": {},
   "outputs": [],
   "source": []
  }
 ],
 "metadata": {
  "kernelspec": {
   "display_name": "Python 3",
   "language": "python",
   "name": "python3"
  },
  "language_info": {
   "codemirror_mode": {
    "name": "ipython",
    "version": 3
   },
   "file_extension": ".py",
   "mimetype": "text/x-python",
   "name": "python",
   "nbconvert_exporter": "python",
   "pygments_lexer": "ipython3",
   "version": "3.7.4"
  }
 },
 "nbformat": 4,
 "nbformat_minor": 2
}
