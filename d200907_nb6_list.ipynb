{
 "cells": [
  {
   "cell_type": "markdown",
   "metadata": {},
   "source": [
    "# 2020-09-07 NEW WEEK"
   ]
  },
  {
   "cell_type": "code",
   "execution_count": 23,
   "metadata": {},
   "outputs": [
    {
     "name": "stdout",
     "output_type": "stream",
     "text": [
      "['el1', 'el2', 'el3', 'el3', 'el5', 'el6']\n",
      "el1 - el2 - el3 - el3 - el5 - el6\n",
      "el1 + el2 + el3 + el3 + el5 + el6\n",
      "el2\n",
      "['el1', 'el2', 'el3', 'el3', 'el5', 'el6']\n",
      "['el6', 'el5', 'el3', 'el3', 'el2', 'el1']\n",
      "['el6', 'el3', 'el2']\n"
     ]
    }
   ],
   "source": [
    "#d200907\n",
    "#LIST stuff\n",
    "\n",
    "list1 = [\"el1\",\"el2\",\"el3\",\"el3\",\"el5\",\"el6\"] ## duplicates allowed\n",
    "print(list1)\n",
    "print(*list1, sep=' - ')#print using sep-seperator\n",
    "print ( ' + '.join(map(str,list1)) ) #print using join & delimeter\n",
    "\n",
    "print( list1[1] ) #access using index like in array\n",
    "\n",
    "list1[2:5] #print fromm 3rd element to 5th\n",
    "\n",
    "print( list1[::] ) #forward\n",
    "print( list1[::-1] ) #backward - reverese list\n",
    "print( list1[::-2] )\n",
    "#seq[start:end:step]"
   ]
  },
  {
   "cell_type": "code",
   "execution_count": 3,
   "metadata": {},
   "outputs": [
    {
     "name": "stdout",
     "output_type": "stream",
     "text": [
      "Enter which element to updat(1-6): -2\n",
      "Enter new element to add: rere\n",
      "Initial list:  ['el1', 'el2', 'el3', 'el4', 'el5', 'el6']\n",
      "out of range\n",
      "Updated list:  ['el1', 'el2', 'el3', 'el4', 'el5', 'el6']\n"
     ]
    }
   ],
   "source": [
    "list1 = [\"el1\",\"el2\",\"el3\",\"el4\",\"el5\",\"el6\"]\n",
    "indx1 = int(input(\"Enter which element to updat(1-6): \"))\n",
    "val1 = input(\"Enter new element to add: \")\n",
    "\n",
    "print(\"Initial list: \", list1)\n",
    "\n",
    "if indx1 > len(list1) or indx1 < 1:\n",
    "    print(\"index out of range\")\n",
    "else:\n",
    "    list1[indx1-1] = val1    \n",
    "print(\"Updated list: \", list1)"
   ]
  },
  {
   "cell_type": "code",
   "execution_count": 5,
   "metadata": {},
   "outputs": [
    {
     "name": "stdout",
     "output_type": "stream",
     "text": [
      "['ele1', 5, 'ele2', 'ele3', 'ele34']\n",
      "Enter the index value for updation4\n",
      "Enter the value:5454\n",
      "['ele1', 5, 'ele2', 'ele3', 5454]\n"
     ]
    }
   ],
   "source": [
    "simplelist=[\"ele1\",5,\"ele2\",\"ele3\",\"ele34\"]\n",
    "print(simplelist)\n",
    "ind=int(input(\"Enter the index value for updation\"))\n",
    "val=int(input(\"Enter the value:\"))\n",
    "simplelist[ind]=val\n",
    "print(simplelist)"
   ]
  },
  {
   "cell_type": "code",
   "execution_count": 12,
   "metadata": {},
   "outputs": [
    {
     "name": "stdout",
     "output_type": "stream",
     "text": [
      "Enter exisiting value:el2\n",
      "Enter new value:elllll\n",
      "['el1', 'elllll', 'el3', 'el4', 'el5', 'el6', 'elllll', 'elllll', 'elllll']\n"
     ]
    }
   ],
   "source": [
    "list1 = [\"el1\",\"el2\",\"el3\",\"el4\",\"el5\",\"el6\", \"el2\", \"el2\"] #duplicates allowed in list\n",
    "val1=input(\"Enter exisiting value:\")\n",
    "val2=input(\"Enter new value:\")\n",
    "\n",
    "#while val1 in list1: #find first occr\n",
    "while val1 in list1: #find all occr\n",
    "    indx1 = list1.index(val1)\n",
    "    list1[indx1] = val2\n",
    "else:\n",
    "    list1.append(val2)    \n",
    "print(list1)"
   ]
  },
  {
   "cell_type": "code",
   "execution_count": 1,
   "metadata": {},
   "outputs": [
    {
     "name": "stdout",
     "output_type": "stream",
     "text": [
      "5\n",
      "[10, 30, 50]\n",
      "2\n"
     ]
    }
   ],
   "source": [
    "#length & count difference\n",
    "\n",
    "list1 = [10,20,30,40,50]\n",
    "print(\"length:\", len(list1))\n",
    "x = 0\n",
    "list1 = list1[::2] #skip elem\n",
    "print(list1)\n",
    "\n",
    "list2 = [10,20,30,20,40,50]\n",
    "cnt = list2.count(20)\n",
    "print(\"count of elm 20: \", cnt)"
   ]
  },
  {
   "cell_type": "code",
   "execution_count": 5,
   "metadata": {},
   "outputs": [
    {
     "name": "stdout",
     "output_type": "stream",
     "text": [
      "list before: [10, 20, 30, 40, 50]\n",
      "list after: [10, 20, 30, 40, 50, 33]\n",
      "list after: [10, 20, 77, 30, 40, 50, 33]\n"
     ]
    }
   ],
   "source": [
    "#append to list\n",
    "list1 = [10,20,30,40,50]\n",
    "print(\"list before:\", list1)\n",
    "list1.append(33) #append to end\n",
    "print(\"list after:\", list1)\n",
    "\n",
    "list1.insert(2, 77) #insert to given position\n",
    "print(\"list after:\", list1)"
   ]
  },
  {
   "cell_type": "code",
   "execution_count": null,
   "metadata": {},
   "outputs": [],
   "source": [
    "#list1.remove(val)\n",
    "#list1.pop() #remove last elm\n",
    "#list1.pop(index1) #remove item from given index\n",
    "#clear / del"
   ]
  },
  {
   "cell_type": "code",
   "execution_count": null,
   "metadata": {},
   "outputs": [],
   "source": [
    "# Python offers the following list functions:\n",
    "\n",
    "# sort(): Sorts the list in ascending order.\n",
    "# type(list): It returns the class type of an object.\n",
    "# append(): Adds a single element to a list.\n",
    "# extend(): Adds multiple elements to a list.\n",
    "# index(): Returns the first appearance of the specified value.\n",
    "# max(list): It returns an item from the list with max value.\n",
    "# min(list): It returns an item from the list with min value.\n",
    "# len(list): It gives the total length of the list.\n",
    "# list(seq): Converts a tuple into a list.\n",
    "# cmp(list1, list2): It compares elements of both\n",
    "\n",
    "# append()\tAdds an element at the end of the list\n",
    "# clear()\tRemoves all the elements from the list\n",
    "# copy()\tReturns a copy of the list\n",
    "# count()\tReturns the number of elements with the specified value\n",
    "# extend()\tAdd the elements of a list (or any iterable), to the end of the current list\n",
    "# index()\tReturns the index of the first element with the specified value\n",
    "# insert()\tAdds an element at the specified position\n",
    "# pop()\tRemoves the element at the specified position\n",
    "# remove()\tRemoves the first item with the specified value\n",
    "# reverse()\tReverses the order of the list\n",
    "# sort()\tSorts the list"
   ]
  },
  {
   "cell_type": "code",
   "execution_count": null,
   "metadata": {},
   "outputs": [],
   "source": [
    "# Intro to Lists - length of list\n",
    "\n",
    "simplelist=[10,20,30,40,50,60,70,80,90,100] \n",
    "\n",
    "print(\"No. of elements in list are \",len(simplelist))"
   ]
  },
  {
   "cell_type": "code",
   "execution_count": null,
   "metadata": {},
   "outputs": [],
   "source": [
    "# Intro to Lists - counting no. of occurrences of element in list\n",
    "\n",
    "simplelist=[10,10,10,40,50,60,70,80,90,100] \n",
    "\n",
    "cnt=simplelist.count(10) # to count how many times particular element exits in the list\n",
    "\n",
    "print(\"Element is repeated\",cnt, \"time(s)\")"
   ]
  },
  {
   "cell_type": "code",
   "execution_count": null,
   "metadata": {},
   "outputs": [],
   "source": [
    "# Intro to Lists - add elements in the list  - user defined position\n",
    "\n",
    "simplelist=[10,20,30,40,50,60,70,80,90,100] # default list\n",
    "\n",
    "idx=int(input(\"Enter the location: \")) # input statement to take location\n",
    "newval=int(input(\"Enter the element: \")) # input statement to take new ele\n",
    "\n",
    "print(\"existing list \",simplelist)\n",
    "\n",
    "# add new ele in the list at user defined position\n",
    "simplelist.insert(idx,newval)\n",
    "\n",
    "print(\"updated list \",simplelist)"
   ]
  },
  {
   "cell_type": "code",
   "execution_count": null,
   "metadata": {},
   "outputs": [],
   "source": [
    "# Intro to Lists - remove elements in the list\n",
    "\n",
    "simplelist=[10,20,30,40,50,60,70,80,90,100] # default list\n",
    "\n",
    "delval=int(input(\"Enter the element to remove from the list: \")) # input statement to del existing ele\n",
    "\n",
    "print(\"existing list \",simplelist)\n",
    "\n",
    "# remove ele from the list, if it exists\n",
    "simplelist.remove(delval)\n",
    "\n",
    "print(\"updated list \",simplelist)"
   ]
  },
  {
   "cell_type": "code",
   "execution_count": null,
   "metadata": {},
   "outputs": [],
   "source": []
  },
  {
   "cell_type": "code",
   "execution_count": null,
   "metadata": {},
   "outputs": [],
   "source": [
    "# Intro to Lists - remove last element from the list - by default\n",
    "simplelist=[10,20,30,40,50,60,70,80,90,100] # default list\n",
    "#delval=int(input(\"Enter the element to remove from the list: \")) # input statement to del existing ele\n",
    "print(\"existing list \",simplelist)\n",
    "\n",
    "# remove ele from the list, if it exists\n",
    "simplelist.pop()\n",
    "print(\"updated list \",simplelist)"
   ]
  },
  {
   "cell_type": "code",
   "execution_count": null,
   "metadata": {},
   "outputs": [],
   "source": [
    "# Intro to Lists - remove last element from the list - set position\n",
    "simplelist=[10,20,30,40,50,60,70,80,90,100] # default list\n",
    "idx=int(input(\"Enter the location to remove element from the list: \")) # input statement to del existing ele\n",
    "print(\"existing list \",simplelist)\n",
    "\n",
    "# remove ele from the list, if it exists\n",
    "simplelist.pop(idx)\n",
    "print(\"updated list \",simplelist)"
   ]
  },
  {
   "cell_type": "code",
   "execution_count": null,
   "metadata": {},
   "outputs": [],
   "source": [
    "# Intro to Lists - remove all elements from the list\n",
    "simplelist=[10,20,30,40,50,60,70,80,90,100] # default list\n",
    "print(\"existing list \",simplelist)\n",
    "\n",
    "# remove all elements from the list and list itself too\n",
    "del(simplelist)\n",
    "\n",
    "#print(simplelist)"
   ]
  },
  {
   "cell_type": "code",
   "execution_count": null,
   "metadata": {},
   "outputs": [],
   "source": [
    "# Intro to Lists - remove all elements from the list by cheki\n",
    "simplelist=[10,20,30,40,50,60,70,80,90,100] # default list\n",
    "print(\"existing list \",simplelist)\n",
    "\n",
    "# remove all elements from the list and retain EMPTY list\n",
    "simplelist.clear()\n",
    "\n",
    "print(\"Empty list \",simplelist)"
   ]
  },
  {
   "cell_type": "code",
   "execution_count": null,
   "metadata": {},
   "outputs": [],
   "source": [
    "simpleList=[10,20,30,40,50,60,70,80,90,100] #by abhishek\n",
    "print(\"exiting list :\",simpleList)\n",
    "del simpleList[::] # to delete all elements only\n",
    "print(\"updated list :\",simpleList)"
   ]
  },
  {
   "cell_type": "code",
   "execution_count": null,
   "metadata": {},
   "outputs": [],
   "source": [
    "# Deleting all elements using for loop by jayant\n",
    "list1 = [10,20,30,40,50,60,70,80]\n",
    "for i in list1[:]:\n",
    "    list1.remove(i)\n",
    "print(list1)\n",
    "print(\"All elements are deleted and list is empty now\")"
   ]
  },
  {
   "cell_type": "code",
   "execution_count": null,
   "metadata": {},
   "outputs": [],
   "source": [
    "##d200914\n",
    "\n"
   ]
  }
 ],
 "metadata": {
  "kernelspec": {
   "display_name": "Python 3",
   "language": "python",
   "name": "python3"
  },
  "language_info": {
   "codemirror_mode": {
    "name": "ipython",
    "version": 3
   },
   "file_extension": ".py",
   "mimetype": "text/x-python",
   "name": "python",
   "nbconvert_exporter": "python",
   "pygments_lexer": "ipython3",
   "version": "3.7.4"
  }
 },
 "nbformat": 4,
 "nbformat_minor": 2
}
