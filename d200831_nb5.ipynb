{
 "cells": [
  {
   "cell_type": "markdown",
   "metadata": {},
   "source": [
    "# d200831 new week"
   ]
  },
  {
   "cell_type": "code",
   "execution_count": 14,
   "metadata": {},
   "outputs": [
    {
     "name": "stdout",
     "output_type": "stream",
     "text": [
      "Enter two numbers seperated by space: 2 3\n",
      "5\n",
      "23\n",
      "Enter two numbers seperated by space: 3 4\n",
      "7\n"
     ]
    }
   ],
   "source": [
    "#d200831 Multiple inputs in single line\n",
    "\n",
    "#split() function\n",
    "\n",
    "x, y = input(\"Enter two numbers seperated by space: \").split() \n",
    "print(int(x)+int(y))\n",
    "\n",
    "print(x+y) #treat them as string\n",
    "\n",
    "#use map() and split()\n",
    "a, b = map(int,input(\"Enter two numbers seperated by space: \").split() )\n",
    "print(a+b)\n",
    "\n"
   ]
  },
  {
   "cell_type": "code",
   "execution_count": 16,
   "metadata": {},
   "outputs": [
    {
     "name": "stdout",
     "output_type": "stream",
     "text": [
      "Enter numbers seperated by space: 2 4 6 2 1\n",
      "TOtal:  15\n"
     ]
    }
   ],
   "source": [
    "##accept multiple integers & get sum\n",
    "array1 = map(int,input(\"Enter numbers seperated by space: \").split() )\n",
    "total = 0\n",
    "\n",
    "for i in array1:\n",
    "    total += i\n",
    "    \n",
    "print(\"Total: \", total)"
   ]
  },
  {
   "cell_type": "code",
   "execution_count": null,
   "metadata": {},
   "outputs": [],
   "source": []
  }
 ],
 "metadata": {
  "kernelspec": {
   "display_name": "Python 3",
   "language": "python",
   "name": "python3"
  },
  "language_info": {
   "codemirror_mode": {
    "name": "ipython",
    "version": 3
   },
   "file_extension": ".py",
   "mimetype": "text/x-python",
   "name": "python",
   "nbconvert_exporter": "python",
   "pygments_lexer": "ipython3",
   "version": "3.7.4"
  }
 },
 "nbformat": 4,
 "nbformat_minor": 2
}
