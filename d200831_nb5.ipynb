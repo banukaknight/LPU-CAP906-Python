{
 "cells": [
  {
   "cell_type": "markdown",
   "metadata": {},
   "source": [
    "# d200831 new week"
   ]
  },
  {
   "cell_type": "code",
   "execution_count": 14,
   "metadata": {},
   "outputs": [
    {
     "name": "stdout",
     "output_type": "stream",
     "text": [
      "Enter two numbers seperated by space: 2 3\n",
      "5\n",
      "23\n",
      "Enter two numbers seperated by space: 3 4\n",
      "7\n"
     ]
    }
   ],
   "source": [
    "#d200831 Multiple inputs in single line\n",
    "\n",
    "#split() function\n",
    "\n",
    "x, y = input(\"Enter two numbers seperated by space: \").split() \n",
    "print(int(x)+int(y))\n",
    "\n",
    "print(x+y) #treat them as string\n",
    "\n",
    "#use map() and split()\n",
    "a, b = map(int,input(\"Enter two numbers seperated by space: \").split() )\n",
    "print(a+b)\n",
    "\n"
   ]
  },
  {
   "cell_type": "code",
   "execution_count": 2,
   "metadata": {},
   "outputs": [
    {
     "name": "stdout",
     "output_type": "stream",
     "text": [
      "Enter numbers seperated by space: 4 2 6\n",
      "<map object at 0x000001620B176388>\n",
      "Total:  12\n"
     ]
    }
   ],
   "source": [
    "##accept multiple integers & get sum\n",
    "array1 = map(int,input(\"Enter numbers seperated by space: \").split() )\n",
    "total = 0\n",
    "\n",
    "for i in array1:\n",
    "    total += i\n",
    "print(array1)    \n",
    "print(\"Total: \", total)"
   ]
  },
  {
   "cell_type": "code",
   "execution_count": 1,
   "metadata": {},
   "outputs": [
    {
     "name": "stdout",
     "output_type": "stream",
     "text": [
      "Enter numbers seperated by space: 5 7\n",
      "Total:  12\n",
      "Count:  2\n"
     ]
    }
   ],
   "source": [
    "##accept multiple integers & get sum & count IGNORE none-digit\n",
    "array1 = input(\"Enter numbers seperated by space: \").split()\n",
    "total = 0\n",
    "count = 0\n",
    "for i in array1:\n",
    "    if i.isdigit():\n",
    "        total += int(i)\n",
    "        count += 1\n",
    "    \n",
    "print(\"Total: \", total)\n",
    "print(\"Count: \", count)"
   ]
  },
  {
   "cell_type": "code",
   "execution_count": null,
   "metadata": {},
   "outputs": [
    {
     "name": "stdout",
     "output_type": "stream",
     "text": [
      "Enter choice: \n",
      " w: withdrawl, d: deposit, c: check balance, e: exitw\n",
      "Enter amount to be Withdrawn: 500\n",
      "\n",
      " You Withdrew: 500.0\n"
     ]
    }
   ],
   "source": [
    "#banking system app\n",
    "\n",
    "self_balance=1000\n",
    "min_balance=500\n",
    "\n",
    "while(True):\n",
    "    x=input(\"Enter choice: \\n w: withdrawl, d: deposit, c: check balance, e: exit : \")\n",
    "    if(x==\"e\"):\n",
    "        print(\"Exit prog\")\n",
    "        break;\n",
    "    elif(x==\"d\"):\n",
    "        amount=float(input(\"Enter amount to be Deposited: \"))\n",
    "        self_balance += amount \n",
    "        print(\"\\n Amount Deposited:\",amount)\n",
    "    elif(x==\"w\"):\n",
    "        amount = float(input(\"Enter amount to be Withdrawn: \"))\n",
    "        if self_balance-min_balance>=amount:\n",
    "            self_balance-=amount\n",
    "            print(\"\\n You Withdrew:\", amount)\n",
    "        else:\n",
    "            print(\"\\n Insufficient balance  \")\n",
    "    elif (x==\"c\"):\n",
    "        print(\"\\n Net Available Balance=\",self_balance)\n",
    "    else:\n",
    "        print(\"Input not recognized.\")"
   ]
  },
  {
   "cell_type": "code",
   "execution_count": 3,
   "metadata": {},
   "outputs": [
    {
     "name": "stdout",
     "output_type": "stream",
     "text": [
      "Enter 10 integers sep by space5 6 7\n",
      "[5, 6, 7]\n"
     ]
    }
   ],
   "source": [
    "#Take 10 integer inputs from user and store them in a list and print them on screen.\n",
    "\n",
    "list1 = list( map( int, input(\"Enter 10 integers sep by space\").split() ) )\n",
    "#array1 = map(int,input(\"Enter numbers seperated by space: \").split() )\n",
    "print (list1)"
   ]
  }
 ],
 "metadata": {
  "kernelspec": {
   "display_name": "Python 3",
   "language": "python",
   "name": "python3"
  },
  "language_info": {
   "codemirror_mode": {
    "name": "ipython",
    "version": 3
   },
   "file_extension": ".py",
   "mimetype": "text/x-python",
   "name": "python",
   "nbconvert_exporter": "python",
   "pygments_lexer": "ipython3",
   "version": "3.7.4"
  }
 },
 "nbformat": 4,
 "nbformat_minor": 2
}
