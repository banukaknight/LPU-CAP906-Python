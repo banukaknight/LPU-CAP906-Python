{
 "cells": [
  {
   "cell_type": "code",
   "execution_count": null,
   "metadata": {},
   "outputs": [],
   "source": [
    "'''Level 1\n",
    "1.\n",
    "Take 10 integers from keyboard using loop and print their average value on the screen.\n",
    "2.\n",
    "Print the following patterns using loop :\n",
    "a.\n",
    "*\n",
    "**\n",
    "***\n",
    "****\n",
    "b.\n",
    "   *  \n",
    " *** \n",
    "*****\n",
    " *** \n",
    "   *  \n",
    "c.\n",
    "1010101\n",
    " 10101 \n",
    "  101  \n",
    "   1   \n",
    "3.\n",
    "Print multiplication table of 24, 50 and 29 using loop.\n",
    "4.\n",
    "Write an infinite loop.\n",
    "A inifinte loop never ends. Condition is always true.\n",
    "5.\n",
    "Factorial of any number n is represented by n! and is equal to 1*2*3*....*(n-1)*n. E.g.-\n",
    "4! = 1*2*3*4 = 24\n",
    "3! = 3*2*1 = 6\n",
    "2! = 2*1 = 2\n",
    "Also,\n",
    "1! = 1\n",
    "0! = 1\n",
    "Write a program to calculate factorial of a number.\n",
    "6.\n",
    "Write a program to find greatest common divisor (GCD) or highest common factor (HCF) of given two numbers.\n",
    "7.\n",
    "Take integer inputs from user until he/she presses q ( Ask to press q to quit after every integer input ). Print average and product of all numbers.\n",
    "-----------\n",
    "Level 2\n",
    "1.\n",
    "Calculate the sum of digits of a number given by user. E.g.-\n",
    "INUPT : 123        OUPUT : 6\n",
    "INUPT : 12345        OUPUT : 15\n",
    "2.\n",
    "A three digit number is called Armstrong number if sum of cube of its digit is equal to number itself.\n",
    "E.g.- 153 is an Armstrong number because (13)+(53)+(33) = 153.\n",
    "Write all Armstrong numbers between 100 to 500.\n",
    "3.\n",
    "Write a program to print a number given by user but digits reversed. E.g.-\n",
    "INPUT : 123        OUTPUT : 321\n",
    "INPUT : 12345        OUTPUT : 54321\n",
    "4.\n",
    "Write a program to find prime factor of a number.\n",
    "If a factor of a number is prime number then it is its prime factor.\n",
    "5.\n",
    "Write a program to print all prime number in between 1 to 100.'''"
   ]
  },
  {
   "cell_type": "code",
   "execution_count": 1,
   "metadata": {},
   "outputs": [
    {
     "name": "stdout",
     "output_type": "stream",
     "text": [
      "Enter num for factorial calc: 4\n",
      "24\n"
     ]
    }
   ],
   "source": [
    "##factorial calc\n",
    "val1 = int(input(\"Enter num for factorial calc: \"))\n",
    "facsum = 1\n",
    "\n",
    "for i in range (1,val1+1):\n",
    "    facsum *= i\n",
    "    \n",
    "print (facsum)"
   ]
  },
  {
   "cell_type": "code",
   "execution_count": 6,
   "metadata": {},
   "outputs": [
    {
     "name": "stdout",
     "output_type": "stream",
     "text": [
      "Enter Val1: 12\n",
      "Enter Val2: 20\n",
      "GCD: 4\n",
      "GCD2 : 4\n"
     ]
    }
   ],
   "source": [
    "##find GREATEST common divisor / highest common factor \n",
    "val1 = int(input(\"Enter Val1: \"))\n",
    "val2 = int(input(\"Enter Val2: \"))\n",
    "\n",
    "#The Euclidean Algorithm for finding GCD(A,B)\n",
    "\n",
    "##using recursion\n",
    "def GCD(A,B):\n",
    "    if A==0:\n",
    "        return B\n",
    "    elif B==0:\n",
    "        return A\n",
    "    else:\n",
    "        #get A = B*Q + R\n",
    "        Q = int(A/B)\n",
    "        R = A%B\n",
    "        return GCD(B,R)\n",
    "mygcd = GCD(val1,val2)\n",
    "print(\"GCD:\", mygcd)\n",
    "\n",
    "##using while loop\n",
    "A,B = val1,val2\n",
    "while(True):\n",
    "    if A==0:\n",
    "        mygcd2 = B\n",
    "        break\n",
    "    elif B==0:\n",
    "        mygcd2 = A\n",
    "        break\n",
    "    else:\n",
    "        #Q = int(A/B)\n",
    "        R = A%B\n",
    "        A = B\n",
    "        B = R\n",
    "print(\"GCD2 :\", mygcd2)"
   ]
  },
  {
   "cell_type": "code",
   "execution_count": 14,
   "metadata": {},
   "outputs": [
    {
     "name": "stdout",
     "output_type": "stream",
     "text": [
      "Enter Val1: 3\n",
      "Enter Val2: 6\n",
      "gcd : 3\n",
      "LCM : 6\n"
     ]
    }
   ],
   "source": [
    "##find Least Common Denominator/ Least Common Multiple (LCM)\n",
    "val1 = int(input(\"Enter Val1: \"))\n",
    "val2 = int(input(\"Enter Val2: \"))\n",
    "\n",
    "## a x b = LCM(a, b) * GCD (a, b)\n",
    "## LCM(a, b) = (a x b) / GCD(a, b) \n",
    "mygcd2 = 1\n",
    "A,B = val1,val2\n",
    "while(True):\n",
    "    if A==0:\n",
    "        mygcd2 = B\n",
    "        break\n",
    "    elif B==0:\n",
    "        mygcd2 = A\n",
    "        break\n",
    "    else:\n",
    "        #Q = int(A/B)\n",
    "        R = A%B\n",
    "        A = B\n",
    "        B = R\n",
    "print(\"gcd :\", mygcd2)\n",
    "# lcm = a*b / GCD\n",
    "mylcm = (val1*val2)/mygcd2\n",
    "print(\"LCM :\", int(mylcm))"
   ]
  },
  {
   "cell_type": "code",
   "execution_count": 3,
   "metadata": {},
   "outputs": [
    {
     "name": "stdout",
     "output_type": "stream",
     "text": [
      "Enter a number: rtrr343fr3\n",
      "Sum is: 13\n"
     ]
    }
   ],
   "source": [
    "#get sum of digits in a number/string from user\n",
    "\n",
    "var1 = input(\"Enter a number: \")\n",
    "summ=0\n",
    "\n",
    "for i in var1:\n",
    "    if i.isdigit() :\n",
    "        summ += int(i)\n",
    "print(\"Sum is:\", summ)"
   ]
  },
  {
   "cell_type": "code",
   "execution_count": 24,
   "metadata": {},
   "outputs": [
    {
     "name": "stdout",
     "output_type": "stream",
     "text": [
      "Armstrong number ex: (1³)+(5³)+(3³) = 153\n",
      "(1³)+(5³)+(3³) = 153\n",
      "(3³)+(7³)+(0³) = 370\n",
      "(3³)+(7³)+(1³) = 371\n",
      "(4³)+(0³)+(7³) = 407\n",
      "----------\n",
      "(1³)+(5³)+(3³) = 153\n",
      "(3³)+(7³)+(0³) = 370\n",
      "(3³)+(7³)+(1³) = 371\n",
      "(4³)+(0³)+(7³) = 407\n",
      "----------\n",
      "(1³)+(5³)+(3³) = 153\n",
      "(3³)+(7³)+(0³) = 370\n",
      "(3³)+(7³)+(1³) = 371\n",
      "(4³)+(0³)+(7³) = 407\n"
     ]
    }
   ],
   "source": [
    "#write all amostrong numbers between 100 & 500\n",
    "# 153 is an Armstrong number because (1^3)+(5^3)+(3^3) = 153.\n",
    "print(\"Armstrong number ex: (1\\u00b3)+(5\\u00b3)+(3\\u00b3) = 153\")\n",
    "\n",
    "for i in range (100,501):\n",
    "    if i == int(i/100)**3 + int((i/10)%10)**3 + (i%10)**3 :\n",
    "        print(\"({}\\u00b3)+({}\\u00b3)+({}\\u00b3) = {}\" .format(int(i/100),int((i/10)%10),(i%10),i) )\n",
    "        \n",
    "print(\"----------\")       \n",
    "for num in range (100,501):\n",
    "    cubtot = 0\n",
    "    for j in str(num):\n",
    "        cubtot += int(j)**3\n",
    "    if cubtot == num:\n",
    "        print(\"({}\\u00b3)+({}\\u00b3)+({}\\u00b3) = {}\" .format(str(num)[0],str(num)[1],str(num)[2],num) )\n",
    "        \n",
    "print(\"----------\")       \n",
    "for num in range (100,501):\n",
    "    if num == int(str(num)[0])**3 + int(str(num)[1])**3 + int(str(num)[2])**3 :\n",
    "        print(\"({}\\u00b3)+({}\\u00b3)+({}\\u00b3) = {}\" .format(str(num)[0],str(num)[1],str(num)[2],num) )"
   ]
  },
  {
   "cell_type": "code",
   "execution_count": 1,
   "metadata": {},
   "outputs": [
    {
     "name": "stdout",
     "output_type": "stream",
     "text": [
      "Enter a number: 543\n",
      "543\n",
      "345\n"
     ]
    }
   ],
   "source": [
    "#reverese a number\n",
    "import sys\n",
    "\n",
    "try:\n",
    "    var1 = int(input(\"Enter a number: \"))\n",
    "except:\n",
    "    print(\"Enter integer.\")\n",
    "    exit(0)\n",
    "\n",
    "print(var1)\n",
    "var2=\"\"\n",
    "\n",
    "for i in str(var1):\n",
    "    var2 = i+var2    \n",
    "print(int(var2))"
   ]
  },
  {
   "cell_type": "code",
   "execution_count": 4,
   "metadata": {},
   "outputs": [
    {
     "name": "stdout",
     "output_type": "stream",
     "text": [
      "Enter a number: 25\n",
      "25 = 5 * 5\n"
     ]
    }
   ],
   "source": [
    "##Write a program to find prime factor of a number.\n",
    "##If a factor of a number is prime number then it is its prime factor.\n",
    "##ex: all factors of 18: 1, 2, 3, 6, 9, 18.\n",
    "## prime fac of 18: 2, 3 ,3\n",
    "\n",
    "val1 = int(input(\"Enter a number: \"))\n",
    "val2 = val1\n",
    "primefac = []\n",
    "while True:\n",
    "    if val2 == 1:\n",
    "        break\n",
    "    for i in range(2,val2+1):\n",
    "        if val2%i == 0:\n",
    "            primefac.append(i)\n",
    "            val2 = int(val2/i)\n",
    "            break\n",
    "        \n",
    "print( \"{} = \".format(val1), end = '') \n",
    "print (*primefac, sep=' * ' )            "
   ]
  },
  {
   "cell_type": "code",
   "execution_count": 10,
   "metadata": {},
   "outputs": [
    {
     "name": "stdout",
     "output_type": "stream",
     "text": [
      "[2, 3, 4, 5, 6, 7, 8, 9, 10, 11, 12, 13, 14, 15, 16, 17, 18, 19, 20, 21, 22, 23, 24, 25, 26, 27, 28, 29, 30, 31, 32, 33, 34, 35, 36, 37, 38, 39, 40, 41, 42, 43, 44, 45, 46, 47, 48, 49, 50, 51, 52, 53, 54, 55, 56, 57, 58, 59, 60, 61, 62, 63, 64, 65, 66, 67, 68, 69, 70, 71, 72, 73, 74, 75, 76, 77, 78, 79, 80, 81, 82, 83, 84, 85, 86, 87, 88, 89, 90, 91, 92, 93, 94, 95, 96, 97, 98, 99, 100]\n",
      "[2, 3, 5, 7, 11, 13, 17, 19, 23, 29, 31, 37, 41, 43, 47, 53, 59, 61, 67, 71, 73, 79, 83, 89, 97]\n"
     ]
    }
   ],
   "source": [
    "##Printing prime numbers in a range 1-100\n",
    "## Sieve of Eratosthenes Algorithem \n",
    "#steps\n",
    "#1 create a list with int in range 2 to max\n",
    "#2 start from first index (int 2) mark all multiplications of 2 except itself\n",
    "#3 move to the next unmarked int in list and repeat\n",
    "\n",
    "val1 = 100\n",
    "list1 = []\n",
    "for i in range(2,val1+1):\n",
    "    list1.append(i)\n",
    "\n",
    "primes = []\n",
    "\n",
    "print(list1)\n",
    "while len(list1)>0:\n",
    "    x = list1[0]\n",
    "    primes.append(x)\n",
    "    for i in list1:\n",
    "        if i%x == 0:\n",
    "            list1.remove(i)\n",
    "     \n",
    "print(primes)    \n"
   ]
  },
  {
   "cell_type": "code",
   "execution_count": 11,
   "metadata": {},
   "outputs": [
    {
     "name": "stdout",
     "output_type": "stream",
     "text": [
      "Enter 10 integers sep by space4 5 6 4 5 6 7 3 5 6 4 3 2 1 1 1 4 \n",
      "[4, 5, 6, 4, 5, 6, 7, 3, 5, 6]\n",
      "[3, 4, 5, 6, 7]\n"
     ]
    }
   ],
   "source": []
  }
 ],
 "metadata": {
  "kernelspec": {
   "display_name": "Python 3",
   "language": "python",
   "name": "python3"
  },
  "language_info": {
   "codemirror_mode": {
    "name": "ipython",
    "version": 3
   },
   "file_extension": ".py",
   "mimetype": "text/x-python",
   "name": "python",
   "nbconvert_exporter": "python",
   "pygments_lexer": "ipython3",
   "version": "3.7.4"
  }
 },
 "nbformat": 4,
 "nbformat_minor": 2
}
