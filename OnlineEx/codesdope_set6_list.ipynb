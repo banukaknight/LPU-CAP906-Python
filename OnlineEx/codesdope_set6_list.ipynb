{
 "cells": [
  {
   "cell_type": "code",
   "execution_count": null,
   "metadata": {},
   "outputs": [],
   "source": [
    "'''Level 1\n",
    "1.\n",
    "Take 10 integer inputs from user and store them in a list and print them on screen.\n",
    "2.\n",
    "Take 10 integer inputs from user and store them in a list. Again ask user to give a number. Now, tell user whether that number is present in list or not.\n",
    "( Iterate over list using while loop ).\n",
    "3.\n",
    "Take 20 integer inputs from user and print the following:\n",
    "number of positive numbers\n",
    "number of negative numbers\n",
    "number of odd numbers\n",
    "number of even numbers\n",
    "number of 0s.\n",
    "4.\n",
    "Take 10 integer inputs from user and store them in a list. Now, copy all the elements in another list but in reverse order.\n",
    "5.\n",
    "Write a program to find the sum of all elements of a list.\n",
    "6.\n",
    "Write a program to find the product of all elements of a list.\n",
    "7.\n",
    "Initialize and print each element in new line of a list inside list.\n",
    "8.\n",
    "Find largest and smallest elements of a list.\n",
    "9.\n",
    "Write a program to print sum, average of all numbers, smallest and largest element of a list.\n",
    "10.\n",
    "Write a program to check if elements of a list are same or not it read from front or back. E.g.-\n",
    "2\t3\t15\t15\t3\t2\n",
    "11.\n",
    "Make a list by taking 10 input from user. Now delete all repeated elements of the list.\n",
    "E.g.-\n",
    "INPUT : [1,2,3,2,1,3,12,12,32]\n",
    "OUTPUT : [1,2,3,12,32]\n",
    "12.\n",
    "Take a list of 10 elements. Split it into middle and store the elements in two dfferent lists. E.g.-\n",
    "INITIAL list :\n",
    "58\t24\t13\t15\t63\t9\t8\t81\t1\t78\n",
    "\n",
    "After spliting :\n",
    "58\t24\t13\t15\t63\n",
    "9\t8\t81\t1\t78\n",
    "13.\n",
    "Ask user to give integer inputs to make a list. Store only even values given and print the list'''"
   ]
  },
  {
   "cell_type": "code",
   "execution_count": null,
   "metadata": {},
   "outputs": [],
   "source": [
    "'''Level 2\n",
    "1.\n",
    "Take a list of length n where all the numbers are non-negative and unique. Find the element in the list possessing the highest value. Split the element into two parts where first part contains the next highest value in the list and second part hold the required additive entity to get the highest value. Print the list where the highest value get splitted into those two parts.\n",
    "Sample input: 4 8 6 3 2\n",
    "Sample output: 4 6 2 6 3 2\n",
    "2.\n",
    "Write a program to shift every element of a list to circularly right. E.g.-\n",
    "INPUT : 1 2 3 4 5\n",
    "OUTPUT : 5 1 2 3 4\n",
    "3.\n",
    "Write a program to add and multiply two 3x3 matrices.'''"
   ]
  },
  {
   "cell_type": "code",
   "execution_count": 11,
   "metadata": {},
   "outputs": [
    {
     "name": "stdout",
     "output_type": "stream",
     "text": [
      "Enter 10 integers sep by space4 5 6 7 3 1 4\n"
     ]
    },
    {
     "ename": "TypeError",
     "evalue": "'int' object is not iterable",
     "output_type": "error",
     "traceback": [
      "\u001b[1;31m---------------------------------------------------------------------------\u001b[0m",
      "\u001b[1;31mTypeError\u001b[0m                                 Traceback (most recent call last)",
      "\u001b[1;32m<ipython-input-11-80f6998668ab>\u001b[0m in \u001b[0;36m<module>\u001b[1;34m\u001b[0m\n\u001b[0;32m      1\u001b[0m \u001b[1;31m#Take 10 integer inputs from user and store them in a list and print them on screen.\u001b[0m\u001b[1;33m\u001b[0m\u001b[1;33m\u001b[0m\u001b[1;33m\u001b[0m\u001b[0m\n\u001b[0;32m      2\u001b[0m \u001b[1;31m## return tuple\u001b[0m\u001b[1;33m\u001b[0m\u001b[1;33m\u001b[0m\u001b[1;33m\u001b[0m\u001b[0m\n\u001b[1;32m----> 3\u001b[1;33m \u001b[0mlist1\u001b[0m \u001b[1;33m=\u001b[0m \u001b[1;33m*\u001b[0m\u001b[0mmap\u001b[0m\u001b[1;33m(\u001b[0m\u001b[0mint\u001b[0m\u001b[1;33m,\u001b[0m \u001b[0minput\u001b[0m\u001b[1;33m(\u001b[0m\u001b[1;34m\"Enter 10 integers sep by space\"\u001b[0m\u001b[1;33m)\u001b[0m\u001b[1;33m.\u001b[0m\u001b[0msplit\u001b[0m\u001b[1;33m(\u001b[0m\u001b[1;33m)\u001b[0m \u001b[1;33m,\u001b[0m\u001b[1;36m5\u001b[0m\u001b[1;33m)\u001b[0m\u001b[1;33m,\u001b[0m\u001b[1;33m\u001b[0m\u001b[1;33m\u001b[0m\u001b[0m\n\u001b[0m\u001b[0;32m      4\u001b[0m \u001b[1;31m#array1 = map(int,input(\"Enter numbers seperated by space: \").split() )\u001b[0m\u001b[1;33m\u001b[0m\u001b[1;33m\u001b[0m\u001b[1;33m\u001b[0m\u001b[0m\n\u001b[0;32m      5\u001b[0m \u001b[0mprint\u001b[0m \u001b[1;33m(\u001b[0m\u001b[0mlist1\u001b[0m\u001b[1;33m)\u001b[0m\u001b[1;33m\u001b[0m\u001b[1;33m\u001b[0m\u001b[0m\n",
      "\u001b[1;31mTypeError\u001b[0m: 'int' object is not iterable"
     ]
    }
   ],
   "source": [
    "#Take 10 integer inputs from user and store them in a list and print them on screen.\n",
    "## return tuple\n",
    "list1 = *map(int, input(\"Enter 10 integers sep by space\").split() ),\n",
    "#array1 = map(int,input(\"Enter numbers seperated by space: \").split() )\n",
    "print (list1)"
   ]
  },
  {
   "cell_type": "code",
   "execution_count": 13,
   "metadata": {},
   "outputs": [
    {
     "name": "stdout",
     "output_type": "stream",
     "text": [
      "Enter 10 integers sep by space4 5 -6 -2 1 7 9\n",
      "[4, 5, -6, -2, 1]\n"
     ]
    }
   ],
   "source": [
    "#Take 10 integer inputs from user and store them in a list and print them on screen.\n",
    "##return list\n",
    "list1 = list( map(int, input(\"Enter 10 integers sep by space\").split() ) )\n",
    "list1 = list1[:10] #only take first 10 elements\n",
    "#array1 = map(int,input(\"Enter numbers seperated by space: \").split() )\n",
    "print (list1)"
   ]
  },
  {
   "cell_type": "code",
   "execution_count": null,
   "metadata": {},
   "outputs": [],
   "source": [
    "#Take 10 integer inputs from user and store them in a list and print them on screen.\n",
    "i = 10\n",
    "a = []\n",
    "while i>0:\n",
    "  print \"Enter number\"\n",
    "  num = input()\n",
    "  a.append(num)\n",
    "  i = i-1\n",
    "print a"
   ]
  },
  {
   "cell_type": "code",
   "execution_count": 8,
   "metadata": {},
   "outputs": [
    {
     "name": "stdout",
     "output_type": "stream",
     "text": [
      "Enter 5 integers seperated by space: \n",
      "4 -2 1 0 0 5\n",
      "[4, -2, 1, 0, 0]\n",
      "odd: 1 \n",
      "even: 1 \n",
      "positive 2 \n",
      "negative 1 \n",
      "zeros 2\n"
     ]
    }
   ],
   "source": [
    "# Take 20 integer inputs from user and print the following:\n",
    "# number of positive numbers\n",
    "# number of negative numbers\n",
    "# number of odd numbers\n",
    "# number of even numbers\n",
    "# number of 0s.\n",
    "arr1 = []\n",
    "maxx = 20\n",
    "\n",
    "while len(arr1)<maxx:\n",
    "    print(\"Enter\",maxx-len(arr1),\"integers seperated by space: \")\n",
    "    string1 = input()\n",
    "    temp_arr = string1.split()\n",
    "    for i in temp_arr:\n",
    "        if len(arr1)==maxx:\n",
    "            break\n",
    "        ##if i.isdigit(): ##this cant detect negative int\n",
    "        try:\n",
    "            int(i)\n",
    "            arr1.append(int(i))\n",
    "        except:\n",
    "            continue\n",
    "            \n",
    "print(arr1)\n",
    "\n",
    "odd = 0\n",
    "even= 0\n",
    "positive = 0\n",
    "negative = 0\n",
    "zeros = 0\n",
    "for i in arr1:\n",
    "    if i>0:\n",
    "        positive +=1\n",
    "        if i%2 == 0:\n",
    "            even += 1\n",
    "        else:\n",
    "            odd += 1\n",
    "    elif i==0:\n",
    "        zeros += 1\n",
    "    else:\n",
    "        negative += 1\n",
    "\n",
    "print(\"odd:\",odd ,\"\\neven:\",even, \"\\npositive\",positive,\"\\nnegative\",negative, \"\\nzeros\",zeros)\n"
   ]
  },
  {
   "cell_type": "code",
   "execution_count": 18,
   "metadata": {},
   "outputs": [
    {
     "name": "stdout",
     "output_type": "stream",
     "text": [
      "Enter 10 integers sep by space2 2 2 4 5 1 7 7 7 8 5 9 9 1 4 \n",
      "[2, 2, 2, 4, 5, 1, 7, 7, 7, 8]\n",
      "[2, 4, 1, 7, 7, 7, 8]\n"
     ]
    }
   ],
   "source": [
    "# Make a list by taking 10 input from user. Now delete all repeated elements of the list.\n",
    "# E.g.-\n",
    "# INPUT : [1,2,3,2,1,3,12,12,32]\n",
    "# OUTPUT : [1,2,3,12,32]\n",
    "\n",
    "list1 = list( map(int, input(\"Enter 10 integers sep by space\").split() ) )\n",
    "list1 = list1[:10] #only take first 10 elements\n",
    "print(list1)\n",
    "i=0\n",
    "while i<len(list1)-1:\n",
    "    x = list1[i]\n",
    "    i+=1\n",
    "    for j in range(1,len(list1)):\n",
    "        if x==j:\n",
    "            list1.remove(j)\n",
    "            \n",
    "print(list1)\n",
    "\n",
    "### WRONG output"
   ]
  },
  {
   "cell_type": "code",
   "execution_count": 22,
   "metadata": {},
   "outputs": [
    {
     "name": "stdout",
     "output_type": "stream",
     "text": [
      "Enter 5 integers sep by space: 1 2 3 4 5 6\n",
      "[1, 2, 3, 4, 5]\n",
      "[5, 1, 2, 3, 4]\n"
     ]
    }
   ],
   "source": [
    "# Write a program to shift every element of a list to circularly right. E.g.-\n",
    "# INPUT : 1 2 3 4 5\n",
    "# OUTPUT : 5 1 2 3 4\n",
    "list1 = list( map(int, input(\"Enter 5 integers sep by space: \").split() ) )\n",
    "list1 = list1[:5]\n",
    "print(list1)\n",
    "\n",
    "last = list1[len(list1)-1]\n",
    "for i in reversed(range(0,len(list1))):\n",
    "    list1[i] = list1[i-1]\n",
    "list1[0]=last\n",
    "print (list1)"
   ]
  },
  {
   "cell_type": "code",
   "execution_count": null,
   "metadata": {},
   "outputs": [],
   "source": [
    "##use set() function to delete repeating elements\n",
    "\n",
    "list1 = list( map(int, input(\"Enter 10 integers sep by space\").split() ) )\n",
    "list1 = list1[:10]\n",
    "print(list1)\n",
    "set_list = set(list1)\n",
    "print(list(set_list))"
   ]
  }
 ],
 "metadata": {
  "kernelspec": {
   "display_name": "Python 3",
   "language": "python",
   "name": "python3"
  },
  "language_info": {
   "codemirror_mode": {
    "name": "ipython",
    "version": 3
   },
   "file_extension": ".py",
   "mimetype": "text/x-python",
   "name": "python",
   "nbconvert_exporter": "python",
   "pygments_lexer": "ipython3",
   "version": "3.7.4"
  }
 },
 "nbformat": 4,
 "nbformat_minor": 2
}
