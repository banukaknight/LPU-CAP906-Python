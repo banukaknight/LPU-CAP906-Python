{
 "cells": [
  {
   "cell_type": "markdown",
   "metadata": {},
   "source": [
    "1.\n",
    "Take input of length and breadth of a rectangle from user and print area of it.\n",
    "2.\n",
    "Ask user to give two float input for length and breadth of a rectangle and print area type casted to int.\n",
    "3.\n",
    "Take side of a square from user and print area and perimeter of it.\n",
    "4.\n",
    "Take name, roll number and field of interest from user and print in the below format :\n",
    "Hey, my name is xyz and my roll number is xyz. My field of interest is xyz\n",
    "5.\n",
    "Write a program to find square of a number.\n",
    "E.g.-\n",
    "INPUT : 2        OUTPUT : 4\n",
    "INPUT : 5        OUTPUT : 25\n",
    "6.\n",
    "Take two different string input and print them in same line. E.g.-\n",
    "INPUT : Codes\n",
    "Dope\n",
    "OUTPUT : CodesDope\n"
   ]
  },
  {
   "cell_type": "code",
   "execution_count": 1,
   "metadata": {},
   "outputs": [
    {
     "name": "stdout",
     "output_type": "stream",
     "text": [
      "Enter Length: 4\n",
      "Enter Breadth: 5\n",
      "Area =  20\n"
     ]
    }
   ],
   "source": [
    "leng = int(input(\"Enter Length: \"))\n",
    "brdt = int(input(\"Enter Breadth: \"))\n",
    "print(\"Area = \", leng*brdt)"
   ]
  },
  {
   "cell_type": "code",
   "execution_count": 4,
   "metadata": {},
   "outputs": [
    {
     "name": "stdout",
     "output_type": "stream",
     "text": [
      "Enter Length in float: 1.1\n",
      "Enter Breadth in float: 5.9\n",
      "Area as integer val=  6.490000000000001 6\n"
     ]
    }
   ],
   "source": [
    "leng = float(input(\"Enter Length in float: \"))\n",
    "brdt = float(input(\"Enter Breadth in float: \"))\n",
    "print(\"Area as integer val= \", int(leng*brdt))"
   ]
  },
  {
   "cell_type": "code",
   "execution_count": 6,
   "metadata": {},
   "outputs": [
    {
     "name": "stdout",
     "output_type": "stream",
     "text": [
      "Enter Length: 5\n",
      "Area =  25\n",
      "Perimeter =  20\n"
     ]
    }
   ],
   "source": [
    "leng = int(input(\"Enter Length for squre: \"))\n",
    "print(\"Area = \", leng**2)\n",
    "print(\"Perimeter = \", leng*4)"
   ]
  },
  {
   "cell_type": "code",
   "execution_count": 10,
   "metadata": {},
   "outputs": [
    {
     "name": "stdout",
     "output_type": "stream",
     "text": [
      "Enter name: banu\n",
      "Enter roll no656\n",
      "Enter field of interestbsc\n",
      "Hey, my name is banu and my roll number is 656. \n",
      " My field of interest is bsc.\n"
     ]
    }
   ],
   "source": [
    "name = input(\"Enter name: \")\n",
    "rollno = input(\"Enter roll no\")\n",
    "field = input(\"Enter field of interest\")\n",
    "\n",
    "print(\"Hey, my name is {} and my roll number is {}. \\n My field of interest is {}.\" .format(name,rollno,field))"
   ]
  },
  {
   "cell_type": "code",
   "execution_count": 13,
   "metadata": {},
   "outputs": [
    {
     "name": "stdout",
     "output_type": "stream",
     "text": [
      "Enter a number: 5\n",
      "INPUT : 5 \t OUTPUT : 25\n"
     ]
    }
   ],
   "source": [
    "num = int(input(\"Enter a number: \"))\n",
    "print(\"INPUT : {} \\t OUTPUT : {}\" .format(num,num**2))"
   ]
  },
  {
   "cell_type": "code",
   "execution_count": 14,
   "metadata": {},
   "outputs": [
    {
     "name": "stdout",
     "output_type": "stream",
     "text": [
      "Enter str1: hello\n",
      "Enter str2: world\n",
      "hello world\n"
     ]
    }
   ],
   "source": [
    "str1 = input(\"Enter str1: \")\n",
    "str2 = input(\"Enter str2: \")\n",
    "print(str1, str2)"
   ]
  },
  {
   "cell_type": "code",
   "execution_count": null,
   "metadata": {},
   "outputs": [],
   "source": []
  }
 ],
 "metadata": {
  "kernelspec": {
   "display_name": "Python 3",
   "language": "python",
   "name": "python3"
  },
  "language_info": {
   "codemirror_mode": {
    "name": "ipython",
    "version": 3
   },
   "file_extension": ".py",
   "mimetype": "text/x-python",
   "name": "python",
   "nbconvert_exporter": "python",
   "pygments_lexer": "ipython3",
   "version": "3.7.4"
  }
 },
 "nbformat": 4,
 "nbformat_minor": 2
}
