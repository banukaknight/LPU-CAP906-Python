{
 "cells": [
  {
   "cell_type": "code",
   "execution_count": 1,
   "metadata": {},
   "outputs": [
    {
     "name": "stdout",
     "output_type": "stream",
     "text": [
      "Twinkle, twinkle, little star, \n",
      "\tHow I wonder what you are! \n",
      "\t\tUp above the world so high, \n",
      "\t\tLike a diamond in the sky. \n",
      "Twinkle, twinkle, little star, \n",
      "\tHow I wonder what you are\n"
     ]
    }
   ],
   "source": [
    "#q1 printing\n",
    "print(\"Twinkle, twinkle, little star, \\n\\tHow I wonder what you are! \\n\\t\\tUp above the world so high, \\n\\t\\tLike a diamond in the sky. \\nTwinkle, twinkle, little star, \\n\\tHow I wonder what you are\")"
   ]
  },
  {
   "cell_type": "code",
   "execution_count": 2,
   "metadata": {},
   "outputs": [
    {
     "name": "stdout",
     "output_type": "stream",
     "text": [
      "===============\n",
      "WHEEL OF PYTHON\n",
      "===============\n",
      "\n",
      "How many human players?1\n"
     ]
    },
    {
     "ename": "NameError",
     "evalue": "name 'WOFHumanPlayer' is not defined",
     "output_type": "error",
     "traceback": [
      "\u001b[1;31m---------------------------------------------------------------------------\u001b[0m",
      "\u001b[1;31mNameError\u001b[0m                                 Traceback (most recent call last)",
      "\u001b[1;32m<ipython-input-2-048407727c44>\u001b[0m in \u001b[0;36m<module>\u001b[1;34m\u001b[0m\n\u001b[0;32m     86\u001b[0m \u001b[1;33m\u001b[0m\u001b[0m\n\u001b[0;32m     87\u001b[0m \u001b[1;31m# Create the human player instances\u001b[0m\u001b[1;33m\u001b[0m\u001b[1;33m\u001b[0m\u001b[1;33m\u001b[0m\u001b[0m\n\u001b[1;32m---> 88\u001b[1;33m \u001b[0mhuman_players\u001b[0m \u001b[1;33m=\u001b[0m \u001b[1;33m[\u001b[0m\u001b[0mWOFHumanPlayer\u001b[0m\u001b[1;33m(\u001b[0m\u001b[0minput\u001b[0m\u001b[1;33m(\u001b[0m\u001b[1;34m'Enter the name for human player #{}'\u001b[0m\u001b[1;33m.\u001b[0m\u001b[0mformat\u001b[0m\u001b[1;33m(\u001b[0m\u001b[0mi\u001b[0m\u001b[1;33m+\u001b[0m\u001b[1;36m1\u001b[0m\u001b[1;33m)\u001b[0m\u001b[1;33m)\u001b[0m\u001b[1;33m)\u001b[0m \u001b[1;32mfor\u001b[0m \u001b[0mi\u001b[0m \u001b[1;32min\u001b[0m \u001b[0mrange\u001b[0m\u001b[1;33m(\u001b[0m\u001b[0mnum_human\u001b[0m\u001b[1;33m)\u001b[0m\u001b[1;33m]\u001b[0m\u001b[1;33m\u001b[0m\u001b[1;33m\u001b[0m\u001b[0m\n\u001b[0m\u001b[0;32m     89\u001b[0m \u001b[1;33m\u001b[0m\u001b[0m\n\u001b[0;32m     90\u001b[0m \u001b[0mnum_computer\u001b[0m \u001b[1;33m=\u001b[0m \u001b[0mgetNumberBetween\u001b[0m\u001b[1;33m(\u001b[0m\u001b[1;34m'How many computer players?'\u001b[0m\u001b[1;33m,\u001b[0m \u001b[1;36m0\u001b[0m\u001b[1;33m,\u001b[0m \u001b[1;36m10\u001b[0m\u001b[1;33m)\u001b[0m\u001b[1;33m\u001b[0m\u001b[1;33m\u001b[0m\u001b[0m\n",
      "\u001b[1;32m<ipython-input-2-048407727c44>\u001b[0m in \u001b[0;36m<listcomp>\u001b[1;34m(.0)\u001b[0m\n\u001b[0;32m     86\u001b[0m \u001b[1;33m\u001b[0m\u001b[0m\n\u001b[0;32m     87\u001b[0m \u001b[1;31m# Create the human player instances\u001b[0m\u001b[1;33m\u001b[0m\u001b[1;33m\u001b[0m\u001b[1;33m\u001b[0m\u001b[0m\n\u001b[1;32m---> 88\u001b[1;33m \u001b[0mhuman_players\u001b[0m \u001b[1;33m=\u001b[0m \u001b[1;33m[\u001b[0m\u001b[0mWOFHumanPlayer\u001b[0m\u001b[1;33m(\u001b[0m\u001b[0minput\u001b[0m\u001b[1;33m(\u001b[0m\u001b[1;34m'Enter the name for human player #{}'\u001b[0m\u001b[1;33m.\u001b[0m\u001b[0mformat\u001b[0m\u001b[1;33m(\u001b[0m\u001b[0mi\u001b[0m\u001b[1;33m+\u001b[0m\u001b[1;36m1\u001b[0m\u001b[1;33m)\u001b[0m\u001b[1;33m)\u001b[0m\u001b[1;33m)\u001b[0m \u001b[1;32mfor\u001b[0m \u001b[0mi\u001b[0m \u001b[1;32min\u001b[0m \u001b[0mrange\u001b[0m\u001b[1;33m(\u001b[0m\u001b[0mnum_human\u001b[0m\u001b[1;33m)\u001b[0m\u001b[1;33m]\u001b[0m\u001b[1;33m\u001b[0m\u001b[1;33m\u001b[0m\u001b[0m\n\u001b[0m\u001b[0;32m     89\u001b[0m \u001b[1;33m\u001b[0m\u001b[0m\n\u001b[0;32m     90\u001b[0m \u001b[0mnum_computer\u001b[0m \u001b[1;33m=\u001b[0m \u001b[0mgetNumberBetween\u001b[0m\u001b[1;33m(\u001b[0m\u001b[1;34m'How many computer players?'\u001b[0m\u001b[1;33m,\u001b[0m \u001b[1;36m0\u001b[0m\u001b[1;33m,\u001b[0m \u001b[1;36m10\u001b[0m\u001b[1;33m)\u001b[0m\u001b[1;33m\u001b[0m\u001b[1;33m\u001b[0m\u001b[0m\n",
      "\u001b[1;31mNameError\u001b[0m: name 'WOFHumanPlayer' is not defined"
     ]
    }
   ],
   "source": [
    "# PASTE YOUR WOFPlayer CLASS (from part A) HERE\n",
    "# PASTE YOUR WOFHumanPlayer CLASS (from part B) HERE\n",
    "# PASTE YOUR WOFComputerPlayer CLASS (from part C) HERE\n",
    "\n",
    "\n",
    "import sys\n",
    "#sys.setExecutionLimit(600000) # let this take up to 10 minutes\n",
    "\n",
    "import json\n",
    "import random\n",
    "import time\n",
    "\n",
    "LETTERS = 'ABCDEFGHIJKLMNOPQRSTUVWXYZ'\n",
    "VOWELS  = 'AEIOU'\n",
    "VOWEL_COST  = 250\n",
    "\n",
    "# Repeatedly asks the user for a number between min & max (inclusive)\n",
    "def getNumberBetween(prompt, min, max):\n",
    "    userinp = input(prompt) # ask the first time\n",
    "\n",
    "    while True:\n",
    "        try:\n",
    "            n = int(userinp) # try casting to an integer\n",
    "            if n < min:\n",
    "                errmessage = 'Must be at least {}'.format(min)\n",
    "            elif n > max:\n",
    "                errmessage = 'Must be at most {}'.format(max)\n",
    "            else:\n",
    "                return n\n",
    "        except ValueError: # The user didn't enter a number\n",
    "            errmessage = '{} is not a number.'.format(userinp)\n",
    "\n",
    "        # If we haven't gotten a number yet, add the error message\n",
    "        # and ask again\n",
    "        userinp = input('{}\\n{}'.format(errmessage, prompt))\n",
    "\n",
    "# Spins the wheel of fortune wheel to give a random prize\n",
    "# Examples:\n",
    "#    { \"type\": \"cash\", \"text\": \"$950\", \"value\": 950, \"prize\": \"A trip to Ann Arbor!\" },\n",
    "#    { \"type\": \"bankrupt\", \"text\": \"Bankrupt\", \"prize\": false },\n",
    "#    { \"type\": \"loseturn\", \"text\": \"Lose a turn\", \"prize\": false }\n",
    "def spinWheel():\n",
    "    with open(\"wheel.json\", 'r') as f:\n",
    "        wheel = json.loads(f.read())\n",
    "        return random.choice(wheel)\n",
    "\n",
    "# Returns a category & phrase (as a tuple) to guess\n",
    "# Example:\n",
    "#     (\"Artist & Song\", \"Whitney Houston's I Will Always Love You\")\n",
    "def getRandomCategoryAndPhrase():\n",
    "    with open(\"phrases.json\", 'r') as f:\n",
    "        phrases = json.loads(f.read())\n",
    "\n",
    "        category = random.choice(list(phrases.keys()))\n",
    "        phrase   = random.choice(phrases[category])\n",
    "        return (category, phrase.upper())\n",
    "\n",
    "# Given a phrase and a list of guessed letters, returns an obscured version\n",
    "# Example:\n",
    "#     guessed: ['L', 'B', 'E', 'R', 'N', 'P', 'K', 'X', 'Z']\n",
    "#     phrase:  \"GLACIER NATIONAL PARK\"\n",
    "#     returns> \"_L___ER N____N_L P_RK\"\n",
    "def obscurePhrase(phrase, guessed):\n",
    "    rv = ''\n",
    "    for s in phrase:\n",
    "        if (s in LETTERS) and (s not in guessed):\n",
    "            rv = rv+'_'\n",
    "        else:\n",
    "            rv = rv+s\n",
    "    return rv\n",
    "\n",
    "# Returns a string representing the current state of the game\n",
    "def showBoard(category, obscuredPhrase, guessed):\n",
    "    return \"\"\"\n",
    "Category: {}\n",
    "Phrase:   {}\n",
    "Guessed:  {}\"\"\".format(category, obscuredPhrase, ', '.join(sorted(guessed)))\n",
    "\n",
    "# GAME LOGIC CODE\n",
    "print('='*15)\n",
    "print('WHEEL OF PYTHON')\n",
    "print('='*15)\n",
    "print('')\n",
    "\n",
    "num_human = getNumberBetween('How many human players?', 0, 10)\n",
    "\n",
    "# Create the human player instances\n",
    "human_players = [WOFHumanPlayer(input('Enter the name for human player #{}'.format(i+1))) for i in range(num_human)]\n",
    "\n",
    "num_computer = getNumberBetween('How many computer players?', 0, 10)\n",
    "\n",
    "# If there are computer players, ask how difficult they should be\n",
    "if num_computer >= 1:\n",
    "    difficulty = getNumberBetween('What difficulty for the computers? (1-10)', 1, 10)\n",
    "\n",
    "# Create the computer player instances\n",
    "computer_players = [WOFComputerPlayer('Computer {}'.format(i+1), difficulty) for i in range(num_computer)]\n",
    "\n",
    "players = human_players + computer_players\n",
    "\n",
    "# No players, no game :(\n",
    "if len(players) == 0:\n",
    "    print('We need players to play!')\n",
    "    raise Exception('Not enough players')\n",
    "\n",
    "# category and phrase are strings.\n",
    "category, phrase = getRandomCategoryAndPhrase()\n",
    "# guessed is a list of the letters that have been guessed\n",
    "guessed = []\n",
    "\n",
    "# playerIndex keeps track of the index (0 to len(players)-1) of the player whose turn it is\n",
    "playerIndex = 0\n",
    "\n",
    "# will be set to the player instance when/if someone wins\n",
    "winner = False\n",
    "\n",
    "def requestPlayerMove(player, category, guessed):\n",
    "    while True: # we're going to keep asking the player for a move until they give a valid one\n",
    "        time.sleep(0.1) # added so that any feedback is printed out before the next prompt\n",
    "\n",
    "        move = player.getMove(category, obscurePhrase(phrase, guessed), guessed)\n",
    "        move = move.upper() # convert whatever the player entered to UPPERCASE\n",
    "        if move == 'EXIT' or move == 'PASS':\n",
    "            return move\n",
    "        elif len(move) == 1: # they guessed a character\n",
    "            if move not in LETTERS: # the user entered an invalid letter (such as @, #, or $)\n",
    "                print('Guesses should be letters. Try again.')\n",
    "                continue\n",
    "            elif move in guessed: # this letter has already been guessed\n",
    "                print('{} has already been guessed. Try again.'.format(move))\n",
    "                continue\n",
    "            elif move in VOWELS and player.prizeMoney < VOWEL_COST: # if it's a vowel, we need to be sure the player has enough\n",
    "                    print('Need ${} to guess a vowel. Try again.'.format(VOWEL_COST))\n",
    "                    continue\n",
    "            else:\n",
    "                return move\n",
    "        else: # they guessed the phrase\n",
    "            return move\n",
    "\n",
    "\n",
    "while True:\n",
    "    player = players[playerIndex]\n",
    "    wheelPrize = spinWheel()\n",
    "\n",
    "    print('')\n",
    "    print('-'*15)\n",
    "    print(showBoard(category, obscurePhrase(phrase, guessed), guessed))\n",
    "    print('')\n",
    "    print('{} spins...'.format(player.name))\n",
    "    time.sleep(2) # pause for dramatic effect!\n",
    "    print('{}!'.format(wheelPrize['text']))\n",
    "    time.sleep(1) # pause again for more dramatic effect!\n",
    "\n",
    "    if wheelPrize['type'] == 'bankrupt':\n",
    "        player.goBankrupt()\n",
    "    elif wheelPrize['type'] == 'loseturn':\n",
    "        pass # do nothing; just move on to the next player\n",
    "    elif wheelPrize['type'] == 'cash':\n",
    "        move = requestPlayerMove(player, category, guessed)\n",
    "        if move == 'EXIT': # leave the game\n",
    "            print('Until next time!')\n",
    "            break\n",
    "        elif move == 'PASS': # will just move on to next player\n",
    "            print('{} passes'.format(player.name))\n",
    "        elif len(move) == 1: # they guessed a letter\n",
    "            guessed.append(move)\n",
    "\n",
    "            print('{} guesses \"{}\"'.format(player.name, move))\n",
    "\n",
    "            if move in VOWELS:\n",
    "                player.prizeMoney -= VOWEL_COST\n",
    "\n",
    "            count = phrase.count(move) # returns an integer with how many times this letter appears\n",
    "            if count > 0:\n",
    "                if count == 1:\n",
    "                    print(\"There is one {}\".format(move))\n",
    "                else:\n",
    "                    print(\"There are {} {}'s\".format(count, move))\n",
    "\n",
    "                # Give them the money and the prizes\n",
    "                player.addMoney(count * wheelPrize['value'])\n",
    "                if wheelPrize['prize']:\n",
    "                    player.addPrize(wheelPrize['prize'])\n",
    "\n",
    "                # all of the letters have been guessed\n",
    "                if obscurePhrase(phrase, guessed) == phrase:\n",
    "                    winner = player\n",
    "                    break\n",
    "\n",
    "                continue # this player gets to go again\n",
    "\n",
    "            elif count == 0:\n",
    "                print(\"There is no {}\".format(move))\n",
    "        else: # they guessed the whole phrase\n",
    "            if move == phrase: # they guessed the full phrase correctly\n",
    "                winner = player\n",
    "\n",
    "                # Give them the money and the prizes\n",
    "                player.addMoney(wheelPrize['value'])\n",
    "                if wheelPrize['prize']:\n",
    "                    player.addPrize(wheelPrize['prize'])\n",
    "\n",
    "                break\n",
    "            else:\n",
    "                print('{} was not the phrase'.format(move))\n",
    "\n",
    "    # Move on to the next player (or go back to player[0] if we reached the end)\n",
    "    playerIndex = (playerIndex + 1) % len(players)\n",
    "\n",
    "if winner:\n",
    "    # In your head, you should hear this as being announced by a game show host\n",
    "    print('{} wins! The phrase was {}'.format(winner.name, phrase))\n",
    "    print('{} won ${}'.format(winner.name, winner.prizeMoney))\n",
    "    if len(winner.prizes) > 0:\n",
    "        print('{} also won:'.format(winner.name))\n",
    "        for prize in winner.prizes:\n",
    "            print('    - {}'.format(prize))\n",
    "else:\n",
    "    print('Nobody won. The phrase was {}'.format(phrase))\n"
   ]
  },
  {
   "cell_type": "code",
   "execution_count": 2,
   "metadata": {},
   "outputs": [
    {
     "name": "stdout",
     "output_type": "stream",
     "text": [
      "Python version\n",
      "3.7.4 (default, Aug  9 2019, 18:34:13) [MSC v.1915 64 bit (AMD64)]\n",
      "Version info.\n",
      "sys.version_info(major=3, minor=7, micro=4, releaselevel='final', serial=0)\n"
     ]
    }
   ],
   "source": [
    "#get py version\n",
    "\n",
    "import sys\n",
    "print(\"Python version\")\n",
    "print (sys.version)\n",
    "print(\"Version info.\")\n",
    "print (sys.version_info)"
   ]
  },
  {
   "cell_type": "code",
   "execution_count": 52,
   "metadata": {},
   "outputs": [
    {
     "name": "stdout",
     "output_type": "stream",
     "text": [
      "2020-09-08 00:35:22.290890\n",
      "2020--09--08 00-35-22\n",
      "Input the year : 2020\n",
      "Input the month : 08\n",
      "    August 2020\n",
      "Mo Tu We Th Fr Sa Su\n",
      "                1  2\n",
      " 3  4  5  6  7  8  9\n",
      "10 11 12 13 14 15 16\n",
      "17 18 19 20 21 22 23\n",
      "24 25 26 27 28 29 30\n",
      "31\n",
      "\n"
     ]
    }
   ],
   "source": [
    "#get date time\n",
    "\n",
    "import datetime\n",
    "current = datetime.datetime.now() # to fetch current date and time\n",
    "print(current) # to print date and time\n",
    "print(current.strftime(\"%Y--%m--%d %H-%M-%S\"))\n",
    "\n",
    "#calender module\n",
    "import calendar\n",
    "y = int(input(\"Input the year : \"))\n",
    "m = int(input(\"Input the month : \"))\n",
    "print(calendar.month(y, m))"
   ]
  },
  {
   "cell_type": "code",
   "execution_count": 8,
   "metadata": {},
   "outputs": [
    {
     "name": "stdout",
     "output_type": "stream",
     "text": [
      "Enter numbers seperated with comma: 4, 7,4\n",
      "['4', ' 7', '4']\n",
      "('4', ' 7', '4')\n"
     ]
    }
   ],
   "source": [
    "#Write a Python program which accepts a sequence of comma-separated numbers \n",
    "#from user and generate a list and a tuple with those numbers.\n",
    "\n",
    "var1 = input(\"Enter numbers seperated with comma: \")\n",
    "list1 = var1.split(',')\n",
    "print(list1)\n",
    "tupl1 = tuple(list1) #list to tuple conversion\n",
    "print(tupl1)"
   ]
  },
  {
   "cell_type": "code",
   "execution_count": 9,
   "metadata": {},
   "outputs": [
    {
     "name": "stdout",
     "output_type": "stream",
     "text": [
      "enter file name: mydoc.biz.com\n",
      "extention is: com\n"
     ]
    }
   ],
   "source": [
    "#get file name from user & print extention.\n",
    "var1 = input(\"enter file name: \")\n",
    "list1 = var1.split(\".\")\n",
    "print(\"extention is:\", list1[-1])"
   ]
  },
  {
   "cell_type": "code",
   "execution_count": 37,
   "metadata": {},
   "outputs": [
    {
     "name": "stdout",
     "output_type": "stream",
     "text": [
      "['11', ' 12', ' 2014']\n",
      "Exam start from: 11 / 12 / 2014\n"
     ]
    }
   ],
   "source": [
    "#exam_st_date = (11, 12, 2014) -- extract date & format, print\n",
    "var1 = \"exam_st_date = (11, 12, 2014)\"\n",
    "list1 = var1[-13:-1].split(\",\")\n",
    "print(list1)\n",
    "print(\"Exam start from: {} /{} /{}\".format(list1[0],list1[1],list1[2]))\n",
    "\n",
    "exam_st_date = (11, 12, 2014)\n",
    "print( \"The examination will start from : %i / %i / %i\"%exam_st_date) #tuple extraction.. like format"
   ]
  },
  {
   "cell_type": "code",
   "execution_count": 49,
   "metadata": {},
   "outputs": [
    {
     "name": "stdout",
     "output_type": "stream",
     "text": [
      "615\n"
     ]
    }
   ],
   "source": [
    "# Write a Python program that accepts an integer (n) and computes the value of n+nn+nnn\n",
    "#ex input 5 - out 615\n",
    "\n",
    "var1 = 5\n",
    "var2 = \"\"\n",
    "sum1 = 0\n",
    "for i in range(1,4):\n",
    "    var2 += str(var1)\n",
    "    sum1 += int(var2)\n",
    "print(sum1)"
   ]
  },
  {
   "cell_type": "code",
   "execution_count": 1,
   "metadata": {},
   "outputs": [
    {
     "name": "stdout",
     "output_type": "stream",
     "text": [
      "Return the absolute value of the argument.\n"
     ]
    }
   ],
   "source": [
    "#print function info\n",
    "print(abs.__doc__)\n"
   ]
  },
  {
   "cell_type": "code",
   "execution_count": 22,
   "metadata": {},
   "outputs": [
    {
     "name": "stdout",
     "output_type": "stream",
     "text": [
      "<class 'list'>\n",
      "111123212332112321233321112321233211232123333\n",
      "1 2 3\n",
      "1-2-3\n"
     ]
    }
   ],
   "source": [
    "list1 = [\"1\",\"2\",\"3\"]\n",
    "print(type(list1))\n",
    "var1 = var1.join(list1) \n",
    "print(var1)\n",
    "\n",
    "listToStr = ' '.join([str(elem) for elem in list1])  # list comprehension\n",
    "print(listToStr)\n",
    "\n",
    "# using list comprehension \n",
    "str2 = '-'.join(map(str, list1)) \n",
    "  \n",
    "print(str2)  "
   ]
  },
  {
   "cell_type": "code",
   "execution_count": 23,
   "metadata": {},
   "outputs": [
    {
     "name": "stdout",
     "output_type": "stream",
     "text": [
      "{'cherry', 'banana', 'apple'}\n"
     ]
    }
   ],
   "source": [
    "#A set is a collection which is unordered and unindexed. In Python sets are written with curly brackets.\n",
    "#Once a set is created, you cannot change its items, but you can add new items.\n",
    "#To add one item to a set use the add() method.\n",
    "#To add more than one item to a set use the update() method.\n",
    "\n",
    "\n",
    "thisset = {\"apple\", \"banana\", \"cherry\"}\n",
    "print(thisset)\n",
    "\n",
    "#Add multiple items to a set, using the update() method:\n",
    "thisset.update([\"orange\", \"mango\", \"grapes\"])\n",
    "\n",
    "print(thisset)\n",
    "\n",
    "#To remove an item in a set, use the remove(), or the discard() method.\n",
    "#Note: If the item to remove does not exist, discard() will NOT raise an error. [remove give error]\n",
    "#Remove the last item by using the pop() method:\n",
    "#The clear() method empties the set:\n",
    "#The del keyword will delete the set completely:\n",
    "\n",
    "#You can use the union() method that returns a new set containing all items from both sets, \n",
    "#or the update() method that inserts all the items from one set into another:\n",
    "\n",
    "# Set Methods\n",
    "# Python has a set of built-in methods that you can use on sets.\n",
    "\n",
    "# Method\tDescription\n",
    "# add()\tAdds an element to the set\n",
    "# clear()\tRemoves all the elements from the set\n",
    "# copy()\tReturns a copy of the set\n",
    "# difference()\tReturns a set containing the difference between two or more sets\n",
    "# difference_update()\tRemoves the items in this set that are also included in another, specified set\n",
    "# discard()\tRemove the specified item\n",
    "# intersection()\tReturns a set, that is the intersection of two other sets\n",
    "# intersection_update()\tRemoves the items in this set that are not present in other, specified set(s)\n",
    "# isdisjoint()\tReturns whether two sets have a intersection or not\n",
    "# issubset()\tReturns whether another set contains this set or not\n",
    "# issuperset()\tReturns whether this set contains another set or not\n",
    "# pop()\tRemoves an element from the set\n",
    "# remove()\tRemoves the specified element\n",
    "# symmetric_difference()\tReturns a set with the symmetric differences of two sets\n",
    "# symmetric_difference_update()\tinserts the symmetric differences from this set and another\n",
    "# union()\tReturn a set containing the union of sets\n",
    "# update()\tUpdate the set with the union of this set and others"
   ]
  },
  {
   "cell_type": "code",
   "execution_count": 24,
   "metadata": {},
   "outputs": [
    {
     "name": "stdout",
     "output_type": "stream",
     "text": [
      "{'White', 'Black'}\n"
     ]
    }
   ],
   "source": [
    "#Write a Python program to print out a set containing all the colors from color_list_1 \n",
    "#which are not present in color_list_2. Go to the editor\n",
    "#Test Data :\n",
    "color_list_1 = set([\"White\", \"Black\", \"Red\"])\n",
    "color_list_2 = set([\"Red\", \"Green\"])\n",
    "color_list_1.difference_update(color_list_2)\n",
    "print( color_list_1 )"
   ]
  }
 ],
 "metadata": {
  "kernelspec": {
   "display_name": "Python 3",
   "language": "python",
   "name": "python3"
  },
  "language_info": {
   "codemirror_mode": {
    "name": "ipython",
    "version": 3
   },
   "file_extension": ".py",
   "mimetype": "text/x-python",
   "name": "python",
   "nbconvert_exporter": "python",
   "pygments_lexer": "ipython3",
   "version": "3.7.4"
  }
 },
 "nbformat": 4,
 "nbformat_minor": 2
}
