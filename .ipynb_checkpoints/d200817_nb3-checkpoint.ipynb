{
 "cells": [
  {
   "cell_type": "markdown",
   "metadata": {},
   "source": [
    "# d200817 new week"
   ]
  },
  {
   "cell_type": "code",
   "execution_count": 2,
   "metadata": {},
   "outputs": [
    {
     "name": "stdout",
     "output_type": "stream",
     "text": [
      "Value now: 1\n",
      "Value now: 2\n",
      "Value now: 3\n",
      "Value now: 4\n",
      "ENd of prog with count: 5\n"
     ]
    }
   ],
   "source": [
    "#loops\n",
    "\n",
    "count = 1\n",
    "while (count<5):\n",
    "    print (\"Value now:\", count)\n",
    "    count=count+1\n",
    "print (\"ENd of prog with count:\", count)"
   ]
  },
  {
   "cell_type": "code",
   "execution_count": 24,
   "metadata": {},
   "outputs": [
    {
     "name": "stdout",
     "output_type": "stream",
     "text": [
      "10\n",
      "9\n",
      "8\n",
      "7\n",
      "6\n",
      "5\n",
      "4\n",
      "3\n",
      "2\n",
      "1\n"
     ]
    }
   ],
   "source": [
    "# Loops - while - 3 condition, increment/decrement, initial value of loop\n",
    "initial = 10 # initial value\n",
    "while initial > 0: # termination condition\n",
    "    print(initial) # printing of results\n",
    "    initial=initial-1 # decrement factor"
   ]
  },
  {
   "cell_type": "code",
   "execution_count": 26,
   "metadata": {},
   "outputs": [
    {
     "name": "stdout",
     "output_type": "stream",
     "text": [
      "1\n",
      "2\n",
      "3\n",
      "4\n",
      "5\n"
     ]
    }
   ],
   "source": [
    "# Loops - while - 3 , break\n",
    "initial = 1 # initial value\n",
    "while initial <= 10: # termination condition\n",
    "    print(initial) # printing of results\n",
    "    if initial == 5:\n",
    "        break\n",
    "    initial=initial+1 # increment factor"
   ]
  },
  {
   "cell_type": "code",
   "execution_count": 32,
   "metadata": {},
   "outputs": [
    {
     "name": "stdout",
     "output_type": "stream",
     "text": [
      "1\n",
      "2\n",
      "4\n",
      "5\n"
     ]
    }
   ],
   "source": [
    "# Loops - while - 3 , continue\n",
    "initial = 0 # initial value\n",
    "while initial <5: # termination condition\n",
    "    initial=initial+1 # increment factor\n",
    "    if initial == 3:\n",
    "        continue\n",
    "    print(initial)"
   ]
  },
  {
   "cell_type": "code",
   "execution_count": 33,
   "metadata": {},
   "outputs": [
    {
     "name": "stdout",
     "output_type": "stream",
     "text": [
      "0\n",
      "1\n",
      "2\n",
      "3\n",
      "4\n"
     ]
    }
   ],
   "source": [
    "# d200818 for loop\n",
    "# Loops - for - 3 -> condition, increment/decrement, initial value of loop - v1\n",
    "for initial in range(5):\n",
    "    print(initial) # printing of results"
   ]
  },
  {
   "cell_type": "code",
   "execution_count": 34,
   "metadata": {},
   "outputs": [
    {
     "name": "stdout",
     "output_type": "stream",
     "text": [
      "1\n",
      "2\n",
      "3\n",
      "4\n"
     ]
    }
   ],
   "source": [
    "# Loops - for - 3 -> condition, increment/decrement, initial value of loop - v2\n",
    "for initial in range(1,5):\n",
    "    print(initial) # printing of results"
   ]
  },
  {
   "cell_type": "code",
   "execution_count": 35,
   "metadata": {},
   "outputs": [
    {
     "name": "stdout",
     "output_type": "stream",
     "text": [
      "1\n",
      "3\n",
      "5\n",
      "7\n",
      "9\n"
     ]
    }
   ],
   "source": [
    "# Loops - for - 3 -> condition, increment/decrement, initial value of loop - v3\n",
    "for initial in range(1,10,2):\n",
    "    print(initial) # printing of results"
   ]
  },
  {
   "cell_type": "code",
   "execution_count": 36,
   "metadata": {},
   "outputs": [
    {
     "name": "stdout",
     "output_type": "stream",
     "text": [
      "1\n",
      "3\n",
      "5\n",
      "7\n",
      "9\n",
      "execution terminates!!\n"
     ]
    }
   ],
   "source": [
    "# Loops - for - else\n",
    "for initial in range(1,10,2):\n",
    "    print(initial) # printing of results\n",
    "else:\n",
    "    print(\"execution terminates!!\")"
   ]
  },
  {
   "cell_type": "code",
   "execution_count": 38,
   "metadata": {},
   "outputs": [
    {
     "name": "stdout",
     "output_type": "stream",
     "text": [
      "1\n",
      "3\n",
      "5\n",
      "9\n"
     ]
    }
   ],
   "source": [
    "# Loops - for - pass (same as continue)\n",
    "for initial in range(1,10,2):\n",
    "    if initial == 7:\n",
    "        pass # skip the printing of 7\n",
    "    else:\n",
    "        print(initial)"
   ]
  },
  {
   "cell_type": "code",
   "execution_count": 39,
   "metadata": {},
   "outputs": [
    {
     "name": "stdout",
     "output_type": "stream",
     "text": [
      "1\n",
      "3\n",
      "5\n"
     ]
    }
   ],
   "source": [
    "# Loops - for - break\n",
    "for initial in range(1,10,2):\n",
    "    if initial == 7:\n",
    "        break # stops the execution of loop\n",
    "    else:\n",
    "        print(initial)"
   ]
  },
  {
   "cell_type": "code",
   "execution_count": 40,
   "metadata": {},
   "outputs": [
    {
     "name": "stdout",
     "output_type": "stream",
     "text": [
      "IND\n",
      "USA\n",
      "PAK\n"
     ]
    }
   ],
   "source": [
    "#Loops - for - collections - ex 1\n",
    "country = [\"IND\", \"USA\", \"PAK\"]\n",
    "for initial in country:\n",
    "    print(initial)"
   ]
  },
  {
   "cell_type": "code",
   "execution_count": 41,
   "metadata": {},
   "outputs": [
    {
     "name": "stdout",
     "output_type": "stream",
     "text": [
      "c\n",
      "o\n",
      "u\n",
      "n\n",
      "t\n",
      "r\n",
      "y\n"
     ]
    }
   ],
   "source": [
    "# Loops - for - strings - ex 2\n",
    "for initial in \"country\":\n",
    "    print(initial)"
   ]
  },
  {
   "cell_type": "code",
   "execution_count": 42,
   "metadata": {},
   "outputs": [
    {
     "name": "stdout",
     "output_type": "stream",
     "text": [
      "PB CHD\n",
      "PB TRV\n",
      "KL CHD\n",
      "KL TRV\n"
     ]
    }
   ],
   "source": [
    "#Loops - for - using multiple for loops\n",
    "states = [\"PB\", \"KL\"]\n",
    "caps= [\"CHD\", \"TRV\"]\n",
    "for i in states:\n",
    "    for j in caps:\n",
    "        print(i,j)"
   ]
  },
  {
   "cell_type": "code",
   "execution_count": 22,
   "metadata": {},
   "outputs": [
    {
     "name": "stdout",
     "output_type": "stream",
     "text": [
      "Marks 98 & attendence 45 recived BROO!\n"
     ]
    }
   ],
   "source": [
    "#d200819 format output\n",
    "\n",
    "score = 98\n",
    "#atten = 45\n",
    "messg = 'BROO!'\n",
    "\n",
    "var1 = 'Marks {} & attendence {} recived {}'\n",
    "print(var1.format(score,45,messg))"
   ]
  },
  {
   "cell_type": "code",
   "execution_count": 43,
   "metadata": {},
   "outputs": [
    {
     "name": "stdout",
     "output_type": "stream",
     "text": [
      "Great, I have scored 99 marks out of 100 with 99.0%\n"
     ]
    }
   ],
   "source": [
    "# Revisiting Strings - method - format, v3\n",
    "marksObt=99\n",
    "marksMax=100\n",
    "percen=99.0\n",
    "var1 = \"Great, I have scored {1} marks out of {0} with {2}%\"\n",
    "print(var1.format(marksMax,marksObt,percen))"
   ]
  },
  {
   "cell_type": "code",
   "execution_count": 44,
   "metadata": {},
   "outputs": [
    {
     "name": "stdout",
     "output_type": "stream",
     "text": [
      "\"Great Effort\", You have scored 99 marks out of 100 with 99.0%\n",
      "\n",
      "\"Great \n",
      "Effort\", \tYou have scored 99 marks out of 100 with 99.0%\n"
     ]
    }
   ],
   "source": [
    "# Revisiting Strings - Escape Sequences \\ backslash \\n \\t \\\\ \\\" \\'\n",
    "marksObt=99\n",
    "marksMax=100\n",
    "percen=99.0\n",
    "var1 = '\"Great Effort\", You have scored {1} marks out of {0} with {2}%\\n' # with single\n",
    "var2 = \"\\\"Great \\nEffort\\\", \\tYou have scored {1} marks out of {0} with {2}%\" # with es\n",
    "print(var1.format(marksMax,marksObt,percen))\n",
    "print(var2.format(marksMax,marksObt,percen))"
   ]
  },
  {
   "cell_type": "code",
   "execution_count": 8,
   "metadata": {},
   "outputs": [
    {
     "name": "stdout",
     "output_type": "stream",
     "text": [
      "Enter String: Hello world wod\n",
      "Enter keyword: wo\n",
      "found at index: 6\n",
      "length of string: 15\n",
      "key count in string: 2\n"
     ]
    }
   ],
   "source": [
    "#d200820\n",
    "#string manipulation\n",
    "varstr = input(\"Enter String: \")\n",
    "keyw = input(\"Enter keyword: \")\n",
    "result = varstr.find(keyw)\n",
    "#if result == -1 : keyword not found\n",
    "print(\"found at index:\", result)\n",
    "\n",
    "print(\"length of string:\", len(varstr))\n",
    "\n",
    "keycount = varstr.count(keyw)\n",
    "print(\"key count in string:\", keycount)\n",
    "\n",
    "#return true/false\n",
    "strstartwith = varstr.startswith(\"H\") \n",
    "strendwith = varstr.endswith(\"d\")\n",
    "\n",
    "##check starting from given index 6\n",
    "strstartwith = varstr.startswith(\"H\",4) "
   ]
  },
  {
   "cell_type": "code",
   "execution_count": 1,
   "metadata": {},
   "outputs": [
    {
     "name": "stdout",
     "output_type": "stream",
     "text": [
      "Enter the string of your choice: trte trrere trere\n",
      "Enter the keyword: tr\n",
      "Keyword found at index 0\n"
     ]
    }
   ],
   "source": [
    "# String manipulation methods - find\n",
    "varstr=input(\"Enter the string of your choice: \") # take string input from the user\n",
    "keyword=input(\"Enter the keyword: \") # enter search keyword\n",
    "result=varstr.find(keyword) # use find method to perform search\n",
    "if result==-1: # if keyword is not found, it will return -1 else index of the keyword w\n",
    " print(\"Keyword not found!!\")\n",
    "else:\n",
    " print(\"Keyword found at index\",result)\n"
   ]
  },
  {
   "cell_type": "raw",
   "metadata": {},
   "source": [
    "# String manipulation methods - digit\n",
    "varstr=input(\"Enter the string of your choice: \") # take string input from the user\n",
    "ans=varstr.isdigit()\n",
    "if ans==True: # if keyword is not found, it will return -1 else index of the keyword wi\n",
    " print(\"It's digit based!!\")\n",
    "else:\n",
    " print(\"It's not a digit based!!\")"
   ]
  },
  {
   "cell_type": "code",
   "execution_count": 3,
   "metadata": {},
   "outputs": [
    {
     "name": "stdout",
     "output_type": "stream",
     "text": [
      "Enter the string of your choice: dfgdf\n",
      "It's alpha based!!\n"
     ]
    }
   ],
   "source": [
    "# String manipulation methods - alpha\n",
    "varstr=input(\"Enter the string of your choice: \") # take string input from the user\n",
    "ans=varstr.isalpha()\n",
    "if ans==True: # if keyword is not found, it will return -1 else index of the keyword wi\n",
    " print(\"It's alpha based!!\")\n",
    "else:\n",
    " print(\"It's not alpha based!!\")"
   ]
  },
  {
   "cell_type": "code",
   "execution_count": 4,
   "metadata": {},
   "outputs": [
    {
     "name": "stdout",
     "output_type": "stream",
     "text": [
      "Enter the string of your choice: rsrtrs\n",
      "It's alpha numeric based!!\n"
     ]
    }
   ],
   "source": [
    "# String manipulation methods - alpha\n",
    "varstr=input(\"Enter the string of your choice: \") # take string input from the user\n",
    "ans=varstr.isalnum() # a...z or 0...9\n",
    "if ans==True:\n",
    " print(\"It's alpha numeric based!!\")\n",
    "else:\n",
    " print(\"It's not alpha numeric based!!\") # if we are going to enter special chars"
   ]
  },
  {
   "cell_type": "code",
   "execution_count": 5,
   "metadata": {},
   "outputs": [
    {
     "name": "stdout",
     "output_type": "stream",
     "text": [
      "Enter the string of your choice: sdfgsf\n",
      "Enter the key word:yt\n",
      "It's not starting with the mentioned key!!\n"
     ]
    }
   ],
   "source": [
    "# String manipulation methods - startswith\n",
    "varstr=input(\"Enter the string of your choice: \") # take string input from the user\n",
    "key=input(\"Enter the key word:\")\n",
    "ans=varstr.startswith(key) # its going to check the first char of string\n",
    "#ans=varstr.startswith(key,6) # its going to check the string from char available at me\n",
    "if ans==True:\n",
    " print(\"It's starting with the mentioned key!!\")\n",
    "else:\n",
    " print(\"It's not starting with the mentioned key!!\") # if we are going to enter spec"
   ]
  },
  {
   "cell_type": "code",
   "execution_count": null,
   "metadata": {},
   "outputs": [],
   "source": [
    "# String manipulation methods - title\n",
    "varstr=input(\"Enter the string of your choice: \") # take string input from the user\n",
    "ans=varstr.title() #Each word will be changed to its capital form\n",
    "print(ans)"
   ]
  }
 ],
 "metadata": {
  "kernelspec": {
   "display_name": "Python 3",
   "language": "python",
   "name": "python3"
  },
  "language_info": {
   "codemirror_mode": {
    "name": "ipython",
    "version": 3
   },
   "file_extension": ".py",
   "mimetype": "text/x-python",
   "name": "python",
   "nbconvert_exporter": "python",
   "pygments_lexer": "ipython3",
   "version": "3.7.4"
  }
 },
 "nbformat": 4,
 "nbformat_minor": 2
}
