{
 "cells": [
  {
   "cell_type": "markdown",
   "metadata": {},
   "source": [
    "1.\n",
    "Take two inputs from user and check whether they are equal or not.\n",
    "2.\n",
    "Take 3 inputs from user and check :\n",
    "all are equal\n",
    "any of two are equal\n",
    "( use and or )\n",
    "3.\n",
    "Take two number and check whether the sum is greater than 5, less than 5 or equal to 5.\n",
    "4.\n",
    "Judge the follwing expressions :\n",
    "not(True and True)\n",
    "True or False\n",
    "not(False and True)\n",
    "False and False\n",
    "5.\n",
    "Suppose passing marks of a subject is 35. Take input of marks from user and check whether it is greater than passing marks or not."
   ]
  },
  {
   "cell_type": "code",
   "execution_count": 3,
   "metadata": {},
   "outputs": [
    {
     "name": "stdout",
     "output_type": "stream",
     "text": [
      "Enter input 1: 5\n",
      "Enter input 2: 5\n",
      "Inputs are Equal\n"
     ]
    }
   ],
   "source": [
    "a = input (\"Enter input 1: \")\n",
    "b = input (\"Enter input 2: \")\n",
    "##ternary operator stuff in python\n",
    "print ( \"Inputs are Equal\" if a==b else \"Inputs are NOT Equal\" )"
   ]
  },
  {
   "cell_type": "code",
   "execution_count": null,
   "metadata": {},
   "outputs": [],
   "source": [
    "a = input (\"Enter input 1: \")"
   ]
  },
  {
   "cell_type": "code",
   "execution_count": null,
   "metadata": {},
   "outputs": [],
   "source": []
  }
 ],
 "metadata": {
  "kernelspec": {
   "display_name": "Python 3",
   "language": "python",
   "name": "python3"
  },
  "language_info": {
   "codemirror_mode": {
    "name": "ipython",
    "version": 3
   },
   "file_extension": ".py",
   "mimetype": "text/x-python",
   "name": "python",
   "nbconvert_exporter": "python",
   "pygments_lexer": "ipython3",
   "version": "3.7.4"
  }
 },
 "nbformat": 4,
 "nbformat_minor": 2
}
