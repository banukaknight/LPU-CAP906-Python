{
 "cells": [
  {
   "cell_type": "code",
   "execution_count": 2,
   "metadata": {},
   "outputs": [
    {
     "name": "stdout",
     "output_type": "stream",
     "text": [
      "\n",
      "Enter a number: 5\n",
      "5! factorial = 120\n",
      "Trailing zeros in factorial is : 1\n",
      "To Run again type: 'y' to Exit: 'n': y\n",
      "\n",
      "Enter a number: 8\n",
      "8! factorial = 40320\n",
      "Trailing zeros in factorial is : 1\n",
      "To Run again type: 'y' to Exit: 'n': y\n",
      "\n",
      "Enter a number: 30\n",
      "30! factorial = 265252859812191058636308480000000\n",
      "Trailing zeros in factorial is : 7\n",
      "To Run again type: 'y' to Exit: 'n': n\n"
     ]
    }
   ],
   "source": [
    "#Q1: Write a Python program to find the number of zeros at the end of a factorial of a given positive number. \n",
    "## Error handling included: using string reverese & iterate. Looping program.\n",
    "choice = \"y\";\n",
    "\n",
    "while choice==\"y\":\n",
    "    try:\n",
    "        var1_int = int(input(\"\\nEnter a number: \"))\n",
    "    except:\n",
    "        print (\"Unexpected input.\")\n",
    "        choice = input(\"To Run again type: 'y' to Exit: 'n': \") \n",
    "        continue\n",
    "        \n",
    "    if var1_int < 0:\n",
    "        print (\"Negative integer found.\")\n",
    "        choice = input(\"To Run again type: 'y' to Exit: 'n': \") \n",
    "        continue\n",
    "        \n",
    "    var_fact = 1\n",
    "    for i in range (1,var1_int+1):\n",
    "        var_fact *= i\n",
    "    \n",
    "    print (\"{}! factorial = {}\" .format(var1_int, var_fact) )\n",
    "    \n",
    "    var_fact = str(var_fact)\n",
    "    var_fact_rev = var_fact[::-1]\n",
    "    trail_zeros = 0\n",
    "    \n",
    "    for i in var_fact_rev:\n",
    "        if i == \"0\":\n",
    "            trail_zeros += 1\n",
    "        else:\n",
    "            break\n",
    "   \n",
    "    print (\"Trailing zeros in factorial is :\", trail_zeros)\n",
    "    \n",
    "    choice = input(\"To Run again type: 'y' to Exit: 'n': \") \n"
   ]
  },
  {
   "cell_type": "code",
   "execution_count": 29,
   "metadata": {},
   "outputs": [
    {
     "name": "stdout",
     "output_type": "stream",
     "text": [
      "\n",
      "Enter a positive number: -5\n",
      "Lets find Factorial of : 5\n",
      "Factorial is : 120\n",
      "Trailing-zero count in factorial is : 1\n"
     ]
    }
   ],
   "source": [
    "#Q1: Write a Python program to find the number of zeros at the end of a factorial of a given positive number. \n",
    "## Calculate factorial & then remove trailing-zeros using mod operator\n",
    "\n",
    "# get user input, convert to positive integer\n",
    "var1_int = abs( int( input(\"\\nEnter a positive number: \")) )\n",
    "\n",
    "print (\"Lets find Factorial of :\", var1_int)\n",
    "\n",
    "var_fact = 1 #set default factorial as 1\n",
    "#calculate factorial using simple for loop\n",
    "for i in range (1,var1_int+1):\n",
    "    var_fact *= i\n",
    "\n",
    "print (\"Factorial is :\", var_fact)\n",
    "    \n",
    "trail_zeros = 0 #set default trailing_zero-count as 0\n",
    "#a while loop that only execute while factorial_value is divisble by 10\n",
    "while var_fact%10 == 0:\n",
    "    trail_zeros += 1 #enverytime loop run, increment\n",
    "    var_fact = var_fact//10 #everytime loop run, remove last zero\n",
    "    \n",
    "print (\"Trailing-zero count in factorial is :\", trail_zeros)"
   ]
  },
  {
   "cell_type": "code",
   "execution_count": 34,
   "metadata": {
    "scrolled": true
   },
   "outputs": [
    {
     "name": "stdout",
     "output_type": "stream",
     "text": [
      "Enter string to process: BBBBBBBBBBBBBBBBBBBBBBBBBBBB\n",
      "Enter char to search for: b\n",
      "Char 'b' was found 0 times in the given string.\n",
      "Index list: []\n"
     ]
    }
   ],
   "source": [
    "#Q2. Write a Python program to print the index of the character in a string. \n",
    "#In case characters are repeated, index of all characters must be printed.\n",
    "## case sensitive program to find specified char in a given string\n",
    "\n",
    "var1_string = input(\"Enter string to process: \")\n",
    "var2_char = input(\"Enter char to search for: \")\n",
    "var2_char = var2_char[0] #only take first character of user input\n",
    "\n",
    "index_list = []\n",
    "\n",
    "#loop through string using index and compare each char\n",
    "for i in range (0,len(var1_string)):\n",
    "    if var1_string[i] == var2_char:\n",
    "        #add index to an array if char matches\n",
    "        index_list.append(i)\n",
    "        \n",
    "print(\"Char '{}' was found {} times in the given string.\" .format( var2_char, len(index_list) ))\n",
    "print(\"Index list:\", index_list)"
   ]
  },
  {
   "cell_type": "code",
   "execution_count": null,
   "metadata": {},
   "outputs": [],
   "source": [
    "#Q3. Write a Python program to reverse the digits of a given number and \n",
    "#add it to the original, If the sum is not a palindrome repeat this procedure.\n",
    "\n",
    "#function isPalindrome - check if integer value is a palindrome\n",
    "#return True of it isPalindrome else: False \n",
    "def isPalindrome(val_int):\n",
    "    val_str = str(val_int) #convert int to string\n",
    "    val_rev = val_str[::-1] #reverese string\n",
    "    print (\"Comparing {} and {}.\" .format(val_rev, val_str))\n",
    "    if val_rev == val_str: #compare input and reverese\n",
    "        return True\n",
    "    else:\n",
    "        return False\n",
    "\n",
    "#function addReverese - takes int value, reverese it and \n",
    "#add to original int, return sum\n",
    "def addReverese(val_int):\n",
    "    val_str = str(val_int) #convert int to string\n",
    "    val_rev = val_str[::-1] #reverese string\n",
    "    added_int = val_int + int(val_rev) #get sum\n",
    "    return added_int\n",
    "\n",
    "val1_int = int(input(\"Enter an integer: \"))\n",
    "\n",
    "val1_int = addReverese(val1_int)\n",
    "\n",
    "while( not isPalindrome(val1_int) ):\n",
    "    val1_int = addReverese(val1_int)\n",
    "    \n",
    "print( \"Output: \",val1_int )\n",
    "    "
   ]
  },
  {
   "cell_type": "code",
   "execution_count": null,
   "metadata": {},
   "outputs": [],
   "source": []
  },
  {
   "cell_type": "code",
   "execution_count": null,
   "metadata": {},
   "outputs": [],
   "source": []
  }
 ],
 "metadata": {
  "kernelspec": {
   "display_name": "Python 3",
   "language": "python",
   "name": "python3"
  },
  "language_info": {
   "codemirror_mode": {
    "name": "ipython",
    "version": 3
   },
   "file_extension": ".py",
   "mimetype": "text/x-python",
   "name": "python",
   "nbconvert_exporter": "python",
   "pygments_lexer": "ipython3",
   "version": "3.7.4"
  }
 },
 "nbformat": 4,
 "nbformat_minor": 2
}
