{
 "cells": [
  {
   "cell_type": "markdown",
   "metadata": {},
   "source": [
    "# d200810 new week"
   ]
  },
  {
   "cell_type": "code",
   "execution_count": null,
   "metadata": {},
   "outputs": [
    {
     "name": "stdout",
     "output_type": "stream",
     "text": [
      "enter 1st num: 5\n",
      "enter 2nd num: 7\n",
      "12\n"
     ]
    }
   ],
   "source": [
    "#operators\n",
    "\n",
    "val1 = input(\"enter 1st num: \")\n",
    "val2 = input(\"enter 2nd num: \")\n",
    "\n",
    "def addthis (a,b):\n",
    "    return int(a)+int(b)\n",
    "\n",
    "valsum = addthis(val1,val2)\n",
    "\n",
    "print (valsum)\n",
    "\n",
    "############\n",
    "\n",
    "a = int(input(\"Enter First Number \"))\n",
    "b=  int(input(\"Enter Second Number \"))\n",
    "c= a+b\n",
    "d=a*b\n",
    "e= a-b\n",
    "f=a/b\n",
    "g=a%b\n",
    "h=a**b\n",
    "i=a//b\n",
    "\n",
    "print(\"Sum of two numbers Is \", c)\n",
    "print(\"Multiplication of two numbers Is\",d)\n",
    "print(\"Subtraction of two numbers Is \", e)\n",
    "print(\"Division of two numbers Is \", f)\n",
    "print(\"Modulus of two numbers Is \", g)\n",
    "print(\"Exponentiation of two numbers Is \", h)\n",
    "print(\"Floor Division of two numbers Is \", i)"
   ]
  },
  {
   "cell_type": "code",
   "execution_count": 7,
   "metadata": {},
   "outputs": [
    {
     "name": "stdout",
     "output_type": "stream",
     "text": [
      "enter any number400\n",
      "410\n",
      "400\n",
      "4000\n",
      "400.0\n",
      "0.0\n",
      "0.0\n"
     ]
    }
   ],
   "source": [
    "#assignment operators\n",
    "\n",
    "var1=int(input(\"enter any number\"))\n",
    "#var1=var1 + 10 \n",
    "var1+=10\n",
    "print(var1)\n",
    "#var1=var1 - 10 \n",
    "var1-=10\n",
    "#var1=var1 * 10 \n",
    "print(var1)\n",
    "var1*=10\n",
    "#var1=var1 / 10 \n",
    "print(var1)\n",
    "var1/=10\n",
    "#var1=var1 % 10 \n",
    "print(var1)\n",
    "var1%=10\n",
    "#var1=var1 // 10 \n",
    "print(var1)\n",
    "var1//=10\n",
    "print(var1)\n",
    "\n"
   ]
  },
  {
   "cell_type": "markdown",
   "metadata": {},
   "source": [
    "a = int(input(\"enter any number\"))\n",
    "b = int(input(\"enter any number\"))\n",
    "c = a+b\n",
    "Print( \"Sum of \", a, \" and \", b, \" is \",c)"
   ]
  },
  {
   "cell_type": "code",
   "execution_count": 2,
   "metadata": {},
   "outputs": [
    {
     "name": "stdout",
     "output_type": "stream",
     "text": [
      "enter any number 5\n",
      "enter any number 9\n",
      "1>Sum of 5 and 9 is 14 Yey!\n",
      "2>Sum of 5 and 9 is 14 Yey!\n",
      "3>Sum of 5 and 9 is 14 Yey!\n",
      "4>Sum of 9 and 5 is 14 Yey!\n",
      "5>Sum of 5 and 9 is 14 Yey!\n"
     ]
    }
   ],
   "source": [
    "a = int(input(\"enter any number \"))\n",
    "b = int(input(\"enter any number \"))\n",
    "c = a+b\n",
    "d = \"Yey!\"\n",
    "print( \"1>Sum of\", a, \"and\", b, \"is\",c, d)\n",
    "print( \"2>Sum of\", a, \"and\", b, \"is\", a+b, d)\n",
    "print( \"3>Sum of {} and {} is {} {}\".format(a,b,c,d))\n",
    "print( \"4>Sum of {1} and {0} is {2} {3}\".format(a,b,c,d))\n",
    "print( \"5>Sum of %d and %d is %d %s\"%(a,b,c,d))\n",
    "\n"
   ]
  },
  {
   "cell_type": "markdown",
   "metadata": {},
   "source": [
    "# d200811"
   ]
  },
  {
   "cell_type": "code",
   "execution_count": 8,
   "metadata": {},
   "outputs": [
    {
     "name": "stdout",
     "output_type": "stream",
     "text": [
      "datacamp,tutorial,on,python,print,function\n",
      "datacamp\n",
      "\n",
      "tutorial\n",
      "\n",
      "on\n",
      "\n",
      "function\n"
     ]
    }
   ],
   "source": [
    "print('datacamp','tutorial','on','python','print','function',sep=',')\n",
    "\n",
    "print('datacamp','tutorial','on','function',sep='\\n\\n')"
   ]
  },
  {
   "cell_type": "code",
   "execution_count": 25,
   "metadata": {},
   "outputs": [
    {
     "name": "stdout",
     "output_type": "stream",
     "text": [
      "enter any number a: 7\n",
      "enter any number b: 8\n",
      "Status of a > b False\n",
      "Status of a < b True\n",
      "Status of a >= b False\n",
      "Status of a >= b True\n",
      "Status of a != b (not op) True\n",
      "Status of c == d True\n",
      "Status of c === d (is op) False\n"
     ]
    }
   ],
   "source": [
    "#operators\n",
    "a = int(input(\"enter any number a: \"))\n",
    "b = int(input(\"enter any number b: \"))\n",
    "c = 1\n",
    "d = True\n",
    "# < , > , >= , <=, !=\n",
    "\n",
    "\n",
    "print(\"Status of a > b\", a>b ) #TRUE or FALSE\n",
    "print(\"Status of a < b\", a<b ) #TRUE or FALSE\n",
    "print(\"Status of a >= b\", a>=b ) #TRUE or FALSE\n",
    "print(\"Status of a >= b\", a<=b ) #TRUE or FALSE\n",
    "print(\"Status of a != b (not op)\", a!=b ) #TRUE or FALSE\n",
    "\n",
    "\n",
    "print(\"Status of c == d\", c==d ) #TRUE or FALSE #value comparison \n",
    "print(\"Status of c === d (is op)\", c is d ) #TRUE or FALSE #object comparison\n"
   ]
  },
  {
   "cell_type": "code",
   "execution_count": null,
   "metadata": {},
   "outputs": [],
   "source": [
    "#operators - LOGICAL OPERATORS\n",
    "a = int(input(\"enter any number a: \"))\n",
    "b = int(input(\"enter any number b: \"))\n",
    "\n",
    "#and, or not\n",
    "\n",
    "print(\"Status of a>b && a<100\", a>b and a<100) #TRUE or FALSE\n",
    "print(\"Status of a>b || a<100\", a>b or a<100) #TRUE or FALSE\n",
    "\n",
    "print(\"Status of !(a > b)\", not(a > b) ) #TRUE or FALSE\n",
    "\n"
   ]
  },
  {
   "cell_type": "code",
   "execution_count": 3,
   "metadata": {},
   "outputs": [
    {
     "name": "stdout",
     "output_type": "stream",
     "text": [
      "operators - identity specification\n",
      "True\n",
      "False\n",
      "True\n",
      "True\n",
      "\n",
      "array object\n",
      "True\n",
      "True\n",
      "True\n",
      "\n",
      "operators - membership specification\n",
      "False\n",
      "True\n",
      "True\n"
     ]
    }
   ],
   "source": [
    "print(\"operators - identity specification\")\n",
    "val1 = 0\n",
    "val2 = False\n",
    "val3 = 0\n",
    "print(val1 == val2)\n",
    "print(val1 is val2)\n",
    "print(val1 == val3)\n",
    "print(val1 is val3)\n",
    "\n",
    "print(\"\")\n",
    "print(\"array object\")\n",
    "var_list1 = [\"a\",\"b\",\"c\"]\n",
    "var_list2 = [\"a\",\"b\",\"c\"]\n",
    "var_list3 = var_list2\n",
    "print(var_list1 == var_list2)\n",
    "print(var_list2 is var_list2)\n",
    "print(\"\")\n",
    "print(var_list2 == var_list3)\n",
    "print(var_list2 is var_list3)\n",
    "print(\"\")\n",
    "\n",
    "print(\"operators - membership specification\")\n",
    "print(\"a\" in var_list1 )\n",
    "print(\"ab\" in var_list1 )\n",
    "print(\"a\" not in var_list1 )\n"
   ]
  },
  {
   "cell_type": "code",
   "execution_count": 16,
   "metadata": {},
   "outputs": [
    {
     "name": "stdout",
     "output_type": "stream",
     "text": [
      "------indented if statment-------\n",
      "10 is bigger than 5\n",
      "------single line if statment-------\n",
      "10 is bigger than 5\n",
      "-------------\n",
      "10 is bigger than 5\n",
      "--------short hand. single line-----\n",
      "10 is bigger than 5\n"
     ]
    }
   ],
   "source": [
    "#PROGRAM FLOW CONTROL - if ifelse statments #d200812\n",
    "\n",
    "a = 10\n",
    "b = 5\n",
    "c = 7\n",
    "\n",
    "print(\"------indented if statment-------\")   \n",
    "if a>b:\n",
    "    print(a, \"is bigger than\", b)\n",
    "    \n",
    "print(\"------single line if statment-------\")    \n",
    "# if c<a:\n",
    "# {print(c, \"is smaller than\", a)\n",
    "# } ##### NEED indentation. curly bracket make no difference\n",
    "\n",
    "print(a, \"is bigger than\", b) if a>b else print(\"\")\n",
    "    \n",
    "print(\"-------------\") \n",
    "\n",
    "if a<b:\n",
    "    print(a, \"is smaller than\", b)\n",
    "elif a==b:\n",
    "    print(a, \"is equal to\", b)\n",
    "else:\n",
    "    print(a, \"is bigger than\", b)\n",
    "    \n",
    "print(\"--------short hand. single line-----\") \n",
    "\n",
    "print(a, \"is smaller than\", b) if a<b else print(a, \"is equal to\", b) if a==b else print(a, \"is bigger than\", b)"
   ]
  },
  {
   "cell_type": "code",
   "execution_count": 2,
   "metadata": {},
   "outputs": [
    {
     "name": "stdout",
     "output_type": "stream",
     "text": [
      "enter any number a: 4\n",
      "enter any number b: 7\n",
      "4 is not bigger than 7\n",
      "4 is EVEN\n"
     ]
    }
   ],
   "source": [
    "#d200813 jumping statments\n",
    "# continue break pass\n",
    "\n",
    "a = int(input(\"enter any number a: \"))\n",
    "b = int(input(\"enter any number b: \"))\n",
    "\n",
    "if a>b :\n",
    "    print(a, \" > \", b)\n",
    "else :\n",
    "    print(a , \"is not bigger than\", b)\n",
    "\n",
    "print(\"----------\")\n",
    "\n",
    "if (a%2 == 0):\n",
    "     print(a, \"is EVEN\")\n",
    "else:\n",
    "    print(a, \"is ODD\")\n",
    "    "
   ]
  },
  {
   "cell_type": "code",
   "execution_count": 4,
   "metadata": {},
   "outputs": [
    {
     "name": "stdout",
     "output_type": "stream",
     "text": [
      "enter held: 40\n",
      "enter attended: 20\n",
      "presentage: 50.0 %\n",
      "Only allowed to sit for practicles\n"
     ]
    }
   ],
   "source": [
    "#num of class held\n",
    "#num of class attended\n",
    "#pesentage of classes attended\n",
    "\n",
    "held = int(input(\"enter held: \"))\n",
    "attnd = int(input(\"enter attended: \"))\n",
    "\n",
    "presnt = (attnd)*100/held\n",
    "print(\"presentage:\", presnt,\"%\")\n",
    "\n",
    "if (presnt>=75):\n",
    "    print(\"Able to take all exams\")\n",
    "elif (presnt>=40):\n",
    "    print(\"Only allowed to sit for practicles\")\n",
    "else:\n",
    "    print(\"Unable to write exam\")\n"
   ]
  },
  {
   "cell_type": "code",
   "execution_count": 1,
   "metadata": {},
   "outputs": [
    {
     "name": "stdout",
     "output_type": "stream",
     "text": [
      "Enter First Number: 4\n",
      "Enter Second Number: 6\n",
      "b is greater than a\n"
     ]
    }
   ],
   "source": [
    "# Program Flow Control using if, if else - short hand notation - 2\n",
    "a= int(input(\"Enter First Number: \"))\n",
    "b= int(input(\"Enter Second Number: \"))\n",
    "print(\"a is greater than b\") if a > b else print(\"b is greater than a\") # we are checki\n"
   ]
  },
  {
   "cell_type": "code",
   "execution_count": null,
   "metadata": {},
   "outputs": [],
   "source": [
    "# Program Flow Control using if, if else - cont.. pass\n",
    "a= int(input(\"Enter First Number: \"))\n",
    "b= int(input(\"Enter Second Number: \"))\n",
    "if a > b:\n",
    "# how to skip the execution of this section i.e. True case\n",
    "pass\n",
    "else:\n",
    "print(\"b is greater than a\")"
   ]
  }
 ],
 "metadata": {
  "kernelspec": {
   "display_name": "Python 3",
   "language": "python",
   "name": "python3"
  },
  "language_info": {
   "codemirror_mode": {
    "name": "ipython",
    "version": 3
   },
   "file_extension": ".py",
   "mimetype": "text/x-python",
   "name": "python",
   "nbconvert_exporter": "python",
   "pygments_lexer": "ipython3",
   "version": "3.7.4"
  }
 },
 "nbformat": 4,
 "nbformat_minor": 2
}
