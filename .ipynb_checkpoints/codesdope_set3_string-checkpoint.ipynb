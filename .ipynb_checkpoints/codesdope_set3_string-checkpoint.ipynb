{
 "cells": [
  {
   "cell_type": "markdown",
   "metadata": {},
   "source": [
    "Level 1\n",
    "1.\n",
    "Write a program to print every character of a string entered by user in a new line using loop.\n",
    "2.\n",
    "Write a program to find the length of the string \"refrigerator\" without using len function.\n",
    "3.\n",
    "Write a program to check if the letter 'e' is present in the word 'Umbrella'.\n",
    "4.\n",
    "Write a program to check if the word 'orange' is present in the \"This is orange juice\".\n",
    "5.\n",
    "Write a program to find the first and the last occurence of the letter 'o' and character ',' in \"Hello, World\".\n",
    "6.\n",
    "Write the string after the first occurrence of ',' and the string after the last occurrence of ',' in the string \"Hello, Good, Morning\". World\".\n",
    "7.\n",
    "Write a program that takes your full name as input and displays the abbreviations of the first and middle names except the last name which is displayed as it is. For example, if your name is Robert Brett Roser, then the output should be R.B.Roser.\n",
    "8.\n",
    "Check the occurrence of the letter 'e' and the word 'is' in the sentence \"This is umbrella\".\n",
    "9.\n",
    "Write a program to find the number of vowels, consonents, digits and white space characters in a string.\n",
    "10.\n",
    "Write a program to make a new string with all the consonents deleted from the string \"Hello, have a good day\".\n",
    "-------\n",
    "Level 2\n",
    "1.\n",
    "Write a program to find out the largest and smallest word in the string \"This is an umbrella\".\n",
    "2.\n",
    "Write a program to check if a given string is a Palindrome.\n",
    "A palindrome reads same from front and back e.g.- aba, ccaacc, mom, etc.\n",
    "3.\n",
    "Write down the names of 10 of your friends in a list and then sort those in alphabetically ascending order.\n",
    "4.\n",
    "Write a program to make a new string with the word \"the\" deleted in the sentence \"This is the lion in the cage\".\n",
    "5.\n",
    "Write a program to check if the two strings entered by user are anagrams or not. Two words are said to be anagrams if the letters of one word can be rearranged to form the other word. For example, jaxa and ajax are anagrams of each other.\n"
   ]
  },
  {
   "cell_type": "code",
   "execution_count": 6,
   "metadata": {},
   "outputs": [
    {
     "name": "stdout",
     "output_type": "stream",
     "text": [
      "Enter string: Hel oo\n",
      "String = Hel oo\n",
      "H\n",
      "e\n",
      "l\n",
      " \n",
      "o\n",
      "o\n",
      "Length is: 6\n"
     ]
    }
   ],
   "source": [
    "var1 = input(\"Enter string: \")\n",
    "strlen = 0\n",
    "print(\"String =\",var1)\n",
    "for i in var1:\n",
    "    strlen +=1\n",
    "    print(i)\n",
    "    \n",
    "print(\"Length is:\", strlen)"
   ]
  },
  {
   "cell_type": "code",
   "execution_count": 8,
   "metadata": {},
   "outputs": [],
   "source": [
    "var1 = \"Umbrella\"\n",
    "indx = var1.find('e')\n",
    "if indx!=-1 :\n",
    "    print (\"letter e found in string\")"
   ]
  },
  {
   "cell_type": "code",
   "execution_count": 14,
   "metadata": {},
   "outputs": [
    {
     "name": "stdout",
     "output_type": "stream",
     "text": [
      "First Occorence of o at index: 4\n",
      "Last Occorence of o at index: 11\n"
     ]
    }
   ],
   "source": [
    "var1 = 'Hello, Worlod'\n",
    "firstindx = -1\n",
    "lastindx = -1\n",
    "for i in range (0,len(var1)):\n",
    "    if var1[i] == 'o':\n",
    "        if firstindx == -1:\n",
    "            firstindx = i\n",
    "        else:\n",
    "            lastindx = i\n",
    "\n",
    "if lastindx == -1:\n",
    "    lastindx = firstindx\n",
    "    \n",
    "print(\"First Occorence of o at index:\", firstindx)\n",
    "print(\"Last Occorence of o at index:\", lastindx)\n"
   ]
  },
  {
   "cell_type": "code",
   "execution_count": 21,
   "metadata": {},
   "outputs": [
    {
     "name": "stdout",
     "output_type": "stream",
     "text": [
      "['James', 'Goldwin', 'Amaing', 'Bond']\n",
      "J.G.A.Bond\n"
     ]
    }
   ],
   "source": [
    "var1 = \"James Goldwin Amaing Bond\"\n",
    "slice1 = var1.split(\" \")\n",
    "print (slice1)\n",
    "nameout = \"\"\n",
    "\n",
    "for i in range(0,len(slice1)-1):\n",
    "    nameout += slice1[i][0] + \".\"\n",
    "    \n",
    "nameout += slice1[len(slice1)-1]\n",
    "print (nameout)"
   ]
  },
  {
   "cell_type": "code",
   "execution_count": 25,
   "metadata": {},
   "outputs": [
    {
     "name": "stdout",
     "output_type": "stream",
     "text": [
      "String has 5 vowels, 6 consonents, 5 digits and 2 white-spaces.\n"
     ]
    }
   ],
   "source": [
    "var1 = \"Hello 123 Wold53AE\"\n",
    "vowels = \"aeiouAEIOU\"\n",
    "countspc = 0\n",
    "countdig = 0\n",
    "countvow = 0\n",
    "countcon = 0\n",
    "for i in var1:\n",
    "    if i ==\" \":\n",
    "        countspc +=1\n",
    "    elif i.isdigit():\n",
    "        countdig +=1\n",
    "    elif i.isalpha():\n",
    "        if i in vowels:\n",
    "            countvow += 1\n",
    "        else:\n",
    "            countcon += 1\n",
    "    \n",
    "        \n",
    "statement = \"String has {} vowels, {} consonents, {} digits and {} white-spaces.\"\n",
    "print(statement.format(countvow,countcon,countdig,countspc))\n",
    "        "
   ]
  },
  {
   "cell_type": "code",
   "execution_count": 27,
   "metadata": {},
   "outputs": [
    {
     "name": "stdout",
     "output_type": "stream",
     "text": [
      "eo ae a oo a\n"
     ]
    }
   ],
   "source": [
    "a = ['a','e','i','o','u','A','E','I','O','U',' ']\n",
    "b = \"Hello, have a good day\"\n",
    "for i in b:\n",
    "  if i not in a:\n",
    "    b = b[:b.index(i)]+b[b.index(i)+1:]\n",
    "print (b)"
   ]
  },
  {
   "cell_type": "code",
   "execution_count": 31,
   "metadata": {},
   "outputs": [
    {
     "name": "stdout",
     "output_type": "stream",
     "text": [
      "Smallest string: \"is\" and longest: \"umbrella\"\n"
     ]
    }
   ],
   "source": [
    "var1= \"This is an umbrella\"\n",
    "arr1 = var1.split(\" \")\n",
    "lrglen = 0\n",
    "lrgword =\"\"\n",
    "smllen = 100\n",
    "smlword =\"\"\n",
    "\n",
    "for word in arr1:\n",
    "    if len(word) > lrglen:\n",
    "        lrglen = len(word)\n",
    "        lrgword = word\n",
    "    if len(word) < smllen:\n",
    "        smllen = len(word)\n",
    "        smlword = word\n",
    "        \n",
    "print('Smallest string: \"{}\" and longest: \"{}\"'.format(smlword,lrgword))"
   ]
  },
  {
   "cell_type": "code",
   "execution_count": 55,
   "metadata": {},
   "outputs": [
    {
     "name": "stdout",
     "output_type": "stream",
     "text": [
      "String given is a Palindrome\n"
     ]
    }
   ],
   "source": [
    "##panlindrome check\n",
    "var1 = \"ccaacc\"\n",
    "result = \"is a\"\n",
    "for i in range(0, len(var1)):\n",
    "    if var1[i] != var1[-(i+1)]:\n",
    "        #print (var1[i] , var1[-(i+1)])\n",
    "        result = \"is not a\"\n",
    "        break\n",
    "        \n",
    "print(\"String given {} Palindrome\".format(result))"
   ]
  },
  {
   "cell_type": "code",
   "execution_count": null,
   "metadata": {},
   "outputs": [],
   "source": [
    "a = \"This is the lion in the cage\"\n",
    "a = a.split()\n",
    "for i in a:\n",
    "  if i == \"the\":\n",
    "    #a.index(i) will give the index of i in a\n",
    "    del(a[a.index(i)])\n",
    "print a\n",
    "print \" \".join(a)"
   ]
  },
  {
   "cell_type": "code",
   "execution_count": 62,
   "metadata": {},
   "outputs": [
    {
     "name": "stdout",
     "output_type": "stream",
     "text": [
      "Given string is an anagram\n"
     ]
    }
   ],
   "source": [
    "##anagram check\n",
    "var1 = \"jaxa\"\n",
    "var2 = \"ajax\"\n",
    "result = \"is an anagram\"\n",
    "if len(var1) != len(var2):\n",
    "    result =\"is NOT an anagram\"\n",
    "else:\n",
    "    for i in range(0,len(var1)):\n",
    "        letter = var1[i]\n",
    "        if var1.count(letter) != var2.count(letter):\n",
    "            result =\"NOT an anagram\"\n",
    "            break\n",
    "            \n",
    "print(\"Given string\",result)"
   ]
  },
  {
   "cell_type": "code",
   "execution_count": null,
   "metadata": {},
   "outputs": [],
   "source": []
  }
 ],
 "metadata": {
  "kernelspec": {
   "display_name": "Python 3",
   "language": "python",
   "name": "python3"
  },
  "language_info": {
   "codemirror_mode": {
    "name": "ipython",
    "version": 3
   },
   "file_extension": ".py",
   "mimetype": "text/x-python",
   "name": "python",
   "nbconvert_exporter": "python",
   "pygments_lexer": "ipython3",
   "version": "3.7.4"
  }
 },
 "nbformat": 4,
 "nbformat_minor": 2
}
