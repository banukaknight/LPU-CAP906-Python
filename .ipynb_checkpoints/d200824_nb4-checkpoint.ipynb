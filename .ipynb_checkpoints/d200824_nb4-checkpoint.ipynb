{
 "cells": [
  {
   "cell_type": "markdown",
   "metadata": {},
   "source": [
    "# d200824 new week"
   ]
  },
  {
   "cell_type": "code",
   "execution_count": null,
   "metadata": {},
   "outputs": [],
   "source": [
    "a = int(input(\"enter any number \"))\n",
    "print(a)\n",
    "print((a*10)+a)\n",
    "print((a*100)+(a*10)+a)\n",
    "print( (a*1000)+(a*100)+(a*10)+a)\n",
    "print(\"   TOtal: \", a + (a*10)+a + (a*100)+(a*10)+a + (a*1000)+(a*100)+(a*10)+a)\n"
   ]
  },
  {
   "cell_type": "code",
   "execution_count": null,
   "metadata": {},
   "outputs": [],
   "source": [
    "# Practice programs - 1\n",
    "# Write a python script to find area of circle\n",
    "from math import pi # namespace in python which helps to use in built methods/functions\n",
    "radius=float(input(\"Enter the value of radius: \")) # input to accept radius from user\n",
    "area=pi * radius**2 # short notation for calculation\n",
    "#print(\"Area of circle is\",area) # printing of area on screen\n",
    "print(\"Area of circle is {:.2f}\".format(area)) # printing of area on screen upto 2 dec"
   ]
  },
  {
   "cell_type": "code",
   "execution_count": null,
   "metadata": {},
   "outputs": [],
   "source": [
    "# Practice programs - 2\n",
    "# Write a python script to print current date time\n",
    "import datetime # namespace containing date time functions\n",
    "current = datetime.datetime.now() # to fetch current date and time\n",
    "print(current) # to print date and time\n",
    "print(current.strftime(\"%Y--%m--%d %H-%M-%S\")) # splitting current date and time into var"
   ]
  },
  {
   "cell_type": "code",
   "execution_count": null,
   "metadata": {},
   "outputs": [],
   "source": [
    "# Practice programs - 3\n",
    "# Write a python script to print repeated entities ( n + nn + nnn + nnnn )\n",
    "# User will input only single digit = 7\n",
    "# 7\n",
    "# 77\n",
    "# 777\n",
    "# 7777\n",
    "# ANS=7+77+777+7777\n",
    "n=int(input(\"Enter the value of n: \"))\n",
    "n1= int(\"%s\" %n) # first n\n",
    "n2= int(\"%s%s\" %(n,n)) # first nn\n",
    "n3= int(\"%s%s%s\" %(n,n,n)) # first nnn\n",
    "n4= int(\"%s%s%s%s\" %(n,n,n,n)) # first nnnn\n",
    "ans=n1+n2+n3+n4\n",
    "print(ans)\n"
   ]
  },
  {
   "cell_type": "code",
   "execution_count": null,
   "metadata": {},
   "outputs": [],
   "source": [
    "#d200825\n",
    "#ask user to input, caclulate difference against max: 50\n",
    "#if differnce > 30 return diff*diff\n",
    "# abs() function return positive valie\n",
    "\n",
    "n=int(input(\"Enter a value: \"))\n",
    "maxn = 50\n",
    "print (\"difference is\",maxn-n)\n",
    "#diff = abs(maxn-n)\n",
    "diff = (maxn-n)\n",
    "if diff > 30:\n",
    "    print (\"output\", diff*diff)\n",
    "else:\n",
    "    print (\"difference was below 30\")"
   ]
  },
  {
   "cell_type": "code",
   "execution_count": null,
   "metadata": {},
   "outputs": [],
   "source": [
    "#get 3 numbers. if they are not equal, calc sum\n",
    "#if equal, return sum*3\n",
    "n1=int(input(\"Enter a value 1: \"))\n",
    "n2=int(input(\"Enter a value 2: \"))\n",
    "n3=int(input(\"Enter a value 3: \"))\n",
    "\n",
    "if (n1==n2 and n2==n3):\n",
    "    print (\"three numbers are equal.\")\n",
    "    print (\"output: \", n1*3*3)\n",
    "else:\n",
    "    print (\"thee numbers are not equal.\")\n",
    "    print (\"sum is: \", n1+n2+n3)\n",
    "    \n",
    "print (\"------------------\")\n",
    "\n",
    "sums = n1+n2+n3\n",
    "\n",
    "if not(n1==n2 and n2==n3):\n",
    "    sums = sums*3\n",
    "    \n",
    "print (\"sum is: \", sums)"
   ]
  },
  {
   "cell_type": "code",
   "execution_count": null,
   "metadata": {},
   "outputs": [],
   "source": [
    "val1 = input(\"Enter a atring: \")\n",
    "\n",
    "vowels = ['a','e','i','o','u']\n",
    "\n",
    "for alp in vowels:\n",
    "    if (-1 != val1.find(alp) ):\n",
    "        print (\"vowel found in string: \",alp)\n",
    "        "
   ]
  },
  {
   "cell_type": "code",
   "execution_count": null,
   "metadata": {},
   "outputs": [],
   "source": [
    "all_vow = 'aeiouAEIOU'\n",
    "val1 = input(\"Enter a atring: \")\n",
    "vow_count = 0\n",
    "\n",
    "for vow in all_vow:\n",
    "    vow_count += val1.count(vow)\n",
    "    \n",
    "if vow_count >0:\n",
    "    print(\"String contains {} vowel(s)\".format(vow_count))\n",
    "else:\n",
    "    print(\"String had no vowels\")"
   ]
  },
  {
   "cell_type": "code",
   "execution_count": null,
   "metadata": {},
   "outputs": [],
   "source": [
    "#d200826\n",
    "#check if number is even or odd\n",
    "val1 = int(input(\"Enter a number: \"))\n",
    "\n",
    "if(val1%2==0):\n",
    "    print(\"Entered value {} is Even\".format(val1))\n",
    "else:\n",
    "    print(\"Entered value {} is Odd\".format(val1))\n"
   ]
  },
  {
   "cell_type": "code",
   "execution_count": null,
   "metadata": {},
   "outputs": [],
   "source": [
    "#d200827\n",
    "#calc area of traingle\n",
    "val1 = int(input(\"Enter base: \"))\n",
    "val2 = int(input(\"Enter height: \"))\n",
    "\n",
    "area = 0.5*val1*val2\n",
    "print(\"Area is : {}\".format(area))"
   ]
  },
  {
   "cell_type": "code",
   "execution_count": null,
   "metadata": {},
   "outputs": [],
   "source": [
    "print('(x+y)\\u00b2')\n",
    "print(' = x\\u00b2 + y\\u00b2 + 2xy')\n",
    "val1 = int(input(\"Enter x: \"))\n",
    "val2 = int(input(\"Enter y: \"))\n",
    "print( '(x+y)\\u00b2 = ', (val1+val2)**2 )"
   ]
  },
  {
   "cell_type": "code",
   "execution_count": 2,
   "metadata": {},
   "outputs": [
    {
     "name": "stdout",
     "output_type": "stream",
     "text": [
      "Enter low limit: 1\n",
      "Enter upper limit: 5\n",
      "\n",
      "\n",
      "1+2+3+4+5+ = 15\n",
      "Summ2 = 14\n"
     ]
    }
   ],
   "source": [
    "val1 = int(input(\"Enter low limit: \"))\n",
    "val2 = int(input(\"Enter upper limit: \"))\n",
    "summ = 0\n",
    "print(\"\\n\")\n",
    "if val1>val2:\n",
    "    val1,val2 = val2,val1\n",
    "\n",
    "\n",
    "    \n",
    "for i in range (val1,val2+1):\n",
    "    print(i, end='+')\n",
    "    summ += i\n",
    "    \n",
    "print (\" =\", summ)\n",
    "\n",
    "#to get same rerult without for loop: ##NOT CORRECT\n",
    "summ2 = (val2*(val2+1)*0.5) - (val1*(val1+1)*0.5)\n",
    "print (\"Summ2 =\", int(summ2))"
   ]
  },
  {
   "cell_type": "code",
   "execution_count": null,
   "metadata": {},
   "outputs": [],
   "source": []
  },
  {
   "cell_type": "code",
   "execution_count": null,
   "metadata": {},
   "outputs": [],
   "source": []
  }
 ],
 "metadata": {
  "kernelspec": {
   "display_name": "Python 3",
   "language": "python",
   "name": "python3"
  },
  "language_info": {
   "codemirror_mode": {
    "name": "ipython",
    "version": 3
   },
   "file_extension": ".py",
   "mimetype": "text/x-python",
   "name": "python",
   "nbconvert_exporter": "python",
   "pygments_lexer": "ipython3",
   "version": "3.7.4"
  }
 },
 "nbformat": 4,
 "nbformat_minor": 2
}
